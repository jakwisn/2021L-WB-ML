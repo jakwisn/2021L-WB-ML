{
 "cells": [
  {
   "cell_type": "code",
   "execution_count": 1,
   "metadata": {
    "scrolled": true
   },
   "outputs": [
    {
     "output_type": "stream",
     "name": "stderr",
     "text": [
      "C:\\Users\\matem\\Anaconda3\\envs\\wum-projekt1-presurvcovid19\\lib\\site-packages\\sklearn\\utils\\deprecation.py:143: FutureWarning: The sklearn.utils.testing module is  deprecated in version 0.22 and will be removed in version 0.24. The corresponding classes / functions should instead be imported from sklearn.utils. Anything that cannot be imported from sklearn.utils is now part of the private API.\n  warnings.warn(message, FutureWarning)\n"
     ]
    }
   ],
   "source": [
    "import pandas as pd \n",
    "import numpy as np\n",
    "from sklearn.model_selection import train_test_split\n",
    "import lazypredict\n",
    "from lazypredict.Supervised import LazyClassifier\n",
    "from copy import deepcopy"
   ]
  },
  {
   "cell_type": "markdown",
   "metadata": {},
   "source": [
    "### The Netherlands"
   ]
  },
  {
   "cell_type": "code",
   "execution_count": 10,
   "metadata": {},
   "outputs": [],
   "source": [
    "netherlands = pd.read_excel('../data/42256_2020_253_MOESM1_ESM.xlsx', engine = 'openpyxl')\n",
    "\n",
    "df = netherlands[[\"LD\", \"CRP\", \"Percentage lymphocytes\", \"Survival/death\"]]\n",
    "df = df.assign(death = np.where(df[\"Survival/death\"] == 'Alive', 0, 1))\n",
    "netherlands = df\n",
    "netherlands['from'] = 'netherlands'\n",
    "netherlands = netherlands.rename(columns = { 'Percentage lymphocytes':'Lymphocytes', 'LD':'LDH'})\n",
    "netherlands = netherlands[[\"LDH\", \"CRP\", \"Lymphocytes\", \"death\", \"from\"]]"
   ]
  },
  {
   "cell_type": "markdown",
   "metadata": {},
   "source": [
    "### China"
   ]
  },
  {
   "cell_type": "code",
   "execution_count": 14,
   "metadata": {},
   "outputs": [],
   "source": [
    "import sys\n",
    "sys.path.append(\"..\")\n",
    "china = pd.read_excel('../data/time_series_375_prerpocess_en.xlsx', engine = 'openpyxl')\n",
    "\n",
    "from raport_v1.utils_features_selection import data_read_and_split\n",
    "X_data_all_features, Y_data, x_col = data_read_and_split()\n",
    "cheng = {'乳酸脱氢酶':'LDH', '超敏C反应蛋白':'CRP', '淋巴细胞(%)':'Lymphocytes'}\n",
    "blood_df = X_data_all_features[list(cheng.keys())]\n",
    "blood_df.columns = list(cheng.values())\n",
    "china = blood_df\n",
    "china['death'] = Y_data\n",
    "china['from'] = 'china'\n",
    "china = china.reset_index(drop = True)"
   ]
  },
  {
   "cell_type": "markdown",
   "metadata": {},
   "source": [
    "### NY"
   ]
  },
  {
   "cell_type": "code",
   "execution_count": 19,
   "metadata": {},
   "outputs": [],
   "source": [
    "ny = pd.read_csv('~/Downloads/Yan_reply_First_last_wtime.csv')\n",
    "y_ny = ny.iloc[:,1]\n",
    "newyork = ny.iloc[:,[5,6,7]]\n",
    "newyork['death'] = y_ny\n",
    "newyork['from'] = 'newyork'\n",
    "newyork.columns = ['LDH', 'CRP', 'Lymphocytes', 'death', 'from']"
   ]
  },
  {
   "cell_type": "markdown",
   "metadata": {},
   "source": [
    "## Combining together"
   ]
  },
  {
   "cell_type": "code",
   "execution_count": 21,
   "metadata": {},
   "outputs": [],
   "source": [
    "nations = china.append([newyork, netherlands])\n",
    "nations['death'] = nations.death.astype('int')\n",
    "nations = nations.reset_index(drop=True)\n",
    "# nations.to_csv(\"all.csv\")"
   ]
  },
  {
   "cell_type": "code",
   "execution_count": 25,
   "metadata": {},
   "outputs": [
    {
     "output_type": "execute_result",
     "data": {
      "text/plain": [
       "     LDH   CRP  Lymphocytes  death   from\n",
       "0 206.00  2.60        25.90      0  china\n",
       "1 282.00 27.40         9.20      0  china\n",
       "2 226.00  3.60        27.30      0  china"
      ],
      "text/html": "<div>\n<style scoped>\n    .dataframe tbody tr th:only-of-type {\n        vertical-align: middle;\n    }\n\n    .dataframe tbody tr th {\n        vertical-align: top;\n    }\n\n    .dataframe thead th {\n        text-align: right;\n    }\n</style>\n<table border=\"1\" class=\"dataframe\">\n  <thead>\n    <tr style=\"text-align: right;\">\n      <th></th>\n      <th>LDH</th>\n      <th>CRP</th>\n      <th>Lymphocytes</th>\n      <th>death</th>\n      <th>from</th>\n    </tr>\n  </thead>\n  <tbody>\n    <tr>\n      <th>0</th>\n      <td>206.00</td>\n      <td>2.60</td>\n      <td>25.90</td>\n      <td>0</td>\n      <td>china</td>\n    </tr>\n    <tr>\n      <th>1</th>\n      <td>282.00</td>\n      <td>27.40</td>\n      <td>9.20</td>\n      <td>0</td>\n      <td>china</td>\n    </tr>\n    <tr>\n      <th>2</th>\n      <td>226.00</td>\n      <td>3.60</td>\n      <td>27.30</td>\n      <td>0</td>\n      <td>china</td>\n    </tr>\n  </tbody>\n</table>\n</div>"
     },
     "metadata": {},
     "execution_count": 25
    }
   ],
   "source": [
    "nations.head(3)"
   ]
  },
  {
   "source": [
    "### Lazypredict without country of origin"
   ],
   "cell_type": "markdown",
   "metadata": {}
  },
  {
   "cell_type": "code",
   "execution_count": 106,
   "metadata": {
    "scrolled": true
   },
   "outputs": [
    {
     "name": "stderr",
     "output_type": "stream",
     "text": [
      "100%|██████████| 29/29 [00:01<00:00, 20.11it/s]\n"
     ]
    }
   ],
   "source": [
    "# nations = pd.read_csv('all.csv')\n",
    "X = nations[['LDH','CRP','Lymphocytes']]\n",
    "X_train, X_test, y_train, y_test = train_test_split(X, nations.death, test_size = 0.25, random_state = 42)\n",
    "\n",
    "clf = LazyClassifier(verbose=0,ignore_warnings=True, custom_metric=None)\n",
    "models,predictions = clf.fit(X_train, X_test, y_train, y_test)\n",
    "models.to_csv(\"LazyClassifier_results.csv\")\n",
    "\n",
    "#print(models)"
   ]
  },
  {
   "cell_type": "code",
   "execution_count": 107,
   "metadata": {
    "scrolled": false
   },
   "outputs": [
    {
     "data": {
      "text/html": [
       "<div>\n",
       "<style scoped>\n",
       "    .dataframe tbody tr th:only-of-type {\n",
       "        vertical-align: middle;\n",
       "    }\n",
       "\n",
       "    .dataframe tbody tr th {\n",
       "        vertical-align: top;\n",
       "    }\n",
       "\n",
       "    .dataframe thead th {\n",
       "        text-align: right;\n",
       "    }\n",
       "</style>\n",
       "<table border=\"1\" class=\"dataframe\">\n",
       "  <thead>\n",
       "    <tr style=\"text-align: right;\">\n",
       "      <th></th>\n",
       "      <th>Accuracy</th>\n",
       "      <th>Balanced Accuracy</th>\n",
       "      <th>ROC AUC</th>\n",
       "      <th>F1 Score</th>\n",
       "      <th>Time Taken</th>\n",
       "    </tr>\n",
       "    <tr>\n",
       "      <th>Model</th>\n",
       "      <th></th>\n",
       "      <th></th>\n",
       "      <th></th>\n",
       "      <th></th>\n",
       "      <th></th>\n",
       "    </tr>\n",
       "  </thead>\n",
       "  <tbody>\n",
       "    <tr>\n",
       "      <th>AdaBoostClassifier</th>\n",
       "      <td>0.75</td>\n",
       "      <td>0.71</td>\n",
       "      <td>0.71</td>\n",
       "      <td>0.75</td>\n",
       "      <td>0.12</td>\n",
       "    </tr>\n",
       "    <tr>\n",
       "      <th>NearestCentroid</th>\n",
       "      <td>0.70</td>\n",
       "      <td>0.70</td>\n",
       "      <td>0.70</td>\n",
       "      <td>0.71</td>\n",
       "      <td>0.02</td>\n",
       "    </tr>\n",
       "    <tr>\n",
       "      <th>KNeighborsClassifier</th>\n",
       "      <td>0.73</td>\n",
       "      <td>0.69</td>\n",
       "      <td>0.69</td>\n",
       "      <td>0.73</td>\n",
       "      <td>0.02</td>\n",
       "    </tr>\n",
       "    <tr>\n",
       "      <th>NuSVC</th>\n",
       "      <td>0.73</td>\n",
       "      <td>0.69</td>\n",
       "      <td>0.69</td>\n",
       "      <td>0.73</td>\n",
       "      <td>0.10</td>\n",
       "    </tr>\n",
       "    <tr>\n",
       "      <th>ExtraTreesClassifier</th>\n",
       "      <td>0.73</td>\n",
       "      <td>0.69</td>\n",
       "      <td>0.69</td>\n",
       "      <td>0.73</td>\n",
       "      <td>0.15</td>\n",
       "    </tr>\n",
       "    <tr>\n",
       "      <th>RandomForestClassifier</th>\n",
       "      <td>0.73</td>\n",
       "      <td>0.68</td>\n",
       "      <td>0.68</td>\n",
       "      <td>0.73</td>\n",
       "      <td>0.20</td>\n",
       "    </tr>\n",
       "    <tr>\n",
       "      <th>Perceptron</th>\n",
       "      <td>0.66</td>\n",
       "      <td>0.68</td>\n",
       "      <td>0.68</td>\n",
       "      <td>0.67</td>\n",
       "      <td>0.01</td>\n",
       "    </tr>\n",
       "    <tr>\n",
       "      <th>BaggingClassifier</th>\n",
       "      <td>0.73</td>\n",
       "      <td>0.67</td>\n",
       "      <td>0.67</td>\n",
       "      <td>0.72</td>\n",
       "      <td>0.05</td>\n",
       "    </tr>\n",
       "    <tr>\n",
       "      <th>LabelPropagation</th>\n",
       "      <td>0.72</td>\n",
       "      <td>0.67</td>\n",
       "      <td>0.67</td>\n",
       "      <td>0.71</td>\n",
       "      <td>0.09</td>\n",
       "    </tr>\n",
       "    <tr>\n",
       "      <th>LabelSpreading</th>\n",
       "      <td>0.72</td>\n",
       "      <td>0.67</td>\n",
       "      <td>0.67</td>\n",
       "      <td>0.72</td>\n",
       "      <td>0.12</td>\n",
       "    </tr>\n",
       "    <tr>\n",
       "      <th>LGBMClassifier</th>\n",
       "      <td>0.71</td>\n",
       "      <td>0.67</td>\n",
       "      <td>0.67</td>\n",
       "      <td>0.71</td>\n",
       "      <td>0.07</td>\n",
       "    </tr>\n",
       "    <tr>\n",
       "      <th>XGBClassifier</th>\n",
       "      <td>0.71</td>\n",
       "      <td>0.67</td>\n",
       "      <td>0.67</td>\n",
       "      <td>0.71</td>\n",
       "      <td>0.05</td>\n",
       "    </tr>\n",
       "    <tr>\n",
       "      <th>SVC</th>\n",
       "      <td>0.74</td>\n",
       "      <td>0.67</td>\n",
       "      <td>0.67</td>\n",
       "      <td>0.72</td>\n",
       "      <td>0.04</td>\n",
       "    </tr>\n",
       "    <tr>\n",
       "      <th>LogisticRegression</th>\n",
       "      <td>0.73</td>\n",
       "      <td>0.66</td>\n",
       "      <td>0.66</td>\n",
       "      <td>0.72</td>\n",
       "      <td>0.03</td>\n",
       "    </tr>\n",
       "    <tr>\n",
       "      <th>BernoulliNB</th>\n",
       "      <td>0.70</td>\n",
       "      <td>0.66</td>\n",
       "      <td>0.66</td>\n",
       "      <td>0.70</td>\n",
       "      <td>0.01</td>\n",
       "    </tr>\n",
       "    <tr>\n",
       "      <th>GaussianNB</th>\n",
       "      <td>0.70</td>\n",
       "      <td>0.65</td>\n",
       "      <td>0.65</td>\n",
       "      <td>0.70</td>\n",
       "      <td>0.01</td>\n",
       "    </tr>\n",
       "    <tr>\n",
       "      <th>LinearSVC</th>\n",
       "      <td>0.73</td>\n",
       "      <td>0.65</td>\n",
       "      <td>0.65</td>\n",
       "      <td>0.71</td>\n",
       "      <td>0.08</td>\n",
       "    </tr>\n",
       "    <tr>\n",
       "      <th>CalibratedClassifierCV</th>\n",
       "      <td>0.72</td>\n",
       "      <td>0.64</td>\n",
       "      <td>0.64</td>\n",
       "      <td>0.70</td>\n",
       "      <td>0.15</td>\n",
       "    </tr>\n",
       "    <tr>\n",
       "      <th>QuadraticDiscriminantAnalysis</th>\n",
       "      <td>0.72</td>\n",
       "      <td>0.64</td>\n",
       "      <td>0.64</td>\n",
       "      <td>0.70</td>\n",
       "      <td>0.01</td>\n",
       "    </tr>\n",
       "    <tr>\n",
       "      <th>LinearDiscriminantAnalysis</th>\n",
       "      <td>0.72</td>\n",
       "      <td>0.64</td>\n",
       "      <td>0.64</td>\n",
       "      <td>0.70</td>\n",
       "      <td>0.02</td>\n",
       "    </tr>\n",
       "    <tr>\n",
       "      <th>DecisionTreeClassifier</th>\n",
       "      <td>0.67</td>\n",
       "      <td>0.64</td>\n",
       "      <td>0.64</td>\n",
       "      <td>0.67</td>\n",
       "      <td>0.01</td>\n",
       "    </tr>\n",
       "    <tr>\n",
       "      <th>RidgeClassifier</th>\n",
       "      <td>0.72</td>\n",
       "      <td>0.63</td>\n",
       "      <td>0.63</td>\n",
       "      <td>0.70</td>\n",
       "      <td>0.01</td>\n",
       "    </tr>\n",
       "    <tr>\n",
       "      <th>RidgeClassifierCV</th>\n",
       "      <td>0.72</td>\n",
       "      <td>0.63</td>\n",
       "      <td>0.63</td>\n",
       "      <td>0.70</td>\n",
       "      <td>0.01</td>\n",
       "    </tr>\n",
       "    <tr>\n",
       "      <th>SGDClassifier</th>\n",
       "      <td>0.72</td>\n",
       "      <td>0.62</td>\n",
       "      <td>0.62</td>\n",
       "      <td>0.69</td>\n",
       "      <td>0.01</td>\n",
       "    </tr>\n",
       "    <tr>\n",
       "      <th>ExtraTreeClassifier</th>\n",
       "      <td>0.65</td>\n",
       "      <td>0.61</td>\n",
       "      <td>0.61</td>\n",
       "      <td>0.65</td>\n",
       "      <td>0.01</td>\n",
       "    </tr>\n",
       "    <tr>\n",
       "      <th>PassiveAggressiveClassifier</th>\n",
       "      <td>0.44</td>\n",
       "      <td>0.50</td>\n",
       "      <td>0.50</td>\n",
       "      <td>0.44</td>\n",
       "      <td>0.01</td>\n",
       "    </tr>\n",
       "    <tr>\n",
       "      <th>DummyClassifier</th>\n",
       "      <td>0.52</td>\n",
       "      <td>0.46</td>\n",
       "      <td>0.46</td>\n",
       "      <td>0.52</td>\n",
       "      <td>0.01</td>\n",
       "    </tr>\n",
       "  </tbody>\n",
       "</table>\n",
       "</div>"
      ],
      "text/plain": [
       "                               Accuracy  Balanced Accuracy  ROC AUC  F1 Score  \\\n",
       "Model                                                                           \n",
       "AdaBoostClassifier                 0.75               0.71     0.71      0.75   \n",
       "NearestCentroid                    0.70               0.70     0.70      0.71   \n",
       "KNeighborsClassifier               0.73               0.69     0.69      0.73   \n",
       "NuSVC                              0.73               0.69     0.69      0.73   \n",
       "ExtraTreesClassifier               0.73               0.69     0.69      0.73   \n",
       "RandomForestClassifier             0.73               0.68     0.68      0.73   \n",
       "Perceptron                         0.66               0.68     0.68      0.67   \n",
       "BaggingClassifier                  0.73               0.67     0.67      0.72   \n",
       "LabelPropagation                   0.72               0.67     0.67      0.71   \n",
       "LabelSpreading                     0.72               0.67     0.67      0.72   \n",
       "LGBMClassifier                     0.71               0.67     0.67      0.71   \n",
       "XGBClassifier                      0.71               0.67     0.67      0.71   \n",
       "SVC                                0.74               0.67     0.67      0.72   \n",
       "LogisticRegression                 0.73               0.66     0.66      0.72   \n",
       "BernoulliNB                        0.70               0.66     0.66      0.70   \n",
       "GaussianNB                         0.70               0.65     0.65      0.70   \n",
       "LinearSVC                          0.73               0.65     0.65      0.71   \n",
       "CalibratedClassifierCV             0.72               0.64     0.64      0.70   \n",
       "QuadraticDiscriminantAnalysis      0.72               0.64     0.64      0.70   \n",
       "LinearDiscriminantAnalysis         0.72               0.64     0.64      0.70   \n",
       "DecisionTreeClassifier             0.67               0.64     0.64      0.67   \n",
       "RidgeClassifier                    0.72               0.63     0.63      0.70   \n",
       "RidgeClassifierCV                  0.72               0.63     0.63      0.70   \n",
       "SGDClassifier                      0.72               0.62     0.62      0.69   \n",
       "ExtraTreeClassifier                0.65               0.61     0.61      0.65   \n",
       "PassiveAggressiveClassifier        0.44               0.50     0.50      0.44   \n",
       "DummyClassifier                    0.52               0.46     0.46      0.52   \n",
       "\n",
       "                               Time Taken  \n",
       "Model                                      \n",
       "AdaBoostClassifier                   0.12  \n",
       "NearestCentroid                      0.02  \n",
       "KNeighborsClassifier                 0.02  \n",
       "NuSVC                                0.10  \n",
       "ExtraTreesClassifier                 0.15  \n",
       "RandomForestClassifier               0.20  \n",
       "Perceptron                           0.01  \n",
       "BaggingClassifier                    0.05  \n",
       "LabelPropagation                     0.09  \n",
       "LabelSpreading                       0.12  \n",
       "LGBMClassifier                       0.07  \n",
       "XGBClassifier                        0.05  \n",
       "SVC                                  0.04  \n",
       "LogisticRegression                   0.03  \n",
       "BernoulliNB                          0.01  \n",
       "GaussianNB                           0.01  \n",
       "LinearSVC                            0.08  \n",
       "CalibratedClassifierCV               0.15  \n",
       "QuadraticDiscriminantAnalysis        0.01  \n",
       "LinearDiscriminantAnalysis           0.02  \n",
       "DecisionTreeClassifier               0.01  \n",
       "RidgeClassifier                      0.01  \n",
       "RidgeClassifierCV                    0.01  \n",
       "SGDClassifier                        0.01  \n",
       "ExtraTreeClassifier                  0.01  \n",
       "PassiveAggressiveClassifier          0.01  \n",
       "DummyClassifier                      0.01  "
      ]
     },
     "execution_count": 107,
     "metadata": {},
     "output_type": "execute_result"
    }
   ],
   "source": [
    "models.sort_values(\"ROC AUC\", ascending = False)"
   ]
  },
  {
   "cell_type": "markdown",
   "metadata": {},
   "source": [
    "### Lazypredict with country of origin"
   ]
  },
  {
   "cell_type": "code",
   "execution_count": 108,
   "metadata": {},
   "outputs": [
    {
     "name": "stderr",
     "output_type": "stream",
     "text": [
      "100%|██████████| 29/29 [00:01<00:00, 17.86it/s]\n"
     ]
    },
    {
     "data": {
      "text/html": [
       "<div>\n",
       "<style scoped>\n",
       "    .dataframe tbody tr th:only-of-type {\n",
       "        vertical-align: middle;\n",
       "    }\n",
       "\n",
       "    .dataframe tbody tr th {\n",
       "        vertical-align: top;\n",
       "    }\n",
       "\n",
       "    .dataframe thead th {\n",
       "        text-align: right;\n",
       "    }\n",
       "</style>\n",
       "<table border=\"1\" class=\"dataframe\">\n",
       "  <thead>\n",
       "    <tr style=\"text-align: right;\">\n",
       "      <th></th>\n",
       "      <th>Accuracy</th>\n",
       "      <th>Balanced Accuracy</th>\n",
       "      <th>ROC AUC</th>\n",
       "      <th>F1 Score</th>\n",
       "      <th>Time Taken</th>\n",
       "    </tr>\n",
       "    <tr>\n",
       "      <th>Model</th>\n",
       "      <th></th>\n",
       "      <th></th>\n",
       "      <th></th>\n",
       "      <th></th>\n",
       "      <th></th>\n",
       "    </tr>\n",
       "  </thead>\n",
       "  <tbody>\n",
       "    <tr>\n",
       "      <th>RandomForestClassifier</th>\n",
       "      <td>0.78</td>\n",
       "      <td>0.74</td>\n",
       "      <td>0.74</td>\n",
       "      <td>0.78</td>\n",
       "      <td>0.21</td>\n",
       "    </tr>\n",
       "    <tr>\n",
       "      <th>XGBClassifier</th>\n",
       "      <td>0.77</td>\n",
       "      <td>0.73</td>\n",
       "      <td>0.73</td>\n",
       "      <td>0.77</td>\n",
       "      <td>0.06</td>\n",
       "    </tr>\n",
       "    <tr>\n",
       "      <th>LabelPropagation</th>\n",
       "      <td>0.77</td>\n",
       "      <td>0.73</td>\n",
       "      <td>0.73</td>\n",
       "      <td>0.77</td>\n",
       "      <td>0.10</td>\n",
       "    </tr>\n",
       "    <tr>\n",
       "      <th>BaggingClassifier</th>\n",
       "      <td>0.78</td>\n",
       "      <td>0.73</td>\n",
       "      <td>0.73</td>\n",
       "      <td>0.77</td>\n",
       "      <td>0.06</td>\n",
       "    </tr>\n",
       "    <tr>\n",
       "      <th>AdaBoostClassifier</th>\n",
       "      <td>0.77</td>\n",
       "      <td>0.73</td>\n",
       "      <td>0.73</td>\n",
       "      <td>0.76</td>\n",
       "      <td>0.13</td>\n",
       "    </tr>\n",
       "    <tr>\n",
       "      <th>LGBMClassifier</th>\n",
       "      <td>0.76</td>\n",
       "      <td>0.72</td>\n",
       "      <td>0.72</td>\n",
       "      <td>0.76</td>\n",
       "      <td>0.08</td>\n",
       "    </tr>\n",
       "    <tr>\n",
       "      <th>LabelSpreading</th>\n",
       "      <td>0.76</td>\n",
       "      <td>0.72</td>\n",
       "      <td>0.72</td>\n",
       "      <td>0.76</td>\n",
       "      <td>0.13</td>\n",
       "    </tr>\n",
       "    <tr>\n",
       "      <th>ExtraTreesClassifier</th>\n",
       "      <td>0.77</td>\n",
       "      <td>0.72</td>\n",
       "      <td>0.72</td>\n",
       "      <td>0.77</td>\n",
       "      <td>0.16</td>\n",
       "    </tr>\n",
       "    <tr>\n",
       "      <th>KNeighborsClassifier</th>\n",
       "      <td>0.76</td>\n",
       "      <td>0.72</td>\n",
       "      <td>0.72</td>\n",
       "      <td>0.75</td>\n",
       "      <td>0.03</td>\n",
       "    </tr>\n",
       "    <tr>\n",
       "      <th>NuSVC</th>\n",
       "      <td>0.78</td>\n",
       "      <td>0.71</td>\n",
       "      <td>0.71</td>\n",
       "      <td>0.76</td>\n",
       "      <td>0.06</td>\n",
       "    </tr>\n",
       "    <tr>\n",
       "      <th>GaussianNB</th>\n",
       "      <td>0.73</td>\n",
       "      <td>0.71</td>\n",
       "      <td>0.71</td>\n",
       "      <td>0.73</td>\n",
       "      <td>0.02</td>\n",
       "    </tr>\n",
       "    <tr>\n",
       "      <th>LogisticRegression</th>\n",
       "      <td>0.77</td>\n",
       "      <td>0.71</td>\n",
       "      <td>0.71</td>\n",
       "      <td>0.76</td>\n",
       "      <td>0.03</td>\n",
       "    </tr>\n",
       "    <tr>\n",
       "      <th>NearestCentroid</th>\n",
       "      <td>0.70</td>\n",
       "      <td>0.70</td>\n",
       "      <td>0.70</td>\n",
       "      <td>0.71</td>\n",
       "      <td>0.02</td>\n",
       "    </tr>\n",
       "    <tr>\n",
       "      <th>CalibratedClassifierCV</th>\n",
       "      <td>0.77</td>\n",
       "      <td>0.70</td>\n",
       "      <td>0.70</td>\n",
       "      <td>0.75</td>\n",
       "      <td>0.16</td>\n",
       "    </tr>\n",
       "    <tr>\n",
       "      <th>LinearDiscriminantAnalysis</th>\n",
       "      <td>0.77</td>\n",
       "      <td>0.70</td>\n",
       "      <td>0.70</td>\n",
       "      <td>0.76</td>\n",
       "      <td>0.03</td>\n",
       "    </tr>\n",
       "    <tr>\n",
       "      <th>SVC</th>\n",
       "      <td>0.77</td>\n",
       "      <td>0.70</td>\n",
       "      <td>0.70</td>\n",
       "      <td>0.76</td>\n",
       "      <td>0.05</td>\n",
       "    </tr>\n",
       "    <tr>\n",
       "      <th>ExtraTreeClassifier</th>\n",
       "      <td>0.73</td>\n",
       "      <td>0.70</td>\n",
       "      <td>0.70</td>\n",
       "      <td>0.73</td>\n",
       "      <td>0.02</td>\n",
       "    </tr>\n",
       "    <tr>\n",
       "      <th>LinearSVC</th>\n",
       "      <td>0.77</td>\n",
       "      <td>0.70</td>\n",
       "      <td>0.70</td>\n",
       "      <td>0.75</td>\n",
       "      <td>0.10</td>\n",
       "    </tr>\n",
       "    <tr>\n",
       "      <th>RidgeClassifier</th>\n",
       "      <td>0.77</td>\n",
       "      <td>0.68</td>\n",
       "      <td>0.68</td>\n",
       "      <td>0.75</td>\n",
       "      <td>0.02</td>\n",
       "    </tr>\n",
       "    <tr>\n",
       "      <th>RidgeClassifierCV</th>\n",
       "      <td>0.77</td>\n",
       "      <td>0.68</td>\n",
       "      <td>0.68</td>\n",
       "      <td>0.75</td>\n",
       "      <td>0.02</td>\n",
       "    </tr>\n",
       "    <tr>\n",
       "      <th>SGDClassifier</th>\n",
       "      <td>0.73</td>\n",
       "      <td>0.68</td>\n",
       "      <td>0.68</td>\n",
       "      <td>0.73</td>\n",
       "      <td>0.02</td>\n",
       "    </tr>\n",
       "    <tr>\n",
       "      <th>DecisionTreeClassifier</th>\n",
       "      <td>0.70</td>\n",
       "      <td>0.68</td>\n",
       "      <td>0.68</td>\n",
       "      <td>0.71</td>\n",
       "      <td>0.02</td>\n",
       "    </tr>\n",
       "    <tr>\n",
       "      <th>BernoulliNB</th>\n",
       "      <td>0.72</td>\n",
       "      <td>0.67</td>\n",
       "      <td>0.67</td>\n",
       "      <td>0.71</td>\n",
       "      <td>0.02</td>\n",
       "    </tr>\n",
       "    <tr>\n",
       "      <th>Perceptron</th>\n",
       "      <td>0.76</td>\n",
       "      <td>0.65</td>\n",
       "      <td>0.65</td>\n",
       "      <td>0.72</td>\n",
       "      <td>0.02</td>\n",
       "    </tr>\n",
       "    <tr>\n",
       "      <th>PassiveAggressiveClassifier</th>\n",
       "      <td>0.69</td>\n",
       "      <td>0.65</td>\n",
       "      <td>0.65</td>\n",
       "      <td>0.69</td>\n",
       "      <td>0.02</td>\n",
       "    </tr>\n",
       "    <tr>\n",
       "      <th>QuadraticDiscriminantAnalysis</th>\n",
       "      <td>0.65</td>\n",
       "      <td>0.52</td>\n",
       "      <td>0.52</td>\n",
       "      <td>0.59</td>\n",
       "      <td>0.02</td>\n",
       "    </tr>\n",
       "    <tr>\n",
       "      <th>DummyClassifier</th>\n",
       "      <td>0.52</td>\n",
       "      <td>0.46</td>\n",
       "      <td>0.46</td>\n",
       "      <td>0.52</td>\n",
       "      <td>0.02</td>\n",
       "    </tr>\n",
       "  </tbody>\n",
       "</table>\n",
       "</div>"
      ],
      "text/plain": [
       "                               Accuracy  Balanced Accuracy  ROC AUC  F1 Score  \\\n",
       "Model                                                                           \n",
       "RandomForestClassifier             0.78               0.74     0.74      0.78   \n",
       "XGBClassifier                      0.77               0.73     0.73      0.77   \n",
       "LabelPropagation                   0.77               0.73     0.73      0.77   \n",
       "BaggingClassifier                  0.78               0.73     0.73      0.77   \n",
       "AdaBoostClassifier                 0.77               0.73     0.73      0.76   \n",
       "LGBMClassifier                     0.76               0.72     0.72      0.76   \n",
       "LabelSpreading                     0.76               0.72     0.72      0.76   \n",
       "ExtraTreesClassifier               0.77               0.72     0.72      0.77   \n",
       "KNeighborsClassifier               0.76               0.72     0.72      0.75   \n",
       "NuSVC                              0.78               0.71     0.71      0.76   \n",
       "GaussianNB                         0.73               0.71     0.71      0.73   \n",
       "LogisticRegression                 0.77               0.71     0.71      0.76   \n",
       "NearestCentroid                    0.70               0.70     0.70      0.71   \n",
       "CalibratedClassifierCV             0.77               0.70     0.70      0.75   \n",
       "LinearDiscriminantAnalysis         0.77               0.70     0.70      0.76   \n",
       "SVC                                0.77               0.70     0.70      0.76   \n",
       "ExtraTreeClassifier                0.73               0.70     0.70      0.73   \n",
       "LinearSVC                          0.77               0.70     0.70      0.75   \n",
       "RidgeClassifier                    0.77               0.68     0.68      0.75   \n",
       "RidgeClassifierCV                  0.77               0.68     0.68      0.75   \n",
       "SGDClassifier                      0.73               0.68     0.68      0.73   \n",
       "DecisionTreeClassifier             0.70               0.68     0.68      0.71   \n",
       "BernoulliNB                        0.72               0.67     0.67      0.71   \n",
       "Perceptron                         0.76               0.65     0.65      0.72   \n",
       "PassiveAggressiveClassifier        0.69               0.65     0.65      0.69   \n",
       "QuadraticDiscriminantAnalysis      0.65               0.52     0.52      0.59   \n",
       "DummyClassifier                    0.52               0.46     0.46      0.52   \n",
       "\n",
       "                               Time Taken  \n",
       "Model                                      \n",
       "RandomForestClassifier               0.21  \n",
       "XGBClassifier                        0.06  \n",
       "LabelPropagation                     0.10  \n",
       "BaggingClassifier                    0.06  \n",
       "AdaBoostClassifier                   0.13  \n",
       "LGBMClassifier                       0.08  \n",
       "LabelSpreading                       0.13  \n",
       "ExtraTreesClassifier                 0.16  \n",
       "KNeighborsClassifier                 0.03  \n",
       "NuSVC                                0.06  \n",
       "GaussianNB                           0.02  \n",
       "LogisticRegression                   0.03  \n",
       "NearestCentroid                      0.02  \n",
       "CalibratedClassifierCV               0.16  \n",
       "LinearDiscriminantAnalysis           0.03  \n",
       "SVC                                  0.05  \n",
       "ExtraTreeClassifier                  0.02  \n",
       "LinearSVC                            0.10  \n",
       "RidgeClassifier                      0.02  \n",
       "RidgeClassifierCV                    0.02  \n",
       "SGDClassifier                        0.02  \n",
       "DecisionTreeClassifier               0.02  \n",
       "BernoulliNB                          0.02  \n",
       "Perceptron                           0.02  \n",
       "PassiveAggressiveClassifier          0.02  \n",
       "QuadraticDiscriminantAnalysis        0.02  \n",
       "DummyClassifier                      0.02  "
      ]
     },
     "execution_count": 108,
     "metadata": {},
     "output_type": "execute_result"
    }
   ],
   "source": [
    "# nations = pd.read_csv('all.csv')\n",
    "X = nations[['LDH','CRP','Lymphocytes', \"from\"]]\n",
    "X_train, X_test, y_train, y_test = train_test_split(X, nations.death, test_size = 0.25, random_state = 42)\n",
    "\n",
    "clf_2 = LazyClassifier(verbose=0,ignore_warnings=True, custom_metric=None)\n",
    "models_2,predictions_2 = clf_2.fit(X_train, X_test, y_train, y_test)\n",
    "models_2.sort_values(\"ROC AUC\", ascending = False)"
   ]
  },
  {
   "source": [
    "## DALEX"
   ],
   "cell_type": "markdown",
   "metadata": {}
  },
  {
   "cell_type": "code",
   "execution_count": 26,
   "metadata": {},
   "outputs": [],
   "source": [
    "import dalex as dx\n",
    "from sklearn.ensemble import ExtraTreesClassifier\n",
    "from sklearn.model_selection import GridSearchCV"
   ]
  },
  {
   "cell_type": "code",
   "execution_count": 118,
   "metadata": {},
   "outputs": [
    {
     "data": {
      "text/html": [
       "<div>\n",
       "<style scoped>\n",
       "    .dataframe tbody tr th:only-of-type {\n",
       "        vertical-align: middle;\n",
       "    }\n",
       "\n",
       "    .dataframe tbody tr th {\n",
       "        vertical-align: top;\n",
       "    }\n",
       "\n",
       "    .dataframe thead th {\n",
       "        text-align: right;\n",
       "    }\n",
       "</style>\n",
       "<table border=\"1\" class=\"dataframe\">\n",
       "  <thead>\n",
       "    <tr style=\"text-align: right;\">\n",
       "      <th></th>\n",
       "      <th>LDH</th>\n",
       "      <th>CRP</th>\n",
       "      <th>Lymphocytes</th>\n",
       "      <th>death</th>\n",
       "      <th>from</th>\n",
       "    </tr>\n",
       "  </thead>\n",
       "  <tbody>\n",
       "    <tr>\n",
       "      <th>0</th>\n",
       "      <td>206.00</td>\n",
       "      <td>2.60</td>\n",
       "      <td>25.90</td>\n",
       "      <td>0</td>\n",
       "      <td>china</td>\n",
       "    </tr>\n",
       "    <tr>\n",
       "      <th>1</th>\n",
       "      <td>282.00</td>\n",
       "      <td>27.40</td>\n",
       "      <td>9.20</td>\n",
       "      <td>0</td>\n",
       "      <td>china</td>\n",
       "    </tr>\n",
       "    <tr>\n",
       "      <th>2</th>\n",
       "      <td>226.00</td>\n",
       "      <td>3.60</td>\n",
       "      <td>27.30</td>\n",
       "      <td>0</td>\n",
       "      <td>china</td>\n",
       "    </tr>\n",
       "    <tr>\n",
       "      <th>3</th>\n",
       "      <td>249.00</td>\n",
       "      <td>14.50</td>\n",
       "      <td>16.50</td>\n",
       "      <td>0</td>\n",
       "      <td>china</td>\n",
       "    </tr>\n",
       "    <tr>\n",
       "      <th>4</th>\n",
       "      <td>179.00</td>\n",
       "      <td>0.80</td>\n",
       "      <td>23.60</td>\n",
       "      <td>0</td>\n",
       "      <td>china</td>\n",
       "    </tr>\n",
       "    <tr>\n",
       "      <th>...</th>\n",
       "      <td>...</td>\n",
       "      <td>...</td>\n",
       "      <td>...</td>\n",
       "      <td>...</td>\n",
       "      <td>...</td>\n",
       "    </tr>\n",
       "    <tr>\n",
       "      <th>1713</th>\n",
       "      <td>416.00</td>\n",
       "      <td>102.00</td>\n",
       "      <td>10.27</td>\n",
       "      <td>0</td>\n",
       "      <td>netherlands</td>\n",
       "    </tr>\n",
       "    <tr>\n",
       "      <th>1714</th>\n",
       "      <td>534.00</td>\n",
       "      <td>135.00</td>\n",
       "      <td>4.42</td>\n",
       "      <td>0</td>\n",
       "      <td>netherlands</td>\n",
       "    </tr>\n",
       "    <tr>\n",
       "      <th>1715</th>\n",
       "      <td>186.00</td>\n",
       "      <td>20.00</td>\n",
       "      <td>25.10</td>\n",
       "      <td>0</td>\n",
       "      <td>netherlands</td>\n",
       "    </tr>\n",
       "    <tr>\n",
       "      <th>1716</th>\n",
       "      <td>230.00</td>\n",
       "      <td>124.00</td>\n",
       "      <td>7.98</td>\n",
       "      <td>0</td>\n",
       "      <td>netherlands</td>\n",
       "    </tr>\n",
       "    <tr>\n",
       "      <th>1717</th>\n",
       "      <td>310.00</td>\n",
       "      <td>34.00</td>\n",
       "      <td>25.35</td>\n",
       "      <td>0</td>\n",
       "      <td>netherlands</td>\n",
       "    </tr>\n",
       "  </tbody>\n",
       "</table>\n",
       "<p>1718 rows × 5 columns</p>\n",
       "</div>"
      ],
      "text/plain": [
       "        LDH    CRP  Lymphocytes  death         from\n",
       "0    206.00   2.60        25.90      0        china\n",
       "1    282.00  27.40         9.20      0        china\n",
       "2    226.00   3.60        27.30      0        china\n",
       "3    249.00  14.50        16.50      0        china\n",
       "4    179.00   0.80        23.60      0        china\n",
       "...     ...    ...          ...    ...          ...\n",
       "1713 416.00 102.00        10.27      0  netherlands\n",
       "1714 534.00 135.00         4.42      0  netherlands\n",
       "1715 186.00  20.00        25.10      0  netherlands\n",
       "1716 230.00 124.00         7.98      0  netherlands\n",
       "1717 310.00  34.00        25.35      0  netherlands\n",
       "\n",
       "[1718 rows x 5 columns]"
      ]
     },
     "execution_count": 118,
     "metadata": {},
     "output_type": "execute_result"
    }
   ],
   "source": [
    "nations"
   ]
  },
  {
   "cell_type": "code",
   "execution_count": 126,
   "metadata": {
    "scrolled": true
   },
   "outputs": [
    {
     "data": {
      "text/plain": [
       "Index(['LDH', 'CRP', 'Lymphocytes', 'death', 'from'], dtype='object')"
      ]
     },
     "execution_count": 126,
     "metadata": {},
     "output_type": "execute_result"
    }
   ],
   "source": [
    "nations.columns"
   ]
  },
  {
   "cell_type": "code",
   "execution_count": 122,
   "metadata": {},
   "outputs": [],
   "source": [
    "X = nations.drop(\"death\", axis = 1)"
   ]
  },
  {
   "cell_type": "code",
   "execution_count": 154,
   "metadata": {},
   "outputs": [],
   "source": [
    "nations = nations.dropna()\n",
    "X = nations.drop(\"death\", axis = 1)\n",
    "trees = ExtraTreesClassifier()\n",
    "parameters = {'max_depth': [None,5,10,15,20,30,50,100,200], 'n_estimators':[10,20,50,100,150,1000]}\n",
    "one_hot_data = pd.get_dummies(X)"
   ]
  },
  {
   "cell_type": "code",
   "execution_count": 155,
   "metadata": {},
   "outputs": [
    {
     "data": {
      "text/plain": [
       "GridSearchCV(estimator=ExtraTreesClassifier(),\n",
       "             param_grid={'max_depth': [None, 5, 10, 15, 20, 30, 50, 100, 200],\n",
       "                         'n_estimators': [10, 20, 50, 100, 150, 1000]})"
      ]
     },
     "execution_count": 155,
     "metadata": {},
     "output_type": "execute_result"
    }
   ],
   "source": [
    "clf = GridSearchCV(trees, parameters)\n",
    "clf.fit(one_hot_data, nations.death)"
   ]
  },
  {
   "cell_type": "code",
   "execution_count": 156,
   "metadata": {},
   "outputs": [
    {
     "name": "stdout",
     "output_type": "stream",
     "text": [
      "{'max_depth': 15, 'n_estimators': 20}\n"
     ]
    }
   ],
   "source": [
    "print(clf.best_params_)\n",
    "best = clf.best_estimator_"
   ]
  },
  {
   "cell_type": "code",
   "execution_count": 157,
   "metadata": {
    "scrolled": true
   },
   "outputs": [
    {
     "name": "stdout",
     "output_type": "stream",
     "text": [
      "Preparation of a new explainer is initiated\n",
      "\n",
      "  -> data              : 1718 rows 6 cols\n",
      "  -> target variable   : Parameter 'y' was a pandas.Series. Converted to a numpy.ndarray.\n",
      "  -> target variable   : 1718 values\n",
      "  -> model_class       : sklearn.model_selection._search.GridSearchCV (default)\n",
      "  -> label             : Not specified, model's class short name will be used. (default)\n",
      "  -> predict function  : <function yhat_proba_default at 0x7fd0399df280> will be used (default)\n",
      "  -> predict function  : Accepts pandas.DataFrame and numpy.ndarray.\n",
      "  -> predicted values  : min = 0.0, mean = 0.346, max = 1.0\n",
      "  -> model type        : classification will be used (default)\n",
      "  -> residual function : difference between y and yhat (default)\n",
      "  -> residuals         : min = -0.647, mean = 1.03e-18, max = 0.726\n",
      "  -> model_info        : package sklearn\n",
      "\n",
      "A new explainer has been created!\n"
     ]
    }
   ],
   "source": [
    "exp = dx.Explainer(clf, one_hot_data, nations['death'])"
   ]
  },
  {
   "cell_type": "code",
   "execution_count": 158,
   "metadata": {},
   "outputs": [
    {
     "data": {
      "text/html": [
       "<div>\n",
       "<style scoped>\n",
       "    .dataframe tbody tr th:only-of-type {\n",
       "        vertical-align: middle;\n",
       "    }\n",
       "\n",
       "    .dataframe tbody tr th {\n",
       "        vertical-align: top;\n",
       "    }\n",
       "\n",
       "    .dataframe thead th {\n",
       "        text-align: right;\n",
       "    }\n",
       "</style>\n",
       "<table border=\"1\" class=\"dataframe\">\n",
       "  <thead>\n",
       "    <tr style=\"text-align: right;\">\n",
       "      <th></th>\n",
       "      <th>recall</th>\n",
       "      <th>precision</th>\n",
       "      <th>f1</th>\n",
       "      <th>accuracy</th>\n",
       "      <th>auc</th>\n",
       "    </tr>\n",
       "  </thead>\n",
       "  <tbody>\n",
       "    <tr>\n",
       "      <th>GridSearchCV</th>\n",
       "      <td>0.89</td>\n",
       "      <td>0.99</td>\n",
       "      <td>0.94</td>\n",
       "      <td>0.96</td>\n",
       "      <td>1.00</td>\n",
       "    </tr>\n",
       "  </tbody>\n",
       "</table>\n",
       "</div>"
      ],
      "text/plain": [
       "<dalex.model_explanations._model_performance.object.ModelPerformance at 0x7fd03349f190>"
      ]
     },
     "execution_count": 158,
     "metadata": {},
     "output_type": "execute_result"
    }
   ],
   "source": [
    "exp.model_performance()"
   ]
  },
  {
   "cell_type": "code",
   "execution_count": 159,
   "metadata": {},
   "outputs": [
    {
     "data": {
      "application/vnd.plotly.v1+json": {
       "config": {
        "displaylogo": false,
        "modeBarButtonsToRemove": [
         "sendDataToCloud",
         "lasso2d",
         "autoScale2d",
         "select2d",
         "zoom2d",
         "pan2d",
         "zoomIn2d",
         "zoomOut2d",
         "resetScale2d",
         "toggleSpikelines",
         "hoverCompareCartesian",
         "hoverClosestCartesian"
        ],
        "plotlyServerURL": "https://plot.ly",
        "staticPlot": false,
        "toImageButtonOptions": {
         "height": null,
         "width": null
        }
       },
       "data": [
        {
         "base": 0.005423579872371509,
         "hoverinfo": "text",
         "hoverlabel": {
          "bgcolor": "rgba(0,0,0,0.8)"
         },
         "hovertext": [
          "Model: GridSearchCV loss after<br>variable: LDH is permuted: 0.195<br>Drop-out loss change: +0.19",
          "Model: GridSearchCV loss after<br>variable: CRP is permuted: 0.177<br>Drop-out loss change: +0.172",
          "Model: GridSearchCV loss after<br>variable: Lymphocytes is permuted: 0.168<br>Drop-out loss change: +0.162",
          "Model: GridSearchCV loss after<br>variable: from_china is permuted: 0.052<br>Drop-out loss change: +0.046",
          "Model: GridSearchCV loss after<br>variable: from_newyork is permuted: 0.04<br>Drop-out loss change: +0.035",
          "Model: GridSearchCV loss after<br>variable: from_netherlands is permuted: 0.005<br>Drop-out loss change: -0.0"
         ],
         "marker": {
          "color": "#46bac2"
         },
         "orientation": "h",
         "showlegend": false,
         "text": [
          "+0.19",
          "+0.172",
          "+0.162",
          "+0.046",
          "+0.035",
          "0.0"
         ],
         "textposition": "outside",
         "type": "bar",
         "x": [
          0.18991819227952722,
          0.17165268333507694,
          0.16231697876346904,
          0.046309028141019,
          0.03458897374202328,
          0
         ],
         "xaxis": "x",
         "y": [
          "LDH",
          "CRP",
          "Lymphocytes",
          "from_china",
          "from_newyork",
          "from_netherlands"
         ],
         "yaxis": "y"
        }
       ],
       "layout": {
        "annotations": [
         {
          "font": {
           "size": 16
          },
          "showarrow": false,
          "text": "GridSearchCV",
          "x": 0.5,
          "xanchor": "center",
          "xref": "paper",
          "y": 1,
          "yanchor": "bottom",
          "yref": "paper"
         },
         {
          "font": {
           "size": 16
          },
          "showarrow": false,
          "text": "drop-out loss",
          "x": 0.5,
          "xanchor": "center",
          "xref": "paper",
          "y": 0,
          "yanchor": "top",
          "yref": "paper",
          "yshift": -30
         }
        ],
        "font": {
         "color": "#371ea3"
        },
        "height": 303,
        "margin": {
         "b": 71,
         "r": 30,
         "t": 78
        },
        "shapes": [
         {
          "line": {
           "color": "#371ea3",
           "dash": "dot",
           "width": 1.5
          },
          "type": "line",
          "x0": 0.005423579872371509,
          "x1": 0.005423579872371509,
          "xref": "x",
          "y0": -1,
          "y1": 6,
          "yref": "y"
         }
        ],
        "template": {
         "data": {
          "scatter": [
           {
            "type": "scatter"
           }
          ]
         }
        },
        "title": {
         "text": "Variable Importance",
         "x": 0.15
        },
        "xaxis": {
         "anchor": "y",
         "automargin": true,
         "domain": [
          0,
          1
         ],
         "fixedrange": true,
         "gridwidth": 2,
         "range": [
          -0.023064148969557573,
          0.2238295009938278
         ],
         "tickcolor": "white",
         "ticklen": 3,
         "ticks": "outside",
         "type": "linear",
         "zeroline": false
        },
        "yaxis": {
         "anchor": "x",
         "automargin": true,
         "autorange": "reversed",
         "domain": [
          0,
          1
         ],
         "fixedrange": true,
         "gridwidth": 2,
         "tickcolor": "white",
         "ticklen": 10,
         "ticks": "outside",
         "type": "category"
        }
       }
      },
      "text/html": [
       "<div>                            <div id=\"cb2bf160-3de1-413f-b77a-0cec6776c955\" class=\"plotly-graph-div\" style=\"height:303.0px; width:100%;\"></div>            <script type=\"text/javascript\">                require([\"plotly\"], function(Plotly) {                    window.PLOTLYENV=window.PLOTLYENV || {};                                    if (document.getElementById(\"cb2bf160-3de1-413f-b77a-0cec6776c955\")) {                    Plotly.newPlot(                        \"cb2bf160-3de1-413f-b77a-0cec6776c955\",                        [{\"base\": 0.005423579872371509, \"hoverinfo\": \"text\", \"hoverlabel\": {\"bgcolor\": \"rgba(0,0,0,0.8)\"}, \"hovertext\": [\"Model: GridSearchCV loss after<br>variable: LDH is permuted: 0.195<br>Drop-out loss change: +0.19\", \"Model: GridSearchCV loss after<br>variable: CRP is permuted: 0.177<br>Drop-out loss change: +0.172\", \"Model: GridSearchCV loss after<br>variable: Lymphocytes is permuted: 0.168<br>Drop-out loss change: +0.162\", \"Model: GridSearchCV loss after<br>variable: from_china is permuted: 0.052<br>Drop-out loss change: +0.046\", \"Model: GridSearchCV loss after<br>variable: from_newyork is permuted: 0.04<br>Drop-out loss change: +0.035\", \"Model: GridSearchCV loss after<br>variable: from_netherlands is permuted: 0.005<br>Drop-out loss change: -0.0\"], \"marker\": {\"color\": \"#46bac2\"}, \"orientation\": \"h\", \"showlegend\": false, \"text\": [\"+0.19\", \"+0.172\", \"+0.162\", \"+0.046\", \"+0.035\", \"0.0\"], \"textposition\": \"outside\", \"type\": \"bar\", \"x\": [0.18991819227952722, 0.17165268333507694, 0.16231697876346904, 0.046309028141019, 0.03458897374202328, 0.0], \"xaxis\": \"x\", \"y\": [\"LDH\", \"CRP\", \"Lymphocytes\", \"from_china\", \"from_newyork\", \"from_netherlands\"], \"yaxis\": \"y\"}],                        {\"annotations\": [{\"font\": {\"size\": 16}, \"showarrow\": false, \"text\": \"GridSearchCV\", \"x\": 0.5, \"xanchor\": \"center\", \"xref\": \"paper\", \"y\": 1.0, \"yanchor\": \"bottom\", \"yref\": \"paper\"}, {\"font\": {\"size\": 16}, \"showarrow\": false, \"text\": \"drop-out loss\", \"x\": 0.5, \"xanchor\": \"center\", \"xref\": \"paper\", \"y\": 0, \"yanchor\": \"top\", \"yref\": \"paper\", \"yshift\": -30}], \"font\": {\"color\": \"#371ea3\"}, \"height\": 303.0, \"margin\": {\"b\": 71, \"r\": 30, \"t\": 78}, \"shapes\": [{\"line\": {\"color\": \"#371ea3\", \"dash\": \"dot\", \"width\": 1.5}, \"type\": \"line\", \"x0\": 0.005423579872371509, \"x1\": 0.005423579872371509, \"xref\": \"x\", \"y0\": -1, \"y1\": 6, \"yref\": \"y\"}], \"template\": {\"data\": {\"scatter\": [{\"type\": \"scatter\"}]}}, \"title\": {\"text\": \"Variable Importance\", \"x\": 0.15}, \"xaxis\": {\"anchor\": \"y\", \"automargin\": true, \"domain\": [0.0, 1.0], \"fixedrange\": true, \"gridwidth\": 2, \"range\": [-0.023064148969557573, 0.2238295009938278], \"tickcolor\": \"white\", \"ticklen\": 3, \"ticks\": \"outside\", \"type\": \"linear\", \"zeroline\": false}, \"yaxis\": {\"anchor\": \"x\", \"automargin\": true, \"autorange\": \"reversed\", \"domain\": [0.0, 1.0], \"fixedrange\": true, \"gridwidth\": 2, \"tickcolor\": \"white\", \"ticklen\": 10, \"ticks\": \"outside\", \"type\": \"category\"}},                        {\"displaylogo\": false, \"staticPlot\": false, \"toImageButtonOptions\": {\"height\": null, \"width\": null}, \"modeBarButtonsToRemove\": [\"sendDataToCloud\", \"lasso2d\", \"autoScale2d\", \"select2d\", \"zoom2d\", \"pan2d\", \"zoomIn2d\", \"zoomOut2d\", \"resetScale2d\", \"toggleSpikelines\", \"hoverCompareCartesian\", \"hoverClosestCartesian\"], \"responsive\": true}                    ).then(function(){\n",
       "                            \n",
       "var gd = document.getElementById('cb2bf160-3de1-413f-b77a-0cec6776c955');\n",
       "var x = new MutationObserver(function (mutations, observer) {{\n",
       "        var display = window.getComputedStyle(gd).display;\n",
       "        if (!display || display === 'none') {{\n",
       "            console.log([gd, 'removed!']);\n",
       "            Plotly.purge(gd);\n",
       "            observer.disconnect();\n",
       "        }}\n",
       "}});\n",
       "\n",
       "// Listen for the removal of the full notebook cells\n",
       "var notebookContainer = gd.closest('#notebook-container');\n",
       "if (notebookContainer) {{\n",
       "    x.observe(notebookContainer, {childList: true});\n",
       "}}\n",
       "\n",
       "// Listen for the clearing of the current output cell\n",
       "var outputEl = gd.closest('.output');\n",
       "if (outputEl) {{\n",
       "    x.observe(outputEl, {childList: true});\n",
       "}}\n",
       "\n",
       "                        })                };                });            </script>        </div>"
      ]
     },
     "metadata": {},
     "output_type": "display_data"
    }
   ],
   "source": [
    "exp.model_parts().plot()"
   ]
  },
  {
   "cell_type": "code",
   "execution_count": 161,
   "metadata": {},
   "outputs": [
    {
     "data": {
      "text/plain": [
       "array(['china', 'newyork', 'netherlands'], dtype=object)"
      ]
     },
     "execution_count": 161,
     "metadata": {},
     "output_type": "execute_result"
    }
   ],
   "source": [
    "nations['from'].unique()"
   ]
  },
  {
   "cell_type": "code",
   "execution_count": 177,
   "metadata": {},
   "outputs": [
    {
     "name": "stderr",
     "output_type": "stream",
     "text": [
      "Calculating ceteris paribus: 100%|██████████| 6/6 [00:00<00:00, 21.84it/s]\n"
     ]
    },
    {
     "data": {
      "application/vnd.plotly.v1+json": {
       "config": {
        "displaylogo": false,
        "modeBarButtonsToRemove": [
         "sendDataToCloud",
         "lasso2d",
         "autoScale2d",
         "select2d",
         "zoom2d",
         "pan2d",
         "zoomIn2d",
         "zoomOut2d",
         "resetScale2d",
         "toggleSpikelines",
         "hoverCompareCartesian",
         "hoverClosestCartesian"
        ],
        "plotlyServerURL": "https://plot.ly",
        "staticPlot": false,
        "toImageButtonOptions": {
         "height": null,
         "width": null
        }
       },
       "data": [
        {
         "customdata": [
          [
           0.3361129416678951,
           "GridSearchCV",
           "LDH"
          ],
          [
           0.3361129416678951,
           "GridSearchCV",
           "LDH"
          ],
          [
           0.3361129416678951,
           "GridSearchCV",
           "LDH"
          ],
          [
           0.3361129416678951,
           "GridSearchCV",
           "LDH"
          ],
          [
           0.3361129416678951,
           "GridSearchCV",
           "LDH"
          ],
          [
           0.3361129416678951,
           "GridSearchCV",
           "LDH"
          ],
          [
           0.3361129416678951,
           "GridSearchCV",
           "LDH"
          ],
          [
           0.3361129416678951,
           "GridSearchCV",
           "LDH"
          ],
          [
           0.3361129416678951,
           "GridSearchCV",
           "LDH"
          ],
          [
           0.3361129416678951,
           "GridSearchCV",
           "LDH"
          ],
          [
           0.3361129416678951,
           "GridSearchCV",
           "LDH"
          ],
          [
           0.3361129416678951,
           "GridSearchCV",
           "LDH"
          ],
          [
           0.3361129416678951,
           "GridSearchCV",
           "LDH"
          ],
          [
           0.3361129416678951,
           "GridSearchCV",
           "LDH"
          ],
          [
           0.3361129416678951,
           "GridSearchCV",
           "LDH"
          ],
          [
           0.3361129416678951,
           "GridSearchCV",
           "LDH"
          ],
          [
           0.3361129416678951,
           "GridSearchCV",
           "LDH"
          ],
          [
           0.3361129416678951,
           "GridSearchCV",
           "LDH"
          ],
          [
           0.3361129416678951,
           "GridSearchCV",
           "LDH"
          ],
          [
           0.3361129416678951,
           "GridSearchCV",
           "LDH"
          ],
          [
           0.3361129416678951,
           "GridSearchCV",
           "LDH"
          ],
          [
           0.3361129416678951,
           "GridSearchCV",
           "LDH"
          ],
          [
           0.3361129416678951,
           "GridSearchCV",
           "LDH"
          ],
          [
           0.3361129416678951,
           "GridSearchCV",
           "LDH"
          ],
          [
           0.3361129416678951,
           "GridSearchCV",
           "LDH"
          ],
          [
           0.3361129416678951,
           "GridSearchCV",
           "LDH"
          ],
          [
           0.3361129416678951,
           "GridSearchCV",
           "LDH"
          ],
          [
           0.3361129416678951,
           "GridSearchCV",
           "LDH"
          ],
          [
           0.3361129416678951,
           "GridSearchCV",
           "LDH"
          ],
          [
           0.3361129416678951,
           "GridSearchCV",
           "LDH"
          ],
          [
           0.3361129416678951,
           "GridSearchCV",
           "LDH"
          ],
          [
           0.3361129416678951,
           "GridSearchCV",
           "LDH"
          ],
          [
           0.3361129416678951,
           "GridSearchCV",
           "LDH"
          ],
          [
           0.3361129416678951,
           "GridSearchCV",
           "LDH"
          ],
          [
           0.3361129416678951,
           "GridSearchCV",
           "LDH"
          ],
          [
           0.3361129416678951,
           "GridSearchCV",
           "LDH"
          ],
          [
           0.3361129416678951,
           "GridSearchCV",
           "LDH"
          ],
          [
           0.3361129416678951,
           "GridSearchCV",
           "LDH"
          ],
          [
           0.3361129416678951,
           "GridSearchCV",
           "LDH"
          ],
          [
           0.3361129416678951,
           "GridSearchCV",
           "LDH"
          ],
          [
           0.3361129416678951,
           "GridSearchCV",
           "LDH"
          ],
          [
           0.3361129416678951,
           "GridSearchCV",
           "LDH"
          ],
          [
           0.3361129416678951,
           "GridSearchCV",
           "LDH"
          ],
          [
           0.3361129416678951,
           "GridSearchCV",
           "LDH"
          ],
          [
           0.3361129416678951,
           "GridSearchCV",
           "LDH"
          ],
          [
           0.3361129416678951,
           "GridSearchCV",
           "LDH"
          ],
          [
           0.3361129416678951,
           "GridSearchCV",
           "LDH"
          ],
          [
           0.3361129416678951,
           "GridSearchCV",
           "LDH"
          ],
          [
           0.3361129416678951,
           "GridSearchCV",
           "LDH"
          ],
          [
           0.3361129416678951,
           "GridSearchCV",
           "LDH"
          ],
          [
           0.3361129416678951,
           "GridSearchCV",
           "LDH"
          ],
          [
           0.3361129416678951,
           "GridSearchCV",
           "LDH"
          ],
          [
           0.3361129416678951,
           "GridSearchCV",
           "LDH"
          ],
          [
           0.3361129416678951,
           "GridSearchCV",
           "LDH"
          ],
          [
           0.3361129416678951,
           "GridSearchCV",
           "LDH"
          ],
          [
           0.3361129416678951,
           "GridSearchCV",
           "LDH"
          ],
          [
           0.3361129416678951,
           "GridSearchCV",
           "LDH"
          ],
          [
           0.3361129416678951,
           "GridSearchCV",
           "LDH"
          ],
          [
           0.3361129416678951,
           "GridSearchCV",
           "LDH"
          ],
          [
           0.3361129416678951,
           "GridSearchCV",
           "LDH"
          ],
          [
           0.3361129416678951,
           "GridSearchCV",
           "LDH"
          ],
          [
           0.3361129416678951,
           "GridSearchCV",
           "LDH"
          ],
          [
           0.3361129416678951,
           "GridSearchCV",
           "LDH"
          ],
          [
           0.3361129416678951,
           "GridSearchCV",
           "LDH"
          ],
          [
           0.3361129416678951,
           "GridSearchCV",
           "LDH"
          ],
          [
           0.3361129416678951,
           "GridSearchCV",
           "LDH"
          ],
          [
           0.3361129416678951,
           "GridSearchCV",
           "LDH"
          ],
          [
           0.3361129416678951,
           "GridSearchCV",
           "LDH"
          ],
          [
           0.3361129416678951,
           "GridSearchCV",
           "LDH"
          ],
          [
           0.3361129416678951,
           "GridSearchCV",
           "LDH"
          ],
          [
           0.3361129416678951,
           "GridSearchCV",
           "LDH"
          ],
          [
           0.3361129416678951,
           "GridSearchCV",
           "LDH"
          ],
          [
           0.3361129416678951,
           "GridSearchCV",
           "LDH"
          ],
          [
           0.3361129416678951,
           "GridSearchCV",
           "LDH"
          ],
          [
           0.3361129416678951,
           "GridSearchCV",
           "LDH"
          ],
          [
           0.3361129416678951,
           "GridSearchCV",
           "LDH"
          ],
          [
           0.3361129416678951,
           "GridSearchCV",
           "LDH"
          ],
          [
           0.3361129416678951,
           "GridSearchCV",
           "LDH"
          ],
          [
           0.3361129416678951,
           "GridSearchCV",
           "LDH"
          ],
          [
           0.3361129416678951,
           "GridSearchCV",
           "LDH"
          ],
          [
           0.3361129416678951,
           "GridSearchCV",
           "LDH"
          ],
          [
           0.3361129416678951,
           "GridSearchCV",
           "LDH"
          ],
          [
           0.3361129416678951,
           "GridSearchCV",
           "LDH"
          ],
          [
           0.3361129416678951,
           "GridSearchCV",
           "LDH"
          ],
          [
           0.3361129416678951,
           "GridSearchCV",
           "LDH"
          ],
          [
           0.3361129416678951,
           "GridSearchCV",
           "LDH"
          ],
          [
           0.3361129416678951,
           "GridSearchCV",
           "LDH"
          ],
          [
           0.3361129416678951,
           "GridSearchCV",
           "LDH"
          ],
          [
           0.3361129416678951,
           "GridSearchCV",
           "LDH"
          ],
          [
           0.3361129416678951,
           "GridSearchCV",
           "LDH"
          ],
          [
           0.3361129416678951,
           "GridSearchCV",
           "LDH"
          ],
          [
           0.3361129416678951,
           "GridSearchCV",
           "LDH"
          ],
          [
           0.3361129416678951,
           "GridSearchCV",
           "LDH"
          ],
          [
           0.3361129416678951,
           "GridSearchCV",
           "LDH"
          ],
          [
           0.3361129416678951,
           "GridSearchCV",
           "LDH"
          ],
          [
           0.3361129416678951,
           "GridSearchCV",
           "LDH"
          ],
          [
           0.3361129416678951,
           "GridSearchCV",
           "LDH"
          ],
          [
           0.3361129416678951,
           "GridSearchCV",
           "LDH"
          ],
          [
           0.3361129416678951,
           "GridSearchCV",
           "LDH"
          ],
          [
           0.3361129416678951,
           "GridSearchCV",
           "LDH"
          ],
          [
           0.3361129416678951,
           "GridSearchCV",
           "LDH"
          ]
         ],
         "hovertemplate": "<b>%{hovertext}</b><br><br>prediction=%{y:.3f}<br>mean_prediction=%{customdata[0]:.3f}<extra></extra>",
         "hovertext": [
          "GridSearchCV",
          "GridSearchCV",
          "GridSearchCV",
          "GridSearchCV",
          "GridSearchCV",
          "GridSearchCV",
          "GridSearchCV",
          "GridSearchCV",
          "GridSearchCV",
          "GridSearchCV",
          "GridSearchCV",
          "GridSearchCV",
          "GridSearchCV",
          "GridSearchCV",
          "GridSearchCV",
          "GridSearchCV",
          "GridSearchCV",
          "GridSearchCV",
          "GridSearchCV",
          "GridSearchCV",
          "GridSearchCV",
          "GridSearchCV",
          "GridSearchCV",
          "GridSearchCV",
          "GridSearchCV",
          "GridSearchCV",
          "GridSearchCV",
          "GridSearchCV",
          "GridSearchCV",
          "GridSearchCV",
          "GridSearchCV",
          "GridSearchCV",
          "GridSearchCV",
          "GridSearchCV",
          "GridSearchCV",
          "GridSearchCV",
          "GridSearchCV",
          "GridSearchCV",
          "GridSearchCV",
          "GridSearchCV",
          "GridSearchCV",
          "GridSearchCV",
          "GridSearchCV",
          "GridSearchCV",
          "GridSearchCV",
          "GridSearchCV",
          "GridSearchCV",
          "GridSearchCV",
          "GridSearchCV",
          "GridSearchCV",
          "GridSearchCV",
          "GridSearchCV",
          "GridSearchCV",
          "GridSearchCV",
          "GridSearchCV",
          "GridSearchCV",
          "GridSearchCV",
          "GridSearchCV",
          "GridSearchCV",
          "GridSearchCV",
          "GridSearchCV",
          "GridSearchCV",
          "GridSearchCV",
          "GridSearchCV",
          "GridSearchCV",
          "GridSearchCV",
          "GridSearchCV",
          "GridSearchCV",
          "GridSearchCV",
          "GridSearchCV",
          "GridSearchCV",
          "GridSearchCV",
          "GridSearchCV",
          "GridSearchCV",
          "GridSearchCV",
          "GridSearchCV",
          "GridSearchCV",
          "GridSearchCV",
          "GridSearchCV",
          "GridSearchCV",
          "GridSearchCV",
          "GridSearchCV",
          "GridSearchCV",
          "GridSearchCV",
          "GridSearchCV",
          "GridSearchCV",
          "GridSearchCV",
          "GridSearchCV",
          "GridSearchCV",
          "GridSearchCV",
          "GridSearchCV",
          "GridSearchCV",
          "GridSearchCV",
          "GridSearchCV",
          "GridSearchCV",
          "GridSearchCV",
          "GridSearchCV",
          "GridSearchCV",
          "GridSearchCV",
          "GridSearchCV",
          "GridSearchCV"
         ],
         "legendgroup": "GridSearchCV",
         "line": {
          "color": "#46bac2",
          "dash": "solid",
          "width": 2
         },
         "mode": "lines",
         "name": "GridSearchCV",
         "opacity": 1,
         "orientation": "v",
         "showlegend": true,
         "type": "scatter",
         "x": [
          -1,
          26.23,
          53.46,
          80.69,
          107.92,
          135.15,
          162.38,
          189.61,
          216.84,
          244.07,
          271.3,
          298.53000000000003,
          325.76,
          352.99,
          380.22,
          407.45,
          434.68,
          461.91,
          489.14,
          516.37,
          543.6,
          570.83,
          598.0600000000001,
          625.29,
          652.52,
          679.75,
          706.98,
          734.21,
          761.44,
          788.67,
          815.9,
          843.13,
          870.36,
          897.59,
          924.82,
          952.0500000000001,
          979.28,
          1006.51,
          1033.74,
          1060.97,
          1088.2,
          1115.43,
          1142.66,
          1169.89,
          1197.1200000000001,
          1224.35,
          1251.58,
          1278.81,
          1306.04,
          1333.27,
          1360.5,
          1387.73,
          1414.96,
          1442.19,
          1469.42,
          1496.65,
          1523.88,
          1551.1100000000001,
          1578.34,
          1605.57,
          1632.8,
          1660.03,
          1687.26,
          1714.49,
          1741.72,
          1768.95,
          1796.18,
          1823.41,
          1850.64,
          1877.8700000000001,
          1905.1000000000001,
          1932.33,
          1959.56,
          1986.79,
          2014.02,
          2041.25,
          2068.48,
          2095.71,
          2122.94,
          2150.17,
          2177.4,
          2204.63,
          2231.86,
          2259.09,
          2286.32,
          2313.55,
          2340.78,
          2368.01,
          2395.2400000000002,
          2422.4700000000003,
          2449.7,
          2476.93,
          2504.16,
          2531.39,
          2558.62,
          2585.85,
          2613.08,
          2640.31,
          2667.54,
          2694.77,
          2722
         ],
         "xaxis": "x5",
         "y": [
          0.2182271241830065,
          0.21018790849673202,
          0.2064133986928104,
          0.20393790849673188,
          0.1940653594771242,
          0.1957908496732026,
          0.19756535947712422,
          0.19446732026143804,
          0.19946732026143793,
          0.24682420389208318,
          0.26132698166986085,
          0.2742674578603373,
          0.3344241830065358,
          0.41311862745098,
          0.48747271241830037,
          0.5357504901960786,
          0.5329406862745099,
          0.5819725490196079,
          0.615718300653595,
          0.6180460784313733,
          0.6504807189542479,
          0.6511354808590096,
          0.651468814192343,
          0.6480006769374406,
          0.6527506769374413,
          0.6514543806411449,
          0.6567877139744783,
          0.656954380641145,
          0.6598710473078114,
          0.661437713974478,
          0.6646964285714282,
          0.6665853174603171,
          0.6665853174603171,
          0.6890853174603172,
          0.6890853174603172,
          0.6912519841269839,
          0.6912519841269839,
          0.7002519841269839,
          0.7049186507936509,
          0.735585317460317,
          0.7362519841269837,
          0.7544186507936506,
          0.7844186507936506,
          0.7846805555555555,
          0.8141805555555557,
          0.814388888888889,
          0.8145555555555558,
          0.8308888888888887,
          0.8347222222222216,
          0.835055555555555,
          0.835055555555555,
          0.835055555555555,
          0.8832222222222231,
          0.8832222222222231,
          0.883722222222223,
          0.8843888888888898,
          0.8848888888888896,
          0.885222222222223,
          0.885222222222223,
          0.885222222222223,
          0.8860555555555563,
          0.8860555555555563,
          0.8968888888888894,
          0.8968888888888894,
          0.8975555555555562,
          0.9010555555555559,
          0.9010555555555559,
          0.8683888888888887,
          0.8995555555555558,
          0.8997222222222224,
          0.8997222222222224,
          0.8997222222222224,
          0.8997222222222224,
          0.8497222222222208,
          0.8497222222222208,
          0.8497222222222208,
          0.8497222222222208,
          0.8497222222222208,
          0.8497222222222208,
          0.8497222222222208,
          0.8497222222222208,
          0.8497222222222208,
          0.8497222222222208,
          0.8497222222222208,
          0.8497222222222208,
          0.8497222222222208,
          0.8012222222222231,
          0.8012222222222231,
          0.8012222222222231,
          0.8012222222222231,
          0.8012222222222231,
          0.8012222222222231,
          0.8012222222222231,
          0.8012222222222231,
          0.8012222222222231,
          0.8012222222222231,
          0.8012222222222231,
          0.8012222222222231,
          0.8012222222222231,
          0.8012222222222231,
          0.8012222222222231
         ],
         "yaxis": "y5"
        },
        {
         "customdata": [
          [
           0.3361129416678951,
           "GridSearchCV",
           "CRP"
          ],
          [
           0.3361129416678951,
           "GridSearchCV",
           "CRP"
          ],
          [
           0.3361129416678951,
           "GridSearchCV",
           "CRP"
          ],
          [
           0.3361129416678951,
           "GridSearchCV",
           "CRP"
          ],
          [
           0.3361129416678951,
           "GridSearchCV",
           "CRP"
          ],
          [
           0.3361129416678951,
           "GridSearchCV",
           "CRP"
          ],
          [
           0.3361129416678951,
           "GridSearchCV",
           "CRP"
          ],
          [
           0.3361129416678951,
           "GridSearchCV",
           "CRP"
          ],
          [
           0.3361129416678951,
           "GridSearchCV",
           "CRP"
          ],
          [
           0.3361129416678951,
           "GridSearchCV",
           "CRP"
          ],
          [
           0.3361129416678951,
           "GridSearchCV",
           "CRP"
          ],
          [
           0.3361129416678951,
           "GridSearchCV",
           "CRP"
          ],
          [
           0.3361129416678951,
           "GridSearchCV",
           "CRP"
          ],
          [
           0.3361129416678951,
           "GridSearchCV",
           "CRP"
          ],
          [
           0.3361129416678951,
           "GridSearchCV",
           "CRP"
          ],
          [
           0.3361129416678951,
           "GridSearchCV",
           "CRP"
          ],
          [
           0.3361129416678951,
           "GridSearchCV",
           "CRP"
          ],
          [
           0.3361129416678951,
           "GridSearchCV",
           "CRP"
          ],
          [
           0.3361129416678951,
           "GridSearchCV",
           "CRP"
          ],
          [
           0.3361129416678951,
           "GridSearchCV",
           "CRP"
          ],
          [
           0.3361129416678951,
           "GridSearchCV",
           "CRP"
          ],
          [
           0.3361129416678951,
           "GridSearchCV",
           "CRP"
          ],
          [
           0.3361129416678951,
           "GridSearchCV",
           "CRP"
          ],
          [
           0.3361129416678951,
           "GridSearchCV",
           "CRP"
          ],
          [
           0.3361129416678951,
           "GridSearchCV",
           "CRP"
          ],
          [
           0.3361129416678951,
           "GridSearchCV",
           "CRP"
          ],
          [
           0.3361129416678951,
           "GridSearchCV",
           "CRP"
          ],
          [
           0.3361129416678951,
           "GridSearchCV",
           "CRP"
          ],
          [
           0.3361129416678951,
           "GridSearchCV",
           "CRP"
          ],
          [
           0.3361129416678951,
           "GridSearchCV",
           "CRP"
          ],
          [
           0.3361129416678951,
           "GridSearchCV",
           "CRP"
          ],
          [
           0.3361129416678951,
           "GridSearchCV",
           "CRP"
          ],
          [
           0.3361129416678951,
           "GridSearchCV",
           "CRP"
          ],
          [
           0.3361129416678951,
           "GridSearchCV",
           "CRP"
          ],
          [
           0.3361129416678951,
           "GridSearchCV",
           "CRP"
          ],
          [
           0.3361129416678951,
           "GridSearchCV",
           "CRP"
          ],
          [
           0.3361129416678951,
           "GridSearchCV",
           "CRP"
          ],
          [
           0.3361129416678951,
           "GridSearchCV",
           "CRP"
          ],
          [
           0.3361129416678951,
           "GridSearchCV",
           "CRP"
          ],
          [
           0.3361129416678951,
           "GridSearchCV",
           "CRP"
          ],
          [
           0.3361129416678951,
           "GridSearchCV",
           "CRP"
          ],
          [
           0.3361129416678951,
           "GridSearchCV",
           "CRP"
          ],
          [
           0.3361129416678951,
           "GridSearchCV",
           "CRP"
          ],
          [
           0.3361129416678951,
           "GridSearchCV",
           "CRP"
          ],
          [
           0.3361129416678951,
           "GridSearchCV",
           "CRP"
          ],
          [
           0.3361129416678951,
           "GridSearchCV",
           "CRP"
          ],
          [
           0.3361129416678951,
           "GridSearchCV",
           "CRP"
          ],
          [
           0.3361129416678951,
           "GridSearchCV",
           "CRP"
          ],
          [
           0.3361129416678951,
           "GridSearchCV",
           "CRP"
          ],
          [
           0.3361129416678951,
           "GridSearchCV",
           "CRP"
          ],
          [
           0.3361129416678951,
           "GridSearchCV",
           "CRP"
          ],
          [
           0.3361129416678951,
           "GridSearchCV",
           "CRP"
          ],
          [
           0.3361129416678951,
           "GridSearchCV",
           "CRP"
          ],
          [
           0.3361129416678951,
           "GridSearchCV",
           "CRP"
          ],
          [
           0.3361129416678951,
           "GridSearchCV",
           "CRP"
          ],
          [
           0.3361129416678951,
           "GridSearchCV",
           "CRP"
          ],
          [
           0.3361129416678951,
           "GridSearchCV",
           "CRP"
          ],
          [
           0.3361129416678951,
           "GridSearchCV",
           "CRP"
          ],
          [
           0.3361129416678951,
           "GridSearchCV",
           "CRP"
          ],
          [
           0.3361129416678951,
           "GridSearchCV",
           "CRP"
          ],
          [
           0.3361129416678951,
           "GridSearchCV",
           "CRP"
          ],
          [
           0.3361129416678951,
           "GridSearchCV",
           "CRP"
          ],
          [
           0.3361129416678951,
           "GridSearchCV",
           "CRP"
          ],
          [
           0.3361129416678951,
           "GridSearchCV",
           "CRP"
          ],
          [
           0.3361129416678951,
           "GridSearchCV",
           "CRP"
          ],
          [
           0.3361129416678951,
           "GridSearchCV",
           "CRP"
          ],
          [
           0.3361129416678951,
           "GridSearchCV",
           "CRP"
          ],
          [
           0.3361129416678951,
           "GridSearchCV",
           "CRP"
          ],
          [
           0.3361129416678951,
           "GridSearchCV",
           "CRP"
          ],
          [
           0.3361129416678951,
           "GridSearchCV",
           "CRP"
          ],
          [
           0.3361129416678951,
           "GridSearchCV",
           "CRP"
          ],
          [
           0.3361129416678951,
           "GridSearchCV",
           "CRP"
          ],
          [
           0.3361129416678951,
           "GridSearchCV",
           "CRP"
          ],
          [
           0.3361129416678951,
           "GridSearchCV",
           "CRP"
          ],
          [
           0.3361129416678951,
           "GridSearchCV",
           "CRP"
          ],
          [
           0.3361129416678951,
           "GridSearchCV",
           "CRP"
          ],
          [
           0.3361129416678951,
           "GridSearchCV",
           "CRP"
          ],
          [
           0.3361129416678951,
           "GridSearchCV",
           "CRP"
          ],
          [
           0.3361129416678951,
           "GridSearchCV",
           "CRP"
          ],
          [
           0.3361129416678951,
           "GridSearchCV",
           "CRP"
          ],
          [
           0.3361129416678951,
           "GridSearchCV",
           "CRP"
          ],
          [
           0.3361129416678951,
           "GridSearchCV",
           "CRP"
          ],
          [
           0.3361129416678951,
           "GridSearchCV",
           "CRP"
          ],
          [
           0.3361129416678951,
           "GridSearchCV",
           "CRP"
          ],
          [
           0.3361129416678951,
           "GridSearchCV",
           "CRP"
          ],
          [
           0.3361129416678951,
           "GridSearchCV",
           "CRP"
          ],
          [
           0.3361129416678951,
           "GridSearchCV",
           "CRP"
          ],
          [
           0.3361129416678951,
           "GridSearchCV",
           "CRP"
          ],
          [
           0.3361129416678951,
           "GridSearchCV",
           "CRP"
          ],
          [
           0.3361129416678951,
           "GridSearchCV",
           "CRP"
          ],
          [
           0.3361129416678951,
           "GridSearchCV",
           "CRP"
          ],
          [
           0.3361129416678951,
           "GridSearchCV",
           "CRP"
          ],
          [
           0.3361129416678951,
           "GridSearchCV",
           "CRP"
          ],
          [
           0.3361129416678951,
           "GridSearchCV",
           "CRP"
          ],
          [
           0.3361129416678951,
           "GridSearchCV",
           "CRP"
          ],
          [
           0.3361129416678951,
           "GridSearchCV",
           "CRP"
          ],
          [
           0.3361129416678951,
           "GridSearchCV",
           "CRP"
          ],
          [
           0.3361129416678951,
           "GridSearchCV",
           "CRP"
          ],
          [
           0.3361129416678951,
           "GridSearchCV",
           "CRP"
          ],
          [
           0.3361129416678951,
           "GridSearchCV",
           "CRP"
          ],
          [
           0.3361129416678951,
           "GridSearchCV",
           "CRP"
          ]
         ],
         "hovertemplate": "<b>%{hovertext}</b><br><br>prediction=%{y:.3f}<br>mean_prediction=%{customdata[0]:.3f}<extra></extra>",
         "hovertext": [
          "GridSearchCV",
          "GridSearchCV",
          "GridSearchCV",
          "GridSearchCV",
          "GridSearchCV",
          "GridSearchCV",
          "GridSearchCV",
          "GridSearchCV",
          "GridSearchCV",
          "GridSearchCV",
          "GridSearchCV",
          "GridSearchCV",
          "GridSearchCV",
          "GridSearchCV",
          "GridSearchCV",
          "GridSearchCV",
          "GridSearchCV",
          "GridSearchCV",
          "GridSearchCV",
          "GridSearchCV",
          "GridSearchCV",
          "GridSearchCV",
          "GridSearchCV",
          "GridSearchCV",
          "GridSearchCV",
          "GridSearchCV",
          "GridSearchCV",
          "GridSearchCV",
          "GridSearchCV",
          "GridSearchCV",
          "GridSearchCV",
          "GridSearchCV",
          "GridSearchCV",
          "GridSearchCV",
          "GridSearchCV",
          "GridSearchCV",
          "GridSearchCV",
          "GridSearchCV",
          "GridSearchCV",
          "GridSearchCV",
          "GridSearchCV",
          "GridSearchCV",
          "GridSearchCV",
          "GridSearchCV",
          "GridSearchCV",
          "GridSearchCV",
          "GridSearchCV",
          "GridSearchCV",
          "GridSearchCV",
          "GridSearchCV",
          "GridSearchCV",
          "GridSearchCV",
          "GridSearchCV",
          "GridSearchCV",
          "GridSearchCV",
          "GridSearchCV",
          "GridSearchCV",
          "GridSearchCV",
          "GridSearchCV",
          "GridSearchCV",
          "GridSearchCV",
          "GridSearchCV",
          "GridSearchCV",
          "GridSearchCV",
          "GridSearchCV",
          "GridSearchCV",
          "GridSearchCV",
          "GridSearchCV",
          "GridSearchCV",
          "GridSearchCV",
          "GridSearchCV",
          "GridSearchCV",
          "GridSearchCV",
          "GridSearchCV",
          "GridSearchCV",
          "GridSearchCV",
          "GridSearchCV",
          "GridSearchCV",
          "GridSearchCV",
          "GridSearchCV",
          "GridSearchCV",
          "GridSearchCV",
          "GridSearchCV",
          "GridSearchCV",
          "GridSearchCV",
          "GridSearchCV",
          "GridSearchCV",
          "GridSearchCV",
          "GridSearchCV",
          "GridSearchCV",
          "GridSearchCV",
          "GridSearchCV",
          "GridSearchCV",
          "GridSearchCV",
          "GridSearchCV",
          "GridSearchCV",
          "GridSearchCV",
          "GridSearchCV",
          "GridSearchCV",
          "GridSearchCV",
          "GridSearchCV"
         ],
         "legendgroup": "GridSearchCV",
         "line": {
          "color": "#46bac2",
          "dash": "solid",
          "width": 2
         },
         "mode": "lines",
         "name": "GridSearchCV",
         "opacity": 1,
         "orientation": "v",
         "showlegend": false,
         "type": "scatter",
         "x": [
          -1,
          4.949,
          10.898,
          16.847,
          22.796,
          28.744999999999997,
          34.694,
          40.643,
          46.592,
          52.541,
          58.489999999999995,
          64.439,
          70.388,
          76.337,
          82.286,
          88.235,
          94.184,
          100.133,
          106.082,
          112.03099999999999,
          117.97999999999999,
          123.929,
          129.878,
          135.827,
          141.776,
          147.725,
          153.674,
          159.623,
          165.572,
          171.521,
          177.47,
          183.41899999999998,
          189.368,
          195.317,
          201.266,
          207.215,
          213.164,
          219.113,
          225.06199999999998,
          231.011,
          236.95999999999998,
          242.909,
          248.858,
          254.807,
          260.756,
          266.705,
          272.654,
          278.603,
          284.552,
          290.501,
          296.45,
          302.399,
          308.348,
          314.29699999999997,
          320.246,
          326.195,
          332.144,
          338.093,
          344.042,
          349.991,
          355.94,
          361.889,
          367.83799999999997,
          373.787,
          379.736,
          385.685,
          391.634,
          397.58299999999997,
          403.532,
          409.481,
          415.43,
          421.37899999999996,
          427.328,
          433.277,
          439.226,
          445.175,
          451.12399999999997,
          457.073,
          463.022,
          468.971,
          474.91999999999996,
          480.86899999999997,
          486.818,
          492.767,
          498.716,
          504.66499999999996,
          510.614,
          516.563,
          522.512,
          528.461,
          534.41,
          540.359,
          546.308,
          552.257,
          558.206,
          564.155,
          570.104,
          576.053,
          582.002,
          587.951,
          593.9
         ],
         "xaxis": "x6",
         "y": [
          0.2828256241092927,
          0.2651491535210575,
          0.2548158201877245,
          0.279389349599489,
          0.27602660450144956,
          0.3072226829328223,
          0.32216315912329846,
          0.341829825789965,
          0.3635111983389846,
          0.38935923755467083,
          0.45185923755467117,
          0.4866925708880039,
          0.42774812644356086,
          0.4631954948646122,
          0.48879549486461277,
          0.5039066059757235,
          0.5450732726423906,
          0.6420046451914099,
          0.6443713118580765,
          0.6433296451914097,
          0.6662372082166205,
          0.6762372082166198,
          0.702903874883286,
          0.7155705415499526,
          0.7544038748832866,
          0.7232705415499532,
          0.7181038748832862,
          0.6567122082166201,
          0.6735455415499526,
          0.6688788748832861,
          0.6804066526610636,
          0.6835880252100833,
          0.6907546918767502,
          0.7389193977591042,
          0.7681693977591033,
          0.775502731092437,
          0.7976693977591041,
          0.7976693977591041,
          0.7976693977591041,
          0.7983360644257705,
          0.8188360644257704,
          0.8188360644257704,
          0.8188360644257704,
          0.8188360644257704,
          0.8194789215686278,
          0.8359789215686277,
          0.8356178104575166,
          0.8356178104575166,
          0.8356178104575166,
          0.8357844771241834,
          0.8373594771241833,
          0.8373594771241833,
          0.8373594771241833,
          0.8373594771241833,
          0.8311928104575169,
          0.8311928104575169,
          0.830692810457517,
          0.830692810457517,
          0.825359477124183,
          0.825359477124183,
          0.825359477124183,
          0.825359477124183,
          0.825359477124183,
          0.8255261437908497,
          0.8255261437908497,
          0.8255261437908497,
          0.8255261437908497,
          0.8255261437908497,
          0.8255261437908497,
          0.8255261437908497,
          0.8255261437908497,
          0.8255261437908497,
          0.8255261437908497,
          0.8255261437908497,
          0.8255261437908497,
          0.8255261437908497,
          0.8255261437908497,
          0.8255261437908497,
          0.8255261437908497,
          0.825359477124183,
          0.825359477124183,
          0.825359477124183,
          0.825359477124183,
          0.825359477124183,
          0.825359477124183,
          0.825359477124183,
          0.825359477124183,
          0.825359477124183,
          0.825359477124183,
          0.825359477124183,
          0.825359477124183,
          0.825359477124183,
          0.825359477124183,
          0.825359477124183,
          0.825359477124183,
          0.825359477124183,
          0.825359477124183,
          0.825359477124183,
          0.825359477124183,
          0.825359477124183,
          0.825359477124183
         ],
         "yaxis": "y6"
        },
        {
         "customdata": [
          [
           0.3361129416678951,
           "GridSearchCV",
           "Lymphocytes"
          ],
          [
           0.3361129416678951,
           "GridSearchCV",
           "Lymphocytes"
          ],
          [
           0.3361129416678951,
           "GridSearchCV",
           "Lymphocytes"
          ],
          [
           0.3361129416678951,
           "GridSearchCV",
           "Lymphocytes"
          ],
          [
           0.3361129416678951,
           "GridSearchCV",
           "Lymphocytes"
          ],
          [
           0.3361129416678951,
           "GridSearchCV",
           "Lymphocytes"
          ],
          [
           0.3361129416678951,
           "GridSearchCV",
           "Lymphocytes"
          ],
          [
           0.3361129416678951,
           "GridSearchCV",
           "Lymphocytes"
          ],
          [
           0.3361129416678951,
           "GridSearchCV",
           "Lymphocytes"
          ],
          [
           0.3361129416678951,
           "GridSearchCV",
           "Lymphocytes"
          ],
          [
           0.3361129416678951,
           "GridSearchCV",
           "Lymphocytes"
          ],
          [
           0.3361129416678951,
           "GridSearchCV",
           "Lymphocytes"
          ],
          [
           0.3361129416678951,
           "GridSearchCV",
           "Lymphocytes"
          ],
          [
           0.3361129416678951,
           "GridSearchCV",
           "Lymphocytes"
          ],
          [
           0.3361129416678951,
           "GridSearchCV",
           "Lymphocytes"
          ],
          [
           0.3361129416678951,
           "GridSearchCV",
           "Lymphocytes"
          ],
          [
           0.3361129416678951,
           "GridSearchCV",
           "Lymphocytes"
          ],
          [
           0.3361129416678951,
           "GridSearchCV",
           "Lymphocytes"
          ],
          [
           0.3361129416678951,
           "GridSearchCV",
           "Lymphocytes"
          ],
          [
           0.3361129416678951,
           "GridSearchCV",
           "Lymphocytes"
          ],
          [
           0.3361129416678951,
           "GridSearchCV",
           "Lymphocytes"
          ],
          [
           0.3361129416678951,
           "GridSearchCV",
           "Lymphocytes"
          ],
          [
           0.3361129416678951,
           "GridSearchCV",
           "Lymphocytes"
          ],
          [
           0.3361129416678951,
           "GridSearchCV",
           "Lymphocytes"
          ],
          [
           0.3361129416678951,
           "GridSearchCV",
           "Lymphocytes"
          ],
          [
           0.3361129416678951,
           "GridSearchCV",
           "Lymphocytes"
          ],
          [
           0.3361129416678951,
           "GridSearchCV",
           "Lymphocytes"
          ],
          [
           0.3361129416678951,
           "GridSearchCV",
           "Lymphocytes"
          ],
          [
           0.3361129416678951,
           "GridSearchCV",
           "Lymphocytes"
          ],
          [
           0.3361129416678951,
           "GridSearchCV",
           "Lymphocytes"
          ],
          [
           0.3361129416678951,
           "GridSearchCV",
           "Lymphocytes"
          ],
          [
           0.3361129416678951,
           "GridSearchCV",
           "Lymphocytes"
          ],
          [
           0.3361129416678951,
           "GridSearchCV",
           "Lymphocytes"
          ],
          [
           0.3361129416678951,
           "GridSearchCV",
           "Lymphocytes"
          ],
          [
           0.3361129416678951,
           "GridSearchCV",
           "Lymphocytes"
          ],
          [
           0.3361129416678951,
           "GridSearchCV",
           "Lymphocytes"
          ],
          [
           0.3361129416678951,
           "GridSearchCV",
           "Lymphocytes"
          ],
          [
           0.3361129416678951,
           "GridSearchCV",
           "Lymphocytes"
          ],
          [
           0.3361129416678951,
           "GridSearchCV",
           "Lymphocytes"
          ],
          [
           0.3361129416678951,
           "GridSearchCV",
           "Lymphocytes"
          ],
          [
           0.3361129416678951,
           "GridSearchCV",
           "Lymphocytes"
          ],
          [
           0.3361129416678951,
           "GridSearchCV",
           "Lymphocytes"
          ],
          [
           0.3361129416678951,
           "GridSearchCV",
           "Lymphocytes"
          ],
          [
           0.3361129416678951,
           "GridSearchCV",
           "Lymphocytes"
          ],
          [
           0.3361129416678951,
           "GridSearchCV",
           "Lymphocytes"
          ],
          [
           0.3361129416678951,
           "GridSearchCV",
           "Lymphocytes"
          ],
          [
           0.3361129416678951,
           "GridSearchCV",
           "Lymphocytes"
          ],
          [
           0.3361129416678951,
           "GridSearchCV",
           "Lymphocytes"
          ],
          [
           0.3361129416678951,
           "GridSearchCV",
           "Lymphocytes"
          ],
          [
           0.3361129416678951,
           "GridSearchCV",
           "Lymphocytes"
          ],
          [
           0.3361129416678951,
           "GridSearchCV",
           "Lymphocytes"
          ],
          [
           0.3361129416678951,
           "GridSearchCV",
           "Lymphocytes"
          ],
          [
           0.3361129416678951,
           "GridSearchCV",
           "Lymphocytes"
          ],
          [
           0.3361129416678951,
           "GridSearchCV",
           "Lymphocytes"
          ],
          [
           0.3361129416678951,
           "GridSearchCV",
           "Lymphocytes"
          ],
          [
           0.3361129416678951,
           "GridSearchCV",
           "Lymphocytes"
          ],
          [
           0.3361129416678951,
           "GridSearchCV",
           "Lymphocytes"
          ],
          [
           0.3361129416678951,
           "GridSearchCV",
           "Lymphocytes"
          ],
          [
           0.3361129416678951,
           "GridSearchCV",
           "Lymphocytes"
          ],
          [
           0.3361129416678951,
           "GridSearchCV",
           "Lymphocytes"
          ],
          [
           0.3361129416678951,
           "GridSearchCV",
           "Lymphocytes"
          ],
          [
           0.3361129416678951,
           "GridSearchCV",
           "Lymphocytes"
          ],
          [
           0.3361129416678951,
           "GridSearchCV",
           "Lymphocytes"
          ],
          [
           0.3361129416678951,
           "GridSearchCV",
           "Lymphocytes"
          ],
          [
           0.3361129416678951,
           "GridSearchCV",
           "Lymphocytes"
          ],
          [
           0.3361129416678951,
           "GridSearchCV",
           "Lymphocytes"
          ],
          [
           0.3361129416678951,
           "GridSearchCV",
           "Lymphocytes"
          ],
          [
           0.3361129416678951,
           "GridSearchCV",
           "Lymphocytes"
          ],
          [
           0.3361129416678951,
           "GridSearchCV",
           "Lymphocytes"
          ],
          [
           0.3361129416678951,
           "GridSearchCV",
           "Lymphocytes"
          ],
          [
           0.3361129416678951,
           "GridSearchCV",
           "Lymphocytes"
          ],
          [
           0.3361129416678951,
           "GridSearchCV",
           "Lymphocytes"
          ],
          [
           0.3361129416678951,
           "GridSearchCV",
           "Lymphocytes"
          ],
          [
           0.3361129416678951,
           "GridSearchCV",
           "Lymphocytes"
          ],
          [
           0.3361129416678951,
           "GridSearchCV",
           "Lymphocytes"
          ],
          [
           0.3361129416678951,
           "GridSearchCV",
           "Lymphocytes"
          ],
          [
           0.3361129416678951,
           "GridSearchCV",
           "Lymphocytes"
          ],
          [
           0.3361129416678951,
           "GridSearchCV",
           "Lymphocytes"
          ],
          [
           0.3361129416678951,
           "GridSearchCV",
           "Lymphocytes"
          ],
          [
           0.3361129416678951,
           "GridSearchCV",
           "Lymphocytes"
          ],
          [
           0.3361129416678951,
           "GridSearchCV",
           "Lymphocytes"
          ],
          [
           0.3361129416678951,
           "GridSearchCV",
           "Lymphocytes"
          ],
          [
           0.3361129416678951,
           "GridSearchCV",
           "Lymphocytes"
          ],
          [
           0.3361129416678951,
           "GridSearchCV",
           "Lymphocytes"
          ],
          [
           0.3361129416678951,
           "GridSearchCV",
           "Lymphocytes"
          ],
          [
           0.3361129416678951,
           "GridSearchCV",
           "Lymphocytes"
          ],
          [
           0.3361129416678951,
           "GridSearchCV",
           "Lymphocytes"
          ],
          [
           0.3361129416678951,
           "GridSearchCV",
           "Lymphocytes"
          ],
          [
           0.3361129416678951,
           "GridSearchCV",
           "Lymphocytes"
          ],
          [
           0.3361129416678951,
           "GridSearchCV",
           "Lymphocytes"
          ],
          [
           0.3361129416678951,
           "GridSearchCV",
           "Lymphocytes"
          ],
          [
           0.3361129416678951,
           "GridSearchCV",
           "Lymphocytes"
          ],
          [
           0.3361129416678951,
           "GridSearchCV",
           "Lymphocytes"
          ],
          [
           0.3361129416678951,
           "GridSearchCV",
           "Lymphocytes"
          ],
          [
           0.3361129416678951,
           "GridSearchCV",
           "Lymphocytes"
          ],
          [
           0.3361129416678951,
           "GridSearchCV",
           "Lymphocytes"
          ],
          [
           0.3361129416678951,
           "GridSearchCV",
           "Lymphocytes"
          ],
          [
           0.3361129416678951,
           "GridSearchCV",
           "Lymphocytes"
          ],
          [
           0.3361129416678951,
           "GridSearchCV",
           "Lymphocytes"
          ],
          [
           0.3361129416678951,
           "GridSearchCV",
           "Lymphocytes"
          ],
          [
           0.3361129416678951,
           "GridSearchCV",
           "Lymphocytes"
          ]
         ],
         "hovertemplate": "<b>%{hovertext}</b><br><br>prediction=%{y:.3f}<br>mean_prediction=%{customdata[0]:.3f}<extra></extra>",
         "hovertext": [
          "GridSearchCV",
          "GridSearchCV",
          "GridSearchCV",
          "GridSearchCV",
          "GridSearchCV",
          "GridSearchCV",
          "GridSearchCV",
          "GridSearchCV",
          "GridSearchCV",
          "GridSearchCV",
          "GridSearchCV",
          "GridSearchCV",
          "GridSearchCV",
          "GridSearchCV",
          "GridSearchCV",
          "GridSearchCV",
          "GridSearchCV",
          "GridSearchCV",
          "GridSearchCV",
          "GridSearchCV",
          "GridSearchCV",
          "GridSearchCV",
          "GridSearchCV",
          "GridSearchCV",
          "GridSearchCV",
          "GridSearchCV",
          "GridSearchCV",
          "GridSearchCV",
          "GridSearchCV",
          "GridSearchCV",
          "GridSearchCV",
          "GridSearchCV",
          "GridSearchCV",
          "GridSearchCV",
          "GridSearchCV",
          "GridSearchCV",
          "GridSearchCV",
          "GridSearchCV",
          "GridSearchCV",
          "GridSearchCV",
          "GridSearchCV",
          "GridSearchCV",
          "GridSearchCV",
          "GridSearchCV",
          "GridSearchCV",
          "GridSearchCV",
          "GridSearchCV",
          "GridSearchCV",
          "GridSearchCV",
          "GridSearchCV",
          "GridSearchCV",
          "GridSearchCV",
          "GridSearchCV",
          "GridSearchCV",
          "GridSearchCV",
          "GridSearchCV",
          "GridSearchCV",
          "GridSearchCV",
          "GridSearchCV",
          "GridSearchCV",
          "GridSearchCV",
          "GridSearchCV",
          "GridSearchCV",
          "GridSearchCV",
          "GridSearchCV",
          "GridSearchCV",
          "GridSearchCV",
          "GridSearchCV",
          "GridSearchCV",
          "GridSearchCV",
          "GridSearchCV",
          "GridSearchCV",
          "GridSearchCV",
          "GridSearchCV",
          "GridSearchCV",
          "GridSearchCV",
          "GridSearchCV",
          "GridSearchCV",
          "GridSearchCV",
          "GridSearchCV",
          "GridSearchCV",
          "GridSearchCV",
          "GridSearchCV",
          "GridSearchCV",
          "GridSearchCV",
          "GridSearchCV",
          "GridSearchCV",
          "GridSearchCV",
          "GridSearchCV",
          "GridSearchCV",
          "GridSearchCV",
          "GridSearchCV",
          "GridSearchCV",
          "GridSearchCV",
          "GridSearchCV",
          "GridSearchCV",
          "GridSearchCV",
          "GridSearchCV",
          "GridSearchCV",
          "GridSearchCV",
          "GridSearchCV"
         ],
         "legendgroup": "GridSearchCV",
         "line": {
          "color": "#46bac2",
          "dash": "solid",
          "width": 2
         },
         "mode": "lines",
         "name": "GridSearchCV",
         "opacity": 1,
         "orientation": "v",
         "showlegend": false,
         "type": "scatter",
         "x": [
          -1,
          -0.0424882137244631,
          0.9150235725510738,
          1.8725353588266107,
          2.8300471451021476,
          3.787558931377685,
          4.745070717653221,
          5.702582503928758,
          6.660094290204295,
          7.617606076479833,
          8.57511786275537,
          9.532629649030905,
          10.490141435306443,
          11.44765322158198,
          12.405165007857516,
          13.362676794133053,
          14.32018858040859,
          15.277700366684126,
          16.235212152959665,
          17.1927239392352,
          18.15023572551074,
          19.107747511786275,
          20.06525929806181,
          21.02277108433735,
          21.980282870612886,
          22.93779465688842,
          23.89530644316396,
          24.852818229439496,
          25.81033001571503,
          26.76784180199057,
          27.725353588266106,
          28.682865374541645,
          29.64037716081718,
          30.597888947092716,
          31.555400733368252,
          32.51291251964379,
          33.47042430591933,
          34.42793609219486,
          35.3854478784704,
          36.34295966474594,
          37.30047145102148,
          38.25798323729701,
          39.21549502357255,
          40.17300680984809,
          41.13051859612362,
          42.08803038239916,
          43.0455421686747,
          44.00305395495023,
          44.96056574122577,
          45.91807752750131,
          46.87558931377684,
          47.83310110005238,
          48.79061288632792,
          49.74812467260345,
          50.70563645887899,
          51.66314824515453,
          52.62066003143006,
          53.5781718177056,
          54.53568360398114,
          55.49319539025668,
          56.45070717653221,
          57.40821896280775,
          58.36573074908329,
          59.32324253535882,
          60.28075432163436,
          61.2382661079099,
          62.19577789418543,
          63.15328968046097,
          64.1108014667365,
          65.06831325301205,
          66.02582503928758,
          66.98333682556311,
          67.94084861183866,
          68.89836039811419,
          69.85587218438972,
          70.81338397066527,
          71.7708957569408,
          72.72840754321633,
          73.68591932949188,
          74.64343111576741,
          75.60094290204296,
          76.55845468831849,
          77.51596647459402,
          78.47347826086957,
          79.4309900471451,
          80.38850183342063,
          81.34601361969618,
          82.30352540597171,
          83.26103719224724,
          84.21854897852279,
          85.17606076479832,
          86.13357255107385,
          87.0910843373494,
          88.04859612362493,
          89.00610790990046,
          89.96361969617601,
          90.92113148245154,
          91.87864326872707,
          92.83615505500262,
          93.79366684127815,
          94.75117862755368
         ],
         "xaxis": "x3",
         "y": [
          0.4897352941176479,
          0.5873823529411752,
          0.6234313725490181,
          0.6543758169934645,
          0.6112609477124177,
          0.4161727124183017,
          0.4847201447245567,
          0.31916699346405225,
          0.3394447712418301,
          0.30963188608776854,
          0.33807521254115674,
          0.35590854587448956,
          0.31204187920782356,
          0.3157641014300457,
          0.32498076809671245,
          0.31710576809671265,
          0.3023116504496536,
          0.30447831711632023,
          0.29172831711632025,
          0.28328942822743125,
          0.27445609489409784,
          0.27212276156076454,
          0.27828942822743136,
          0.2807894282274313,
          0.2796227615607647,
          0.27395609489409795,
          0.27528942822743124,
          0.26041851319475173,
          0.2501348039215687,
          0.24134313725490192,
          0.24717647058823516,
          0.24350980392156857,
          0.24350980392156857,
          0.2433431372549019,
          0.2428431372549019,
          0.2428431372549019,
          0.23834313725490186,
          0.23834313725490186,
          0.23683333333333328,
          0.2398333333333333,
          0.2398333333333333,
          0.22950000000000004,
          0.22950000000000004,
          0.22950000000000004,
          0.22950000000000004,
          0.22566666666666668,
          0.22566666666666668,
          0.22566666666666668,
          0.2201666666666667,
          0.19466666666666668,
          0.19466666666666668,
          0.19466666666666668,
          0.19466666666666668,
          0.19466666666666668,
          0.18966666666666673,
          0.18966666666666673,
          0.18966666666666673,
          0.18966666666666673,
          0.18966666666666673,
          0.18966666666666673,
          0.18966666666666673,
          0.18966666666666673,
          0.18966666666666673,
          0.18966666666666673,
          0.18966666666666673,
          0.18966666666666673,
          0.18966666666666673,
          0.18966666666666673,
          0.18966666666666673,
          0.18966666666666673,
          0.18966666666666673,
          0.18966666666666673,
          0.18966666666666673,
          0.18966666666666673,
          0.18966666666666673,
          0.18966666666666673,
          0.18966666666666673,
          0.18966666666666673,
          0.18966666666666673,
          0.18966666666666673,
          0.18966666666666673,
          0.18966666666666673,
          0.18966666666666673,
          0.18966666666666673,
          0.18966666666666673,
          0.18966666666666673,
          0.18966666666666673,
          0.18966666666666673,
          0.18966666666666673,
          0.18966666666666673,
          0.18966666666666673,
          0.18966666666666673,
          0.18966666666666673,
          0.18966666666666673,
          0.18966666666666673,
          0.18966666666666673,
          0.18966666666666673,
          0.18966666666666673,
          0.18966666666666673,
          0.18966666666666673,
          0.18966666666666673
         ],
         "yaxis": "y3"
        },
        {
         "customdata": [
          [
           0.3361129416678951,
           "GridSearchCV",
           "from_china"
          ],
          [
           0.3361129416678951,
           "GridSearchCV",
           "from_china"
          ],
          [
           0.3361129416678951,
           "GridSearchCV",
           "from_china"
          ],
          [
           0.3361129416678951,
           "GridSearchCV",
           "from_china"
          ],
          [
           0.3361129416678951,
           "GridSearchCV",
           "from_china"
          ],
          [
           0.3361129416678951,
           "GridSearchCV",
           "from_china"
          ],
          [
           0.3361129416678951,
           "GridSearchCV",
           "from_china"
          ],
          [
           0.3361129416678951,
           "GridSearchCV",
           "from_china"
          ],
          [
           0.3361129416678951,
           "GridSearchCV",
           "from_china"
          ],
          [
           0.3361129416678951,
           "GridSearchCV",
           "from_china"
          ],
          [
           0.3361129416678951,
           "GridSearchCV",
           "from_china"
          ],
          [
           0.3361129416678951,
           "GridSearchCV",
           "from_china"
          ],
          [
           0.3361129416678951,
           "GridSearchCV",
           "from_china"
          ],
          [
           0.3361129416678951,
           "GridSearchCV",
           "from_china"
          ],
          [
           0.3361129416678951,
           "GridSearchCV",
           "from_china"
          ],
          [
           0.3361129416678951,
           "GridSearchCV",
           "from_china"
          ],
          [
           0.3361129416678951,
           "GridSearchCV",
           "from_china"
          ],
          [
           0.3361129416678951,
           "GridSearchCV",
           "from_china"
          ],
          [
           0.3361129416678951,
           "GridSearchCV",
           "from_china"
          ],
          [
           0.3361129416678951,
           "GridSearchCV",
           "from_china"
          ],
          [
           0.3361129416678951,
           "GridSearchCV",
           "from_china"
          ],
          [
           0.3361129416678951,
           "GridSearchCV",
           "from_china"
          ],
          [
           0.3361129416678951,
           "GridSearchCV",
           "from_china"
          ],
          [
           0.3361129416678951,
           "GridSearchCV",
           "from_china"
          ],
          [
           0.3361129416678951,
           "GridSearchCV",
           "from_china"
          ],
          [
           0.3361129416678951,
           "GridSearchCV",
           "from_china"
          ],
          [
           0.3361129416678951,
           "GridSearchCV",
           "from_china"
          ],
          [
           0.3361129416678951,
           "GridSearchCV",
           "from_china"
          ],
          [
           0.3361129416678951,
           "GridSearchCV",
           "from_china"
          ],
          [
           0.3361129416678951,
           "GridSearchCV",
           "from_china"
          ],
          [
           0.3361129416678951,
           "GridSearchCV",
           "from_china"
          ],
          [
           0.3361129416678951,
           "GridSearchCV",
           "from_china"
          ],
          [
           0.3361129416678951,
           "GridSearchCV",
           "from_china"
          ],
          [
           0.3361129416678951,
           "GridSearchCV",
           "from_china"
          ],
          [
           0.3361129416678951,
           "GridSearchCV",
           "from_china"
          ],
          [
           0.3361129416678951,
           "GridSearchCV",
           "from_china"
          ],
          [
           0.3361129416678951,
           "GridSearchCV",
           "from_china"
          ],
          [
           0.3361129416678951,
           "GridSearchCV",
           "from_china"
          ],
          [
           0.3361129416678951,
           "GridSearchCV",
           "from_china"
          ],
          [
           0.3361129416678951,
           "GridSearchCV",
           "from_china"
          ],
          [
           0.3361129416678951,
           "GridSearchCV",
           "from_china"
          ],
          [
           0.3361129416678951,
           "GridSearchCV",
           "from_china"
          ],
          [
           0.3361129416678951,
           "GridSearchCV",
           "from_china"
          ],
          [
           0.3361129416678951,
           "GridSearchCV",
           "from_china"
          ],
          [
           0.3361129416678951,
           "GridSearchCV",
           "from_china"
          ],
          [
           0.3361129416678951,
           "GridSearchCV",
           "from_china"
          ],
          [
           0.3361129416678951,
           "GridSearchCV",
           "from_china"
          ],
          [
           0.3361129416678951,
           "GridSearchCV",
           "from_china"
          ],
          [
           0.3361129416678951,
           "GridSearchCV",
           "from_china"
          ],
          [
           0.3361129416678951,
           "GridSearchCV",
           "from_china"
          ],
          [
           0.3361129416678951,
           "GridSearchCV",
           "from_china"
          ],
          [
           0.3361129416678951,
           "GridSearchCV",
           "from_china"
          ],
          [
           0.3361129416678951,
           "GridSearchCV",
           "from_china"
          ],
          [
           0.3361129416678951,
           "GridSearchCV",
           "from_china"
          ],
          [
           0.3361129416678951,
           "GridSearchCV",
           "from_china"
          ],
          [
           0.3361129416678951,
           "GridSearchCV",
           "from_china"
          ],
          [
           0.3361129416678951,
           "GridSearchCV",
           "from_china"
          ],
          [
           0.3361129416678951,
           "GridSearchCV",
           "from_china"
          ],
          [
           0.3361129416678951,
           "GridSearchCV",
           "from_china"
          ],
          [
           0.3361129416678951,
           "GridSearchCV",
           "from_china"
          ],
          [
           0.3361129416678951,
           "GridSearchCV",
           "from_china"
          ],
          [
           0.3361129416678951,
           "GridSearchCV",
           "from_china"
          ],
          [
           0.3361129416678951,
           "GridSearchCV",
           "from_china"
          ],
          [
           0.3361129416678951,
           "GridSearchCV",
           "from_china"
          ],
          [
           0.3361129416678951,
           "GridSearchCV",
           "from_china"
          ],
          [
           0.3361129416678951,
           "GridSearchCV",
           "from_china"
          ],
          [
           0.3361129416678951,
           "GridSearchCV",
           "from_china"
          ],
          [
           0.3361129416678951,
           "GridSearchCV",
           "from_china"
          ],
          [
           0.3361129416678951,
           "GridSearchCV",
           "from_china"
          ],
          [
           0.3361129416678951,
           "GridSearchCV",
           "from_china"
          ],
          [
           0.3361129416678951,
           "GridSearchCV",
           "from_china"
          ],
          [
           0.3361129416678951,
           "GridSearchCV",
           "from_china"
          ],
          [
           0.3361129416678951,
           "GridSearchCV",
           "from_china"
          ],
          [
           0.3361129416678951,
           "GridSearchCV",
           "from_china"
          ],
          [
           0.3361129416678951,
           "GridSearchCV",
           "from_china"
          ],
          [
           0.3361129416678951,
           "GridSearchCV",
           "from_china"
          ],
          [
           0.3361129416678951,
           "GridSearchCV",
           "from_china"
          ],
          [
           0.3361129416678951,
           "GridSearchCV",
           "from_china"
          ],
          [
           0.3361129416678951,
           "GridSearchCV",
           "from_china"
          ],
          [
           0.3361129416678951,
           "GridSearchCV",
           "from_china"
          ],
          [
           0.3361129416678951,
           "GridSearchCV",
           "from_china"
          ],
          [
           0.3361129416678951,
           "GridSearchCV",
           "from_china"
          ],
          [
           0.3361129416678951,
           "GridSearchCV",
           "from_china"
          ],
          [
           0.3361129416678951,
           "GridSearchCV",
           "from_china"
          ],
          [
           0.3361129416678951,
           "GridSearchCV",
           "from_china"
          ],
          [
           0.3361129416678951,
           "GridSearchCV",
           "from_china"
          ],
          [
           0.3361129416678951,
           "GridSearchCV",
           "from_china"
          ],
          [
           0.3361129416678951,
           "GridSearchCV",
           "from_china"
          ],
          [
           0.3361129416678951,
           "GridSearchCV",
           "from_china"
          ],
          [
           0.3361129416678951,
           "GridSearchCV",
           "from_china"
          ],
          [
           0.3361129416678951,
           "GridSearchCV",
           "from_china"
          ],
          [
           0.3361129416678951,
           "GridSearchCV",
           "from_china"
          ],
          [
           0.3361129416678951,
           "GridSearchCV",
           "from_china"
          ],
          [
           0.3361129416678951,
           "GridSearchCV",
           "from_china"
          ],
          [
           0.3361129416678951,
           "GridSearchCV",
           "from_china"
          ],
          [
           0.3361129416678951,
           "GridSearchCV",
           "from_china"
          ],
          [
           0.3361129416678951,
           "GridSearchCV",
           "from_china"
          ],
          [
           0.3361129416678951,
           "GridSearchCV",
           "from_china"
          ],
          [
           0.3361129416678951,
           "GridSearchCV",
           "from_china"
          ],
          [
           0.3361129416678951,
           "GridSearchCV",
           "from_china"
          ],
          [
           0.3361129416678951,
           "GridSearchCV",
           "from_china"
          ]
         ],
         "hovertemplate": "<b>%{hovertext}</b><br><br>prediction=%{y:.3f}<br>mean_prediction=%{customdata[0]:.3f}<extra></extra>",
         "hovertext": [
          "GridSearchCV",
          "GridSearchCV",
          "GridSearchCV",
          "GridSearchCV",
          "GridSearchCV",
          "GridSearchCV",
          "GridSearchCV",
          "GridSearchCV",
          "GridSearchCV",
          "GridSearchCV",
          "GridSearchCV",
          "GridSearchCV",
          "GridSearchCV",
          "GridSearchCV",
          "GridSearchCV",
          "GridSearchCV",
          "GridSearchCV",
          "GridSearchCV",
          "GridSearchCV",
          "GridSearchCV",
          "GridSearchCV",
          "GridSearchCV",
          "GridSearchCV",
          "GridSearchCV",
          "GridSearchCV",
          "GridSearchCV",
          "GridSearchCV",
          "GridSearchCV",
          "GridSearchCV",
          "GridSearchCV",
          "GridSearchCV",
          "GridSearchCV",
          "GridSearchCV",
          "GridSearchCV",
          "GridSearchCV",
          "GridSearchCV",
          "GridSearchCV",
          "GridSearchCV",
          "GridSearchCV",
          "GridSearchCV",
          "GridSearchCV",
          "GridSearchCV",
          "GridSearchCV",
          "GridSearchCV",
          "GridSearchCV",
          "GridSearchCV",
          "GridSearchCV",
          "GridSearchCV",
          "GridSearchCV",
          "GridSearchCV",
          "GridSearchCV",
          "GridSearchCV",
          "GridSearchCV",
          "GridSearchCV",
          "GridSearchCV",
          "GridSearchCV",
          "GridSearchCV",
          "GridSearchCV",
          "GridSearchCV",
          "GridSearchCV",
          "GridSearchCV",
          "GridSearchCV",
          "GridSearchCV",
          "GridSearchCV",
          "GridSearchCV",
          "GridSearchCV",
          "GridSearchCV",
          "GridSearchCV",
          "GridSearchCV",
          "GridSearchCV",
          "GridSearchCV",
          "GridSearchCV",
          "GridSearchCV",
          "GridSearchCV",
          "GridSearchCV",
          "GridSearchCV",
          "GridSearchCV",
          "GridSearchCV",
          "GridSearchCV",
          "GridSearchCV",
          "GridSearchCV",
          "GridSearchCV",
          "GridSearchCV",
          "GridSearchCV",
          "GridSearchCV",
          "GridSearchCV",
          "GridSearchCV",
          "GridSearchCV",
          "GridSearchCV",
          "GridSearchCV",
          "GridSearchCV",
          "GridSearchCV",
          "GridSearchCV",
          "GridSearchCV",
          "GridSearchCV",
          "GridSearchCV",
          "GridSearchCV",
          "GridSearchCV",
          "GridSearchCV",
          "GridSearchCV",
          "GridSearchCV"
         ],
         "legendgroup": "GridSearchCV",
         "line": {
          "color": "#46bac2",
          "dash": "solid",
          "width": 2
         },
         "mode": "lines",
         "name": "GridSearchCV",
         "opacity": 1,
         "orientation": "v",
         "showlegend": false,
         "type": "scatter",
         "x": [
          0,
          0.01,
          0.02,
          0.03,
          0.04,
          0.05,
          0.06,
          0.07,
          0.08,
          0.09,
          0.1,
          0.11,
          0.12,
          0.13,
          0.14,
          0.15,
          0.16,
          0.17,
          0.18,
          0.19,
          0.2,
          0.21,
          0.22,
          0.23,
          0.24,
          0.25,
          0.26,
          0.27,
          0.28,
          0.29,
          0.3,
          0.31,
          0.32,
          0.33,
          0.34,
          0.35000000000000003,
          0.36,
          0.37,
          0.38,
          0.39,
          0.4,
          0.41000000000000003,
          0.42,
          0.43,
          0.44,
          0.45,
          0.46,
          0.47000000000000003,
          0.48,
          0.49,
          0.5,
          0.51,
          0.52,
          0.53,
          0.54,
          0.55,
          0.56,
          0.5700000000000001,
          0.58,
          0.59,
          0.6,
          0.61,
          0.62,
          0.63,
          0.64,
          0.65,
          0.66,
          0.67,
          0.68,
          0.6900000000000001,
          0.7000000000000001,
          0.71,
          0.72,
          0.73,
          0.74,
          0.75,
          0.76,
          0.77,
          0.78,
          0.79,
          0.8,
          0.81,
          0.8200000000000001,
          0.8300000000000001,
          0.84,
          0.85,
          0.86,
          0.87,
          0.88,
          0.89,
          0.9,
          0.91,
          0.92,
          0.93,
          0.9400000000000001,
          0.9500000000000001,
          0.96,
          0.97,
          0.98,
          0.99,
          1
         ],
         "xaxis": "x4",
         "y": [
          0.2499168373572155,
          0.2499168373572155,
          0.2575427597249993,
          0.2575427597249993,
          0.2575427597249993,
          0.2575427597249993,
          0.2575427597249993,
          0.2575427597249993,
          0.2575427597249993,
          0.2575427597249993,
          0.2575427597249993,
          0.2575427597249993,
          0.2575427597249993,
          0.2575427597249993,
          0.2575427597249993,
          0.2575427597249993,
          0.2575427597249993,
          0.2575427597249993,
          0.2575427597249993,
          0.2654716572436027,
          0.2654716572436027,
          0.26563832391026937,
          0.2739983564453562,
          0.27449835644535614,
          0.27449835644535614,
          0.2748316897786895,
          0.2748316897786895,
          0.2748316897786895,
          0.2748316897786895,
          0.2748316897786895,
          0.2748316897786895,
          0.2748316897786895,
          0.27449835644535614,
          0.27449835644535614,
          0.27449835644535614,
          0.27349835644535614,
          0.27349835644535614,
          0.27940195115985356,
          0.28682357895716576,
          0.28682357895716576,
          0.28682357895716576,
          0.28682357895716576,
          0.28682357895716576,
          0.28682357895716576,
          0.2909882381541779,
          0.2909882381541779,
          0.2909882381541779,
          0.2909882381541779,
          0.29284583619339366,
          0.29284583619339366,
          0.29284583619339366,
          0.2955674499500074,
          0.2966360774009879,
          0.3028616166147762,
          0.3028616166147762,
          0.3028407832814428,
          0.3028407832814428,
          0.3028407832814428,
          0.3028407832814428,
          0.3028407832814428,
          0.3028407832814428,
          0.31628866174456904,
          0.3176378680937753,
          0.31772120142710863,
          0.31772120142710863,
          0.31980453476044207,
          0.31980453476044207,
          0.31980453476044207,
          0.31980453476044207,
          0.31980453476044207,
          0.31980453476044207,
          0.31980453476044207,
          0.31980453476044207,
          0.31980453476044207,
          0.31980453476044207,
          0.31980453476044207,
          0.31980453476044207,
          0.32695103506025114,
          0.32695103506025114,
          0.32695103506025114,
          0.32695103506025114,
          0.32695103506025114,
          0.32695103506025114,
          0.32711770172691784,
          0.3268436276528438,
          0.3268436276528438,
          0.3268436276528438,
          0.3268436276528438,
          0.3268436276528438,
          0.3268436276528438,
          0.3268179866272028,
          0.32870095423430823,
          0.32870095423430823,
          0.3337707339756397,
          0.3337707339756397,
          0.33622405277900635,
          0.33622405277900635,
          0.33622405277900635,
          0.33655738611233965,
          0.3361129416678951,
          0.3361129416678951
         ],
         "yaxis": "y4"
        },
        {
         "customdata": [
          [
           0.3361129416678951,
           "GridSearchCV",
           "from_netherlands"
          ],
          [
           0.3361129416678951,
           "GridSearchCV",
           "from_netherlands"
          ],
          [
           0.3361129416678951,
           "GridSearchCV",
           "from_netherlands"
          ],
          [
           0.3361129416678951,
           "GridSearchCV",
           "from_netherlands"
          ],
          [
           0.3361129416678951,
           "GridSearchCV",
           "from_netherlands"
          ],
          [
           0.3361129416678951,
           "GridSearchCV",
           "from_netherlands"
          ],
          [
           0.3361129416678951,
           "GridSearchCV",
           "from_netherlands"
          ],
          [
           0.3361129416678951,
           "GridSearchCV",
           "from_netherlands"
          ],
          [
           0.3361129416678951,
           "GridSearchCV",
           "from_netherlands"
          ],
          [
           0.3361129416678951,
           "GridSearchCV",
           "from_netherlands"
          ],
          [
           0.3361129416678951,
           "GridSearchCV",
           "from_netherlands"
          ],
          [
           0.3361129416678951,
           "GridSearchCV",
           "from_netherlands"
          ],
          [
           0.3361129416678951,
           "GridSearchCV",
           "from_netherlands"
          ],
          [
           0.3361129416678951,
           "GridSearchCV",
           "from_netherlands"
          ],
          [
           0.3361129416678951,
           "GridSearchCV",
           "from_netherlands"
          ],
          [
           0.3361129416678951,
           "GridSearchCV",
           "from_netherlands"
          ],
          [
           0.3361129416678951,
           "GridSearchCV",
           "from_netherlands"
          ],
          [
           0.3361129416678951,
           "GridSearchCV",
           "from_netherlands"
          ],
          [
           0.3361129416678951,
           "GridSearchCV",
           "from_netherlands"
          ],
          [
           0.3361129416678951,
           "GridSearchCV",
           "from_netherlands"
          ],
          [
           0.3361129416678951,
           "GridSearchCV",
           "from_netherlands"
          ],
          [
           0.3361129416678951,
           "GridSearchCV",
           "from_netherlands"
          ],
          [
           0.3361129416678951,
           "GridSearchCV",
           "from_netherlands"
          ],
          [
           0.3361129416678951,
           "GridSearchCV",
           "from_netherlands"
          ],
          [
           0.3361129416678951,
           "GridSearchCV",
           "from_netherlands"
          ],
          [
           0.3361129416678951,
           "GridSearchCV",
           "from_netherlands"
          ],
          [
           0.3361129416678951,
           "GridSearchCV",
           "from_netherlands"
          ],
          [
           0.3361129416678951,
           "GridSearchCV",
           "from_netherlands"
          ],
          [
           0.3361129416678951,
           "GridSearchCV",
           "from_netherlands"
          ],
          [
           0.3361129416678951,
           "GridSearchCV",
           "from_netherlands"
          ],
          [
           0.3361129416678951,
           "GridSearchCV",
           "from_netherlands"
          ],
          [
           0.3361129416678951,
           "GridSearchCV",
           "from_netherlands"
          ],
          [
           0.3361129416678951,
           "GridSearchCV",
           "from_netherlands"
          ],
          [
           0.3361129416678951,
           "GridSearchCV",
           "from_netherlands"
          ],
          [
           0.3361129416678951,
           "GridSearchCV",
           "from_netherlands"
          ],
          [
           0.3361129416678951,
           "GridSearchCV",
           "from_netherlands"
          ],
          [
           0.3361129416678951,
           "GridSearchCV",
           "from_netherlands"
          ],
          [
           0.3361129416678951,
           "GridSearchCV",
           "from_netherlands"
          ],
          [
           0.3361129416678951,
           "GridSearchCV",
           "from_netherlands"
          ],
          [
           0.3361129416678951,
           "GridSearchCV",
           "from_netherlands"
          ],
          [
           0.3361129416678951,
           "GridSearchCV",
           "from_netherlands"
          ],
          [
           0.3361129416678951,
           "GridSearchCV",
           "from_netherlands"
          ],
          [
           0.3361129416678951,
           "GridSearchCV",
           "from_netherlands"
          ],
          [
           0.3361129416678951,
           "GridSearchCV",
           "from_netherlands"
          ],
          [
           0.3361129416678951,
           "GridSearchCV",
           "from_netherlands"
          ],
          [
           0.3361129416678951,
           "GridSearchCV",
           "from_netherlands"
          ],
          [
           0.3361129416678951,
           "GridSearchCV",
           "from_netherlands"
          ],
          [
           0.3361129416678951,
           "GridSearchCV",
           "from_netherlands"
          ],
          [
           0.3361129416678951,
           "GridSearchCV",
           "from_netherlands"
          ],
          [
           0.3361129416678951,
           "GridSearchCV",
           "from_netherlands"
          ],
          [
           0.3361129416678951,
           "GridSearchCV",
           "from_netherlands"
          ],
          [
           0.3361129416678951,
           "GridSearchCV",
           "from_netherlands"
          ],
          [
           0.3361129416678951,
           "GridSearchCV",
           "from_netherlands"
          ],
          [
           0.3361129416678951,
           "GridSearchCV",
           "from_netherlands"
          ],
          [
           0.3361129416678951,
           "GridSearchCV",
           "from_netherlands"
          ],
          [
           0.3361129416678951,
           "GridSearchCV",
           "from_netherlands"
          ],
          [
           0.3361129416678951,
           "GridSearchCV",
           "from_netherlands"
          ],
          [
           0.3361129416678951,
           "GridSearchCV",
           "from_netherlands"
          ],
          [
           0.3361129416678951,
           "GridSearchCV",
           "from_netherlands"
          ],
          [
           0.3361129416678951,
           "GridSearchCV",
           "from_netherlands"
          ],
          [
           0.3361129416678951,
           "GridSearchCV",
           "from_netherlands"
          ],
          [
           0.3361129416678951,
           "GridSearchCV",
           "from_netherlands"
          ],
          [
           0.3361129416678951,
           "GridSearchCV",
           "from_netherlands"
          ],
          [
           0.3361129416678951,
           "GridSearchCV",
           "from_netherlands"
          ],
          [
           0.3361129416678951,
           "GridSearchCV",
           "from_netherlands"
          ],
          [
           0.3361129416678951,
           "GridSearchCV",
           "from_netherlands"
          ],
          [
           0.3361129416678951,
           "GridSearchCV",
           "from_netherlands"
          ],
          [
           0.3361129416678951,
           "GridSearchCV",
           "from_netherlands"
          ],
          [
           0.3361129416678951,
           "GridSearchCV",
           "from_netherlands"
          ],
          [
           0.3361129416678951,
           "GridSearchCV",
           "from_netherlands"
          ],
          [
           0.3361129416678951,
           "GridSearchCV",
           "from_netherlands"
          ],
          [
           0.3361129416678951,
           "GridSearchCV",
           "from_netherlands"
          ],
          [
           0.3361129416678951,
           "GridSearchCV",
           "from_netherlands"
          ],
          [
           0.3361129416678951,
           "GridSearchCV",
           "from_netherlands"
          ],
          [
           0.3361129416678951,
           "GridSearchCV",
           "from_netherlands"
          ],
          [
           0.3361129416678951,
           "GridSearchCV",
           "from_netherlands"
          ],
          [
           0.3361129416678951,
           "GridSearchCV",
           "from_netherlands"
          ],
          [
           0.3361129416678951,
           "GridSearchCV",
           "from_netherlands"
          ],
          [
           0.3361129416678951,
           "GridSearchCV",
           "from_netherlands"
          ],
          [
           0.3361129416678951,
           "GridSearchCV",
           "from_netherlands"
          ],
          [
           0.3361129416678951,
           "GridSearchCV",
           "from_netherlands"
          ],
          [
           0.3361129416678951,
           "GridSearchCV",
           "from_netherlands"
          ],
          [
           0.3361129416678951,
           "GridSearchCV",
           "from_netherlands"
          ],
          [
           0.3361129416678951,
           "GridSearchCV",
           "from_netherlands"
          ],
          [
           0.3361129416678951,
           "GridSearchCV",
           "from_netherlands"
          ],
          [
           0.3361129416678951,
           "GridSearchCV",
           "from_netherlands"
          ],
          [
           0.3361129416678951,
           "GridSearchCV",
           "from_netherlands"
          ],
          [
           0.3361129416678951,
           "GridSearchCV",
           "from_netherlands"
          ],
          [
           0.3361129416678951,
           "GridSearchCV",
           "from_netherlands"
          ],
          [
           0.3361129416678951,
           "GridSearchCV",
           "from_netherlands"
          ],
          [
           0.3361129416678951,
           "GridSearchCV",
           "from_netherlands"
          ],
          [
           0.3361129416678951,
           "GridSearchCV",
           "from_netherlands"
          ],
          [
           0.3361129416678951,
           "GridSearchCV",
           "from_netherlands"
          ],
          [
           0.3361129416678951,
           "GridSearchCV",
           "from_netherlands"
          ],
          [
           0.3361129416678951,
           "GridSearchCV",
           "from_netherlands"
          ],
          [
           0.3361129416678951,
           "GridSearchCV",
           "from_netherlands"
          ],
          [
           0.3361129416678951,
           "GridSearchCV",
           "from_netherlands"
          ],
          [
           0.3361129416678951,
           "GridSearchCV",
           "from_netherlands"
          ],
          [
           0.3361129416678951,
           "GridSearchCV",
           "from_netherlands"
          ],
          [
           0.3361129416678951,
           "GridSearchCV",
           "from_netherlands"
          ],
          [
           0.3361129416678951,
           "GridSearchCV",
           "from_netherlands"
          ]
         ],
         "hovertemplate": "<b>%{hovertext}</b><br><br>prediction=%{y:.3f}<br>mean_prediction=%{customdata[0]:.3f}<extra></extra>",
         "hovertext": [
          "GridSearchCV",
          "GridSearchCV",
          "GridSearchCV",
          "GridSearchCV",
          "GridSearchCV",
          "GridSearchCV",
          "GridSearchCV",
          "GridSearchCV",
          "GridSearchCV",
          "GridSearchCV",
          "GridSearchCV",
          "GridSearchCV",
          "GridSearchCV",
          "GridSearchCV",
          "GridSearchCV",
          "GridSearchCV",
          "GridSearchCV",
          "GridSearchCV",
          "GridSearchCV",
          "GridSearchCV",
          "GridSearchCV",
          "GridSearchCV",
          "GridSearchCV",
          "GridSearchCV",
          "GridSearchCV",
          "GridSearchCV",
          "GridSearchCV",
          "GridSearchCV",
          "GridSearchCV",
          "GridSearchCV",
          "GridSearchCV",
          "GridSearchCV",
          "GridSearchCV",
          "GridSearchCV",
          "GridSearchCV",
          "GridSearchCV",
          "GridSearchCV",
          "GridSearchCV",
          "GridSearchCV",
          "GridSearchCV",
          "GridSearchCV",
          "GridSearchCV",
          "GridSearchCV",
          "GridSearchCV",
          "GridSearchCV",
          "GridSearchCV",
          "GridSearchCV",
          "GridSearchCV",
          "GridSearchCV",
          "GridSearchCV",
          "GridSearchCV",
          "GridSearchCV",
          "GridSearchCV",
          "GridSearchCV",
          "GridSearchCV",
          "GridSearchCV",
          "GridSearchCV",
          "GridSearchCV",
          "GridSearchCV",
          "GridSearchCV",
          "GridSearchCV",
          "GridSearchCV",
          "GridSearchCV",
          "GridSearchCV",
          "GridSearchCV",
          "GridSearchCV",
          "GridSearchCV",
          "GridSearchCV",
          "GridSearchCV",
          "GridSearchCV",
          "GridSearchCV",
          "GridSearchCV",
          "GridSearchCV",
          "GridSearchCV",
          "GridSearchCV",
          "GridSearchCV",
          "GridSearchCV",
          "GridSearchCV",
          "GridSearchCV",
          "GridSearchCV",
          "GridSearchCV",
          "GridSearchCV",
          "GridSearchCV",
          "GridSearchCV",
          "GridSearchCV",
          "GridSearchCV",
          "GridSearchCV",
          "GridSearchCV",
          "GridSearchCV",
          "GridSearchCV",
          "GridSearchCV",
          "GridSearchCV",
          "GridSearchCV",
          "GridSearchCV",
          "GridSearchCV",
          "GridSearchCV",
          "GridSearchCV",
          "GridSearchCV",
          "GridSearchCV",
          "GridSearchCV",
          "GridSearchCV"
         ],
         "legendgroup": "GridSearchCV",
         "line": {
          "color": "#46bac2",
          "dash": "solid",
          "width": 2
         },
         "mode": "lines",
         "name": "GridSearchCV",
         "opacity": 1,
         "orientation": "v",
         "showlegend": false,
         "type": "scatter",
         "x": [
          0,
          0.01,
          0.02,
          0.03,
          0.04,
          0.05,
          0.06,
          0.07,
          0.08,
          0.09,
          0.1,
          0.11,
          0.12,
          0.13,
          0.14,
          0.15,
          0.16,
          0.17,
          0.18,
          0.19,
          0.2,
          0.21,
          0.22,
          0.23,
          0.24,
          0.25,
          0.26,
          0.27,
          0.28,
          0.29,
          0.3,
          0.31,
          0.32,
          0.33,
          0.34,
          0.35000000000000003,
          0.36,
          0.37,
          0.38,
          0.39,
          0.4,
          0.41000000000000003,
          0.42,
          0.43,
          0.44,
          0.45,
          0.46,
          0.47000000000000003,
          0.48,
          0.49,
          0.5,
          0.51,
          0.52,
          0.53,
          0.54,
          0.55,
          0.56,
          0.5700000000000001,
          0.58,
          0.59,
          0.6,
          0.61,
          0.62,
          0.63,
          0.64,
          0.65,
          0.66,
          0.67,
          0.68,
          0.6900000000000001,
          0.7000000000000001,
          0.71,
          0.72,
          0.73,
          0.74,
          0.75,
          0.76,
          0.77,
          0.78,
          0.79,
          0.8,
          0.81,
          0.8200000000000001,
          0.8300000000000001,
          0.84,
          0.85,
          0.86,
          0.87,
          0.88,
          0.89,
          0.9,
          0.91,
          0.92,
          0.93,
          0.9400000000000001,
          0.9500000000000001,
          0.96,
          0.97,
          0.98,
          0.99,
          1
         ],
         "xaxis": "x",
         "y": [
          0.3361129416678951,
          0.3361129416678951,
          0.3364462750012284,
          0.3364462750012284,
          0.3364462750012284,
          0.3364462750012284,
          0.3287137586613593,
          0.31828402009926804,
          0.31828402009926804,
          0.31828402009926804,
          0.31828402009926804,
          0.31828402009926804,
          0.31828402009926804,
          0.31828402009926804,
          0.31828402009926804,
          0.31828402009926804,
          0.3129506867659346,
          0.3056709482038428,
          0.3056709482038428,
          0.3056709482038428,
          0.3056709482038428,
          0.2863761175443063,
          0.2863761175443063,
          0.282605109140945,
          0.282605109140945,
          0.282605109140945,
          0.282605109140945,
          0.282605109140945,
          0.282605109140945,
          0.27440513248361553,
          0.27440513248361553,
          0.27440513248361553,
          0.27440513248361553,
          0.27440513248361553,
          0.27440513248361553,
          0.27440513248361553,
          0.27440513248361553,
          0.27440513248361553,
          0.268225393921524,
          0.268225393921524,
          0.268225393921524,
          0.268225393921524,
          0.268225393921524,
          0.268225393921524,
          0.26511428281041266,
          0.26361428281041266,
          0.26361428281041266,
          0.26361428281041266,
          0.26361428281041266,
          0.26361428281041266,
          0.26361428281041266,
          0.26361428281041266,
          0.26361428281041266,
          0.26361428281041266,
          0.26361428281041266,
          0.26361428281041266,
          0.26361428281041266,
          0.26361428281041266,
          0.26361428281041266,
          0.26228094947707936,
          0.26228094947707936,
          0.25714287758165466,
          0.25714287758165466,
          0.25714287758165466,
          0.25714287758165466,
          0.25714287758165466,
          0.2523095442483213,
          0.2501257058644829,
          0.24962570586448288,
          0.24962570586448288,
          0.24147144766997697,
          0.24147144766997697,
          0.24147144766997697,
          0.24147144766997697,
          0.24147144766997697,
          0.24147144766997697,
          0.24147144766997697,
          0.2336805979967744,
          0.2336805979967744,
          0.2336805979967744,
          0.2336805979967744,
          0.2336805979967744,
          0.2336805979967744,
          0.2336805979967744,
          0.2336805979967744,
          0.2336805979967744,
          0.2336805979967744,
          0.23351393133010773,
          0.23351393133010773,
          0.23351393133010773,
          0.23351393133010773,
          0.23351393133010773,
          0.23351393133010773,
          0.2203795420407952,
          0.2203795420407952,
          0.2203795420407952,
          0.2203795420407952,
          0.2203795420407952,
          0.2119775812564815,
          0.2119775812564815,
          0.2119775812564815
         ],
         "yaxis": "y"
        },
        {
         "customdata": [
          [
           0.3361129416678951,
           "GridSearchCV",
           "from_newyork"
          ],
          [
           0.3361129416678951,
           "GridSearchCV",
           "from_newyork"
          ],
          [
           0.3361129416678951,
           "GridSearchCV",
           "from_newyork"
          ],
          [
           0.3361129416678951,
           "GridSearchCV",
           "from_newyork"
          ],
          [
           0.3361129416678951,
           "GridSearchCV",
           "from_newyork"
          ],
          [
           0.3361129416678951,
           "GridSearchCV",
           "from_newyork"
          ],
          [
           0.3361129416678951,
           "GridSearchCV",
           "from_newyork"
          ],
          [
           0.3361129416678951,
           "GridSearchCV",
           "from_newyork"
          ],
          [
           0.3361129416678951,
           "GridSearchCV",
           "from_newyork"
          ],
          [
           0.3361129416678951,
           "GridSearchCV",
           "from_newyork"
          ],
          [
           0.3361129416678951,
           "GridSearchCV",
           "from_newyork"
          ],
          [
           0.3361129416678951,
           "GridSearchCV",
           "from_newyork"
          ],
          [
           0.3361129416678951,
           "GridSearchCV",
           "from_newyork"
          ],
          [
           0.3361129416678951,
           "GridSearchCV",
           "from_newyork"
          ],
          [
           0.3361129416678951,
           "GridSearchCV",
           "from_newyork"
          ],
          [
           0.3361129416678951,
           "GridSearchCV",
           "from_newyork"
          ],
          [
           0.3361129416678951,
           "GridSearchCV",
           "from_newyork"
          ],
          [
           0.3361129416678951,
           "GridSearchCV",
           "from_newyork"
          ],
          [
           0.3361129416678951,
           "GridSearchCV",
           "from_newyork"
          ],
          [
           0.3361129416678951,
           "GridSearchCV",
           "from_newyork"
          ],
          [
           0.3361129416678951,
           "GridSearchCV",
           "from_newyork"
          ],
          [
           0.3361129416678951,
           "GridSearchCV",
           "from_newyork"
          ],
          [
           0.3361129416678951,
           "GridSearchCV",
           "from_newyork"
          ],
          [
           0.3361129416678951,
           "GridSearchCV",
           "from_newyork"
          ],
          [
           0.3361129416678951,
           "GridSearchCV",
           "from_newyork"
          ],
          [
           0.3361129416678951,
           "GridSearchCV",
           "from_newyork"
          ],
          [
           0.3361129416678951,
           "GridSearchCV",
           "from_newyork"
          ],
          [
           0.3361129416678951,
           "GridSearchCV",
           "from_newyork"
          ],
          [
           0.3361129416678951,
           "GridSearchCV",
           "from_newyork"
          ],
          [
           0.3361129416678951,
           "GridSearchCV",
           "from_newyork"
          ],
          [
           0.3361129416678951,
           "GridSearchCV",
           "from_newyork"
          ],
          [
           0.3361129416678951,
           "GridSearchCV",
           "from_newyork"
          ],
          [
           0.3361129416678951,
           "GridSearchCV",
           "from_newyork"
          ],
          [
           0.3361129416678951,
           "GridSearchCV",
           "from_newyork"
          ],
          [
           0.3361129416678951,
           "GridSearchCV",
           "from_newyork"
          ],
          [
           0.3361129416678951,
           "GridSearchCV",
           "from_newyork"
          ],
          [
           0.3361129416678951,
           "GridSearchCV",
           "from_newyork"
          ],
          [
           0.3361129416678951,
           "GridSearchCV",
           "from_newyork"
          ],
          [
           0.3361129416678951,
           "GridSearchCV",
           "from_newyork"
          ],
          [
           0.3361129416678951,
           "GridSearchCV",
           "from_newyork"
          ],
          [
           0.3361129416678951,
           "GridSearchCV",
           "from_newyork"
          ],
          [
           0.3361129416678951,
           "GridSearchCV",
           "from_newyork"
          ],
          [
           0.3361129416678951,
           "GridSearchCV",
           "from_newyork"
          ],
          [
           0.3361129416678951,
           "GridSearchCV",
           "from_newyork"
          ],
          [
           0.3361129416678951,
           "GridSearchCV",
           "from_newyork"
          ],
          [
           0.3361129416678951,
           "GridSearchCV",
           "from_newyork"
          ],
          [
           0.3361129416678951,
           "GridSearchCV",
           "from_newyork"
          ],
          [
           0.3361129416678951,
           "GridSearchCV",
           "from_newyork"
          ],
          [
           0.3361129416678951,
           "GridSearchCV",
           "from_newyork"
          ],
          [
           0.3361129416678951,
           "GridSearchCV",
           "from_newyork"
          ],
          [
           0.3361129416678951,
           "GridSearchCV",
           "from_newyork"
          ],
          [
           0.3361129416678951,
           "GridSearchCV",
           "from_newyork"
          ],
          [
           0.3361129416678951,
           "GridSearchCV",
           "from_newyork"
          ],
          [
           0.3361129416678951,
           "GridSearchCV",
           "from_newyork"
          ],
          [
           0.3361129416678951,
           "GridSearchCV",
           "from_newyork"
          ],
          [
           0.3361129416678951,
           "GridSearchCV",
           "from_newyork"
          ],
          [
           0.3361129416678951,
           "GridSearchCV",
           "from_newyork"
          ],
          [
           0.3361129416678951,
           "GridSearchCV",
           "from_newyork"
          ],
          [
           0.3361129416678951,
           "GridSearchCV",
           "from_newyork"
          ],
          [
           0.3361129416678951,
           "GridSearchCV",
           "from_newyork"
          ],
          [
           0.3361129416678951,
           "GridSearchCV",
           "from_newyork"
          ],
          [
           0.3361129416678951,
           "GridSearchCV",
           "from_newyork"
          ],
          [
           0.3361129416678951,
           "GridSearchCV",
           "from_newyork"
          ],
          [
           0.3361129416678951,
           "GridSearchCV",
           "from_newyork"
          ],
          [
           0.3361129416678951,
           "GridSearchCV",
           "from_newyork"
          ],
          [
           0.3361129416678951,
           "GridSearchCV",
           "from_newyork"
          ],
          [
           0.3361129416678951,
           "GridSearchCV",
           "from_newyork"
          ],
          [
           0.3361129416678951,
           "GridSearchCV",
           "from_newyork"
          ],
          [
           0.3361129416678951,
           "GridSearchCV",
           "from_newyork"
          ],
          [
           0.3361129416678951,
           "GridSearchCV",
           "from_newyork"
          ],
          [
           0.3361129416678951,
           "GridSearchCV",
           "from_newyork"
          ],
          [
           0.3361129416678951,
           "GridSearchCV",
           "from_newyork"
          ],
          [
           0.3361129416678951,
           "GridSearchCV",
           "from_newyork"
          ],
          [
           0.3361129416678951,
           "GridSearchCV",
           "from_newyork"
          ],
          [
           0.3361129416678951,
           "GridSearchCV",
           "from_newyork"
          ],
          [
           0.3361129416678951,
           "GridSearchCV",
           "from_newyork"
          ],
          [
           0.3361129416678951,
           "GridSearchCV",
           "from_newyork"
          ],
          [
           0.3361129416678951,
           "GridSearchCV",
           "from_newyork"
          ],
          [
           0.3361129416678951,
           "GridSearchCV",
           "from_newyork"
          ],
          [
           0.3361129416678951,
           "GridSearchCV",
           "from_newyork"
          ],
          [
           0.3361129416678951,
           "GridSearchCV",
           "from_newyork"
          ],
          [
           0.3361129416678951,
           "GridSearchCV",
           "from_newyork"
          ],
          [
           0.3361129416678951,
           "GridSearchCV",
           "from_newyork"
          ],
          [
           0.3361129416678951,
           "GridSearchCV",
           "from_newyork"
          ],
          [
           0.3361129416678951,
           "GridSearchCV",
           "from_newyork"
          ],
          [
           0.3361129416678951,
           "GridSearchCV",
           "from_newyork"
          ],
          [
           0.3361129416678951,
           "GridSearchCV",
           "from_newyork"
          ],
          [
           0.3361129416678951,
           "GridSearchCV",
           "from_newyork"
          ],
          [
           0.3361129416678951,
           "GridSearchCV",
           "from_newyork"
          ],
          [
           0.3361129416678951,
           "GridSearchCV",
           "from_newyork"
          ],
          [
           0.3361129416678951,
           "GridSearchCV",
           "from_newyork"
          ],
          [
           0.3361129416678951,
           "GridSearchCV",
           "from_newyork"
          ],
          [
           0.3361129416678951,
           "GridSearchCV",
           "from_newyork"
          ],
          [
           0.3361129416678951,
           "GridSearchCV",
           "from_newyork"
          ],
          [
           0.3361129416678951,
           "GridSearchCV",
           "from_newyork"
          ],
          [
           0.3361129416678951,
           "GridSearchCV",
           "from_newyork"
          ],
          [
           0.3361129416678951,
           "GridSearchCV",
           "from_newyork"
          ],
          [
           0.3361129416678951,
           "GridSearchCV",
           "from_newyork"
          ],
          [
           0.3361129416678951,
           "GridSearchCV",
           "from_newyork"
          ],
          [
           0.3361129416678951,
           "GridSearchCV",
           "from_newyork"
          ],
          [
           0.3361129416678951,
           "GridSearchCV",
           "from_newyork"
          ]
         ],
         "hovertemplate": "<b>%{hovertext}</b><br><br>prediction=%{y:.3f}<br>mean_prediction=%{customdata[0]:.3f}<extra></extra>",
         "hovertext": [
          "GridSearchCV",
          "GridSearchCV",
          "GridSearchCV",
          "GridSearchCV",
          "GridSearchCV",
          "GridSearchCV",
          "GridSearchCV",
          "GridSearchCV",
          "GridSearchCV",
          "GridSearchCV",
          "GridSearchCV",
          "GridSearchCV",
          "GridSearchCV",
          "GridSearchCV",
          "GridSearchCV",
          "GridSearchCV",
          "GridSearchCV",
          "GridSearchCV",
          "GridSearchCV",
          "GridSearchCV",
          "GridSearchCV",
          "GridSearchCV",
          "GridSearchCV",
          "GridSearchCV",
          "GridSearchCV",
          "GridSearchCV",
          "GridSearchCV",
          "GridSearchCV",
          "GridSearchCV",
          "GridSearchCV",
          "GridSearchCV",
          "GridSearchCV",
          "GridSearchCV",
          "GridSearchCV",
          "GridSearchCV",
          "GridSearchCV",
          "GridSearchCV",
          "GridSearchCV",
          "GridSearchCV",
          "GridSearchCV",
          "GridSearchCV",
          "GridSearchCV",
          "GridSearchCV",
          "GridSearchCV",
          "GridSearchCV",
          "GridSearchCV",
          "GridSearchCV",
          "GridSearchCV",
          "GridSearchCV",
          "GridSearchCV",
          "GridSearchCV",
          "GridSearchCV",
          "GridSearchCV",
          "GridSearchCV",
          "GridSearchCV",
          "GridSearchCV",
          "GridSearchCV",
          "GridSearchCV",
          "GridSearchCV",
          "GridSearchCV",
          "GridSearchCV",
          "GridSearchCV",
          "GridSearchCV",
          "GridSearchCV",
          "GridSearchCV",
          "GridSearchCV",
          "GridSearchCV",
          "GridSearchCV",
          "GridSearchCV",
          "GridSearchCV",
          "GridSearchCV",
          "GridSearchCV",
          "GridSearchCV",
          "GridSearchCV",
          "GridSearchCV",
          "GridSearchCV",
          "GridSearchCV",
          "GridSearchCV",
          "GridSearchCV",
          "GridSearchCV",
          "GridSearchCV",
          "GridSearchCV",
          "GridSearchCV",
          "GridSearchCV",
          "GridSearchCV",
          "GridSearchCV",
          "GridSearchCV",
          "GridSearchCV",
          "GridSearchCV",
          "GridSearchCV",
          "GridSearchCV",
          "GridSearchCV",
          "GridSearchCV",
          "GridSearchCV",
          "GridSearchCV",
          "GridSearchCV",
          "GridSearchCV",
          "GridSearchCV",
          "GridSearchCV",
          "GridSearchCV",
          "GridSearchCV"
         ],
         "legendgroup": "GridSearchCV",
         "line": {
          "color": "#46bac2",
          "dash": "solid",
          "width": 2
         },
         "mode": "lines",
         "name": "GridSearchCV",
         "opacity": 1,
         "orientation": "v",
         "showlegend": false,
         "type": "scatter",
         "x": [
          0,
          0.01,
          0.02,
          0.03,
          0.04,
          0.05,
          0.06,
          0.07,
          0.08,
          0.09,
          0.1,
          0.11,
          0.12,
          0.13,
          0.14,
          0.15,
          0.16,
          0.17,
          0.18,
          0.19,
          0.2,
          0.21,
          0.22,
          0.23,
          0.24,
          0.25,
          0.26,
          0.27,
          0.28,
          0.29,
          0.3,
          0.31,
          0.32,
          0.33,
          0.34,
          0.35000000000000003,
          0.36,
          0.37,
          0.38,
          0.39,
          0.4,
          0.41000000000000003,
          0.42,
          0.43,
          0.44,
          0.45,
          0.46,
          0.47000000000000003,
          0.48,
          0.49,
          0.5,
          0.51,
          0.52,
          0.53,
          0.54,
          0.55,
          0.56,
          0.5700000000000001,
          0.58,
          0.59,
          0.6,
          0.61,
          0.62,
          0.63,
          0.64,
          0.65,
          0.66,
          0.67,
          0.68,
          0.6900000000000001,
          0.7000000000000001,
          0.71,
          0.72,
          0.73,
          0.74,
          0.75,
          0.76,
          0.77,
          0.78,
          0.79,
          0.8,
          0.81,
          0.8200000000000001,
          0.8300000000000001,
          0.84,
          0.85,
          0.86,
          0.87,
          0.88,
          0.89,
          0.9,
          0.91,
          0.92,
          0.93,
          0.9400000000000001,
          0.9500000000000001,
          0.96,
          0.97,
          0.98,
          0.99,
          1
         ],
         "xaxis": "x2",
         "y": [
          0.3361129416678951,
          0.3361129416678951,
          0.3361129416678951,
          0.3361129416678951,
          0.3361129416678951,
          0.3361129416678951,
          0.3359462750012284,
          0.33052106836654965,
          0.33052106836654965,
          0.33052106836654965,
          0.33052106836654965,
          0.33052106836654965,
          0.33052106836654965,
          0.33052106836654965,
          0.33052106836654965,
          0.3300210683665497,
          0.3300210683665497,
          0.3300210683665497,
          0.32390295514347645,
          0.30888936753708435,
          0.3057529218476974,
          0.30591958851436407,
          0.3067529218476974,
          0.3067529218476974,
          0.3067529218476974,
          0.30584223808701366,
          0.3057172380870136,
          0.3057172380870136,
          0.3047172380870136,
          0.3047172380870136,
          0.3047172380870136,
          0.3047172380870136,
          0.3047172380870136,
          0.3047172380870136,
          0.30521723808701356,
          0.30521723808701356,
          0.2981428410463712,
          0.2981428410463712,
          0.2967408802620573,
          0.2955702453414224,
          0.29502857867475574,
          0.29502857867475574,
          0.2948619120080891,
          0.2948619120080891,
          0.2946952453414224,
          0.2946952453414224,
          0.29386191200808903,
          0.29386191200808903,
          0.29386191200808903,
          0.29386191200808903,
          0.29386191200808903,
          0.29386191200808903,
          0.2938063564525335,
          0.2938063564525335,
          0.29099497025531124,
          0.29132830358864464,
          0.29132830358864464,
          0.29132830358864464,
          0.29132830358864464,
          0.291161636921978,
          0.291161636921978,
          0.291161636921978,
          0.291161636921978,
          0.28737817038851143,
          0.28737817038851143,
          0.28737817038851143,
          0.28737817038851143,
          0.28737817038851143,
          0.28737817038851143,
          0.28737817038851143,
          0.28737817038851143,
          0.28737817038851143,
          0.28721150372184473,
          0.28721150372184473,
          0.28721150372184473,
          0.28721150372184473,
          0.28721150372184473,
          0.28721150372184473,
          0.28721150372184473,
          0.28721150372184473,
          0.28441609518513195,
          0.2777924255340007,
          0.2778378800794552,
          0.2778378800794552,
          0.2780045467461219,
          0.2780045467461219,
          0.27638320862754107,
          0.27638320862754107,
          0.27638320862754107,
          0.27638320862754107,
          0.27638320862754107,
          0.27638320862754107,
          0.27638320862754107,
          0.27638320862754107,
          0.27638320862754107,
          0.27638320862754107,
          0.27638320862754107,
          0.27572209751642995,
          0.27572209751642995,
          0.2743201367321163,
          0.2743201367321163
         ],
         "yaxis": "y2"
        }
       ],
       "layout": {
        "annotations": [
         {
          "font": {
           "size": 13
          },
          "showarrow": false,
          "text": "from_netherlands",
          "x": 0.2375,
          "xanchor": "center",
          "xref": "paper",
          "y": 0.26666666666666666,
          "yanchor": "bottom",
          "yref": "paper"
         },
         {
          "font": {
           "size": 13
          },
          "showarrow": false,
          "text": "from_newyork",
          "x": 0.7625,
          "xanchor": "center",
          "xref": "paper",
          "y": 0.26666666666666666,
          "yanchor": "bottom",
          "yref": "paper"
         },
         {
          "font": {
           "size": 13
          },
          "showarrow": false,
          "text": "Lymphocytes",
          "x": 0.2375,
          "xanchor": "center",
          "xref": "paper",
          "y": 0.6333333333333333,
          "yanchor": "bottom",
          "yref": "paper"
         },
         {
          "font": {
           "size": 13
          },
          "showarrow": false,
          "text": "from_china",
          "x": 0.7625,
          "xanchor": "center",
          "xref": "paper",
          "y": 0.6333333333333333,
          "yanchor": "bottom",
          "yref": "paper"
         },
         {
          "font": {
           "size": 13
          },
          "showarrow": false,
          "text": "LDH",
          "x": 0.2375,
          "xanchor": "center",
          "xref": "paper",
          "y": 1,
          "yanchor": "bottom",
          "yref": "paper"
         },
         {
          "font": {
           "size": 13
          },
          "showarrow": false,
          "text": "CRP",
          "x": 0.7625,
          "xanchor": "center",
          "xref": "paper",
          "y": 1,
          "yanchor": "bottom",
          "yref": "paper"
         },
         {
          "font": {
           "size": 13
          },
          "showarrow": false,
          "text": "prediction",
          "textangle": -90,
          "x": -0.07,
          "xref": "paper",
          "y": 0.5,
          "yref": "paper"
         }
        ],
        "font": {
         "color": "#371ea3"
        },
        "height": 1169,
        "hovermode": "x unified",
        "legend": {
         "font": {
          "size": 11
         },
         "itemsizing": "constant",
         "orientation": "h",
         "title": {
          "font": {
           "size": 12
          },
          "text": "label"
         },
         "tracegroupgap": 0,
         "x": 1,
         "xanchor": "right",
         "y": 1.0256629597946962,
         "yanchor": "bottom"
        },
        "margin": {
         "b": 71,
         "r": 30,
         "t": 78
        },
        "template": {
         "data": {
          "scatter": [
           {
            "type": "scatter"
           }
          ]
         }
        },
        "title": {
         "font": {
          "size": 16
         },
         "text": "Aggregated Profiles",
         "x": 0.15
        },
        "xaxis": {
         "anchor": "y",
         "automargin": true,
         "domain": [
          0,
          0.475
         ],
         "fixedrange": true,
         "gridwidth": 2,
         "showticklabels": true,
         "tickcolor": "white",
         "ticklen": 3,
         "ticks": "outside",
         "title": {
          "text": ""
         },
         "type": "linear",
         "zeroline": false
        },
        "xaxis2": {
         "anchor": "y2",
         "automargin": true,
         "domain": [
          0.525,
          1
         ],
         "fixedrange": true,
         "gridwidth": 2,
         "showticklabels": true,
         "tickcolor": "white",
         "ticklen": 3,
         "ticks": "outside",
         "title": {
          "text": ""
         },
         "type": "linear",
         "zeroline": false
        },
        "xaxis3": {
         "anchor": "y3",
         "automargin": true,
         "domain": [
          0,
          0.475
         ],
         "fixedrange": true,
         "gridwidth": 2,
         "showticklabels": true,
         "tickcolor": "white",
         "ticklen": 3,
         "ticks": "outside",
         "title": {
          "text": ""
         },
         "type": "linear",
         "zeroline": false
        },
        "xaxis4": {
         "anchor": "y4",
         "automargin": true,
         "domain": [
          0.525,
          1
         ],
         "fixedrange": true,
         "gridwidth": 2,
         "showticklabels": true,
         "tickcolor": "white",
         "ticklen": 3,
         "ticks": "outside",
         "title": {
          "text": ""
         },
         "type": "linear",
         "zeroline": false
        },
        "xaxis5": {
         "anchor": "y5",
         "automargin": true,
         "domain": [
          0,
          0.475
         ],
         "fixedrange": true,
         "gridwidth": 2,
         "showticklabels": true,
         "tickcolor": "white",
         "ticklen": 3,
         "ticks": "outside",
         "title": {
          "text": ""
         },
         "type": "linear",
         "zeroline": false
        },
        "xaxis6": {
         "anchor": "y6",
         "automargin": true,
         "domain": [
          0.525,
          1
         ],
         "fixedrange": true,
         "gridwidth": 2,
         "showticklabels": true,
         "tickcolor": "white",
         "ticklen": 3,
         "ticks": "outside",
         "title": {
          "text": ""
         },
         "type": "linear",
         "zeroline": false
        },
        "yaxis": {
         "anchor": "x",
         "automargin": true,
         "domain": [
          0,
          0.26666666666666666
         ],
         "fixedrange": true,
         "gridwidth": 2,
         "range": [
          0.11852777777777782,
          0.9721944444444448
         ],
         "tickcolor": "white",
         "ticklen": 3,
         "ticks": "outside",
         "title": {
          "text": ""
         },
         "type": "linear",
         "zeroline": false
        },
        "yaxis2": {
         "anchor": "x2",
         "automargin": true,
         "domain": [
          0,
          0.26666666666666666
         ],
         "fixedrange": true,
         "gridwidth": 2,
         "matches": "y",
         "range": [
          0.11852777777777782,
          0.9721944444444448
         ],
         "showticklabels": false,
         "tickcolor": "white",
         "ticklen": 3,
         "ticks": "outside",
         "title": {
          "text": ""
         },
         "type": "linear",
         "zeroline": false
        },
        "yaxis3": {
         "anchor": "x3",
         "automargin": true,
         "domain": [
          0.36666666666666664,
          0.6333333333333333
         ],
         "fixedrange": true,
         "gridwidth": 2,
         "matches": "y",
         "range": [
          0.11852777777777782,
          0.9721944444444448
         ],
         "tickcolor": "white",
         "ticklen": 3,
         "ticks": "outside",
         "title": {
          "text": ""
         },
         "type": "linear",
         "zeroline": false
        },
        "yaxis4": {
         "anchor": "x4",
         "automargin": true,
         "domain": [
          0.36666666666666664,
          0.6333333333333333
         ],
         "fixedrange": true,
         "gridwidth": 2,
         "matches": "y",
         "range": [
          0.11852777777777782,
          0.9721944444444448
         ],
         "showticklabels": false,
         "tickcolor": "white",
         "ticklen": 3,
         "ticks": "outside",
         "title": {
          "text": ""
         },
         "type": "linear",
         "zeroline": false
        },
        "yaxis5": {
         "anchor": "x5",
         "automargin": true,
         "domain": [
          0.7333333333333333,
          1
         ],
         "fixedrange": true,
         "gridwidth": 2,
         "matches": "y",
         "range": [
          0.11852777777777782,
          0.9721944444444448
         ],
         "tickcolor": "white",
         "ticklen": 3,
         "ticks": "outside",
         "title": {
          "text": ""
         },
         "type": "linear",
         "zeroline": false
        },
        "yaxis6": {
         "anchor": "x6",
         "automargin": true,
         "domain": [
          0.7333333333333333,
          1
         ],
         "fixedrange": true,
         "gridwidth": 2,
         "matches": "y",
         "range": [
          0.11852777777777782,
          0.9721944444444448
         ],
         "showticklabels": false,
         "tickcolor": "white",
         "ticklen": 3,
         "ticks": "outside",
         "title": {
          "text": ""
         },
         "type": "linear",
         "zeroline": false
        }
       }
      },
      "text/html": [
       "<div>                            <div id=\"9490a099-665b-4b8f-9261-e73163d68022\" class=\"plotly-graph-div\" style=\"height:1169px; width:100%;\"></div>            <script type=\"text/javascript\">                require([\"plotly\"], function(Plotly) {                    window.PLOTLYENV=window.PLOTLYENV || {};                                    if (document.getElementById(\"9490a099-665b-4b8f-9261-e73163d68022\")) {                    Plotly.newPlot(                        \"9490a099-665b-4b8f-9261-e73163d68022\",                        [{\"customdata\": [[0.3361129416678951, \"GridSearchCV\", \"LDH\"], [0.3361129416678951, \"GridSearchCV\", \"LDH\"], [0.3361129416678951, \"GridSearchCV\", \"LDH\"], [0.3361129416678951, \"GridSearchCV\", \"LDH\"], [0.3361129416678951, \"GridSearchCV\", \"LDH\"], [0.3361129416678951, \"GridSearchCV\", \"LDH\"], [0.3361129416678951, \"GridSearchCV\", \"LDH\"], [0.3361129416678951, \"GridSearchCV\", \"LDH\"], [0.3361129416678951, \"GridSearchCV\", \"LDH\"], [0.3361129416678951, \"GridSearchCV\", \"LDH\"], [0.3361129416678951, \"GridSearchCV\", \"LDH\"], [0.3361129416678951, \"GridSearchCV\", \"LDH\"], [0.3361129416678951, \"GridSearchCV\", \"LDH\"], [0.3361129416678951, \"GridSearchCV\", \"LDH\"], [0.3361129416678951, \"GridSearchCV\", \"LDH\"], [0.3361129416678951, \"GridSearchCV\", \"LDH\"], [0.3361129416678951, \"GridSearchCV\", \"LDH\"], [0.3361129416678951, \"GridSearchCV\", \"LDH\"], [0.3361129416678951, \"GridSearchCV\", \"LDH\"], [0.3361129416678951, \"GridSearchCV\", \"LDH\"], [0.3361129416678951, \"GridSearchCV\", \"LDH\"], [0.3361129416678951, \"GridSearchCV\", \"LDH\"], [0.3361129416678951, \"GridSearchCV\", \"LDH\"], [0.3361129416678951, \"GridSearchCV\", \"LDH\"], [0.3361129416678951, \"GridSearchCV\", \"LDH\"], [0.3361129416678951, \"GridSearchCV\", \"LDH\"], [0.3361129416678951, \"GridSearchCV\", \"LDH\"], [0.3361129416678951, \"GridSearchCV\", \"LDH\"], [0.3361129416678951, \"GridSearchCV\", \"LDH\"], [0.3361129416678951, \"GridSearchCV\", \"LDH\"], [0.3361129416678951, \"GridSearchCV\", \"LDH\"], [0.3361129416678951, \"GridSearchCV\", \"LDH\"], [0.3361129416678951, \"GridSearchCV\", \"LDH\"], [0.3361129416678951, \"GridSearchCV\", \"LDH\"], [0.3361129416678951, \"GridSearchCV\", \"LDH\"], [0.3361129416678951, \"GridSearchCV\", \"LDH\"], [0.3361129416678951, \"GridSearchCV\", \"LDH\"], [0.3361129416678951, \"GridSearchCV\", \"LDH\"], [0.3361129416678951, \"GridSearchCV\", \"LDH\"], [0.3361129416678951, \"GridSearchCV\", \"LDH\"], [0.3361129416678951, \"GridSearchCV\", \"LDH\"], [0.3361129416678951, \"GridSearchCV\", \"LDH\"], [0.3361129416678951, \"GridSearchCV\", \"LDH\"], [0.3361129416678951, \"GridSearchCV\", \"LDH\"], [0.3361129416678951, \"GridSearchCV\", \"LDH\"], [0.3361129416678951, \"GridSearchCV\", \"LDH\"], [0.3361129416678951, \"GridSearchCV\", \"LDH\"], [0.3361129416678951, \"GridSearchCV\", \"LDH\"], [0.3361129416678951, \"GridSearchCV\", \"LDH\"], [0.3361129416678951, \"GridSearchCV\", \"LDH\"], [0.3361129416678951, \"GridSearchCV\", \"LDH\"], [0.3361129416678951, \"GridSearchCV\", \"LDH\"], [0.3361129416678951, \"GridSearchCV\", \"LDH\"], [0.3361129416678951, \"GridSearchCV\", \"LDH\"], [0.3361129416678951, \"GridSearchCV\", \"LDH\"], [0.3361129416678951, \"GridSearchCV\", \"LDH\"], [0.3361129416678951, \"GridSearchCV\", \"LDH\"], [0.3361129416678951, \"GridSearchCV\", \"LDH\"], [0.3361129416678951, \"GridSearchCV\", \"LDH\"], [0.3361129416678951, \"GridSearchCV\", \"LDH\"], [0.3361129416678951, \"GridSearchCV\", \"LDH\"], [0.3361129416678951, \"GridSearchCV\", \"LDH\"], [0.3361129416678951, \"GridSearchCV\", \"LDH\"], [0.3361129416678951, \"GridSearchCV\", \"LDH\"], [0.3361129416678951, \"GridSearchCV\", \"LDH\"], [0.3361129416678951, \"GridSearchCV\", \"LDH\"], [0.3361129416678951, \"GridSearchCV\", \"LDH\"], [0.3361129416678951, \"GridSearchCV\", \"LDH\"], [0.3361129416678951, \"GridSearchCV\", \"LDH\"], [0.3361129416678951, \"GridSearchCV\", \"LDH\"], [0.3361129416678951, \"GridSearchCV\", \"LDH\"], [0.3361129416678951, \"GridSearchCV\", \"LDH\"], [0.3361129416678951, \"GridSearchCV\", \"LDH\"], [0.3361129416678951, \"GridSearchCV\", \"LDH\"], [0.3361129416678951, \"GridSearchCV\", \"LDH\"], [0.3361129416678951, \"GridSearchCV\", \"LDH\"], [0.3361129416678951, \"GridSearchCV\", \"LDH\"], [0.3361129416678951, \"GridSearchCV\", \"LDH\"], [0.3361129416678951, \"GridSearchCV\", \"LDH\"], [0.3361129416678951, \"GridSearchCV\", \"LDH\"], [0.3361129416678951, \"GridSearchCV\", \"LDH\"], [0.3361129416678951, \"GridSearchCV\", \"LDH\"], [0.3361129416678951, \"GridSearchCV\", \"LDH\"], [0.3361129416678951, \"GridSearchCV\", \"LDH\"], [0.3361129416678951, \"GridSearchCV\", \"LDH\"], [0.3361129416678951, \"GridSearchCV\", \"LDH\"], [0.3361129416678951, \"GridSearchCV\", \"LDH\"], [0.3361129416678951, \"GridSearchCV\", \"LDH\"], [0.3361129416678951, \"GridSearchCV\", \"LDH\"], [0.3361129416678951, \"GridSearchCV\", \"LDH\"], [0.3361129416678951, \"GridSearchCV\", \"LDH\"], [0.3361129416678951, \"GridSearchCV\", \"LDH\"], [0.3361129416678951, \"GridSearchCV\", \"LDH\"], [0.3361129416678951, \"GridSearchCV\", \"LDH\"], [0.3361129416678951, \"GridSearchCV\", \"LDH\"], [0.3361129416678951, \"GridSearchCV\", \"LDH\"], [0.3361129416678951, \"GridSearchCV\", \"LDH\"], [0.3361129416678951, \"GridSearchCV\", \"LDH\"], [0.3361129416678951, \"GridSearchCV\", \"LDH\"], [0.3361129416678951, \"GridSearchCV\", \"LDH\"], [0.3361129416678951, \"GridSearchCV\", \"LDH\"]], \"hovertemplate\": \"<b>%{hovertext}</b><br><br>prediction=%{y:.3f}<br>mean_prediction=%{customdata[0]:.3f}<extra></extra>\", \"hovertext\": [\"GridSearchCV\", \"GridSearchCV\", \"GridSearchCV\", \"GridSearchCV\", \"GridSearchCV\", \"GridSearchCV\", \"GridSearchCV\", \"GridSearchCV\", \"GridSearchCV\", \"GridSearchCV\", \"GridSearchCV\", \"GridSearchCV\", \"GridSearchCV\", \"GridSearchCV\", \"GridSearchCV\", \"GridSearchCV\", \"GridSearchCV\", \"GridSearchCV\", \"GridSearchCV\", \"GridSearchCV\", \"GridSearchCV\", \"GridSearchCV\", \"GridSearchCV\", \"GridSearchCV\", \"GridSearchCV\", \"GridSearchCV\", \"GridSearchCV\", \"GridSearchCV\", \"GridSearchCV\", \"GridSearchCV\", \"GridSearchCV\", \"GridSearchCV\", \"GridSearchCV\", \"GridSearchCV\", \"GridSearchCV\", \"GridSearchCV\", \"GridSearchCV\", \"GridSearchCV\", \"GridSearchCV\", \"GridSearchCV\", \"GridSearchCV\", \"GridSearchCV\", \"GridSearchCV\", \"GridSearchCV\", \"GridSearchCV\", \"GridSearchCV\", \"GridSearchCV\", \"GridSearchCV\", \"GridSearchCV\", \"GridSearchCV\", \"GridSearchCV\", \"GridSearchCV\", \"GridSearchCV\", \"GridSearchCV\", \"GridSearchCV\", \"GridSearchCV\", \"GridSearchCV\", \"GridSearchCV\", \"GridSearchCV\", \"GridSearchCV\", \"GridSearchCV\", \"GridSearchCV\", \"GridSearchCV\", \"GridSearchCV\", \"GridSearchCV\", \"GridSearchCV\", \"GridSearchCV\", \"GridSearchCV\", \"GridSearchCV\", \"GridSearchCV\", \"GridSearchCV\", \"GridSearchCV\", \"GridSearchCV\", \"GridSearchCV\", \"GridSearchCV\", \"GridSearchCV\", \"GridSearchCV\", \"GridSearchCV\", \"GridSearchCV\", \"GridSearchCV\", \"GridSearchCV\", \"GridSearchCV\", \"GridSearchCV\", \"GridSearchCV\", \"GridSearchCV\", \"GridSearchCV\", \"GridSearchCV\", \"GridSearchCV\", \"GridSearchCV\", \"GridSearchCV\", \"GridSearchCV\", \"GridSearchCV\", \"GridSearchCV\", \"GridSearchCV\", \"GridSearchCV\", \"GridSearchCV\", \"GridSearchCV\", \"GridSearchCV\", \"GridSearchCV\", \"GridSearchCV\", \"GridSearchCV\"], \"legendgroup\": \"GridSearchCV\", \"line\": {\"color\": \"#46bac2\", \"dash\": \"solid\", \"width\": 2}, \"mode\": \"lines\", \"name\": \"GridSearchCV\", \"opacity\": 1, \"orientation\": \"v\", \"showlegend\": true, \"type\": \"scatter\", \"x\": [-1.0, 26.23, 53.46, 80.69, 107.92, 135.15, 162.38, 189.61, 216.84, 244.07, 271.3, 298.53000000000003, 325.76, 352.99, 380.22, 407.45, 434.68, 461.91, 489.14, 516.37, 543.6, 570.83, 598.0600000000001, 625.29, 652.52, 679.75, 706.98, 734.21, 761.44, 788.67, 815.9, 843.13, 870.36, 897.59, 924.82, 952.0500000000001, 979.28, 1006.51, 1033.74, 1060.97, 1088.2, 1115.43, 1142.66, 1169.89, 1197.1200000000001, 1224.35, 1251.58, 1278.81, 1306.04, 1333.27, 1360.5, 1387.73, 1414.96, 1442.19, 1469.42, 1496.65, 1523.88, 1551.1100000000001, 1578.34, 1605.57, 1632.8, 1660.03, 1687.26, 1714.49, 1741.72, 1768.95, 1796.18, 1823.41, 1850.64, 1877.8700000000001, 1905.1000000000001, 1932.33, 1959.56, 1986.79, 2014.02, 2041.25, 2068.48, 2095.71, 2122.94, 2150.17, 2177.4, 2204.63, 2231.86, 2259.09, 2286.32, 2313.55, 2340.78, 2368.01, 2395.2400000000002, 2422.4700000000003, 2449.7, 2476.93, 2504.16, 2531.39, 2558.62, 2585.85, 2613.08, 2640.31, 2667.54, 2694.77, 2722.0], \"xaxis\": \"x5\", \"y\": [0.2182271241830065, 0.21018790849673202, 0.2064133986928104, 0.20393790849673188, 0.1940653594771242, 0.1957908496732026, 0.19756535947712422, 0.19446732026143804, 0.19946732026143793, 0.24682420389208318, 0.26132698166986085, 0.2742674578603373, 0.3344241830065358, 0.41311862745098, 0.48747271241830037, 0.5357504901960786, 0.5329406862745099, 0.5819725490196079, 0.615718300653595, 0.6180460784313733, 0.6504807189542479, 0.6511354808590096, 0.651468814192343, 0.6480006769374406, 0.6527506769374413, 0.6514543806411449, 0.6567877139744783, 0.656954380641145, 0.6598710473078114, 0.661437713974478, 0.6646964285714282, 0.6665853174603171, 0.6665853174603171, 0.6890853174603172, 0.6890853174603172, 0.6912519841269839, 0.6912519841269839, 0.7002519841269839, 0.7049186507936509, 0.735585317460317, 0.7362519841269837, 0.7544186507936506, 0.7844186507936506, 0.7846805555555555, 0.8141805555555557, 0.814388888888889, 0.8145555555555558, 0.8308888888888887, 0.8347222222222216, 0.835055555555555, 0.835055555555555, 0.835055555555555, 0.8832222222222231, 0.8832222222222231, 0.883722222222223, 0.8843888888888898, 0.8848888888888896, 0.885222222222223, 0.885222222222223, 0.885222222222223, 0.8860555555555563, 0.8860555555555563, 0.8968888888888894, 0.8968888888888894, 0.8975555555555562, 0.9010555555555559, 0.9010555555555559, 0.8683888888888887, 0.8995555555555558, 0.8997222222222224, 0.8997222222222224, 0.8997222222222224, 0.8997222222222224, 0.8497222222222208, 0.8497222222222208, 0.8497222222222208, 0.8497222222222208, 0.8497222222222208, 0.8497222222222208, 0.8497222222222208, 0.8497222222222208, 0.8497222222222208, 0.8497222222222208, 0.8497222222222208, 0.8497222222222208, 0.8497222222222208, 0.8012222222222231, 0.8012222222222231, 0.8012222222222231, 0.8012222222222231, 0.8012222222222231, 0.8012222222222231, 0.8012222222222231, 0.8012222222222231, 0.8012222222222231, 0.8012222222222231, 0.8012222222222231, 0.8012222222222231, 0.8012222222222231, 0.8012222222222231, 0.8012222222222231], \"yaxis\": \"y5\"}, {\"customdata\": [[0.3361129416678951, \"GridSearchCV\", \"CRP\"], [0.3361129416678951, \"GridSearchCV\", \"CRP\"], [0.3361129416678951, \"GridSearchCV\", \"CRP\"], [0.3361129416678951, \"GridSearchCV\", \"CRP\"], [0.3361129416678951, \"GridSearchCV\", \"CRP\"], [0.3361129416678951, \"GridSearchCV\", \"CRP\"], [0.3361129416678951, \"GridSearchCV\", \"CRP\"], [0.3361129416678951, \"GridSearchCV\", \"CRP\"], [0.3361129416678951, \"GridSearchCV\", \"CRP\"], [0.3361129416678951, \"GridSearchCV\", \"CRP\"], [0.3361129416678951, \"GridSearchCV\", \"CRP\"], [0.3361129416678951, \"GridSearchCV\", \"CRP\"], [0.3361129416678951, \"GridSearchCV\", \"CRP\"], [0.3361129416678951, \"GridSearchCV\", \"CRP\"], [0.3361129416678951, \"GridSearchCV\", \"CRP\"], [0.3361129416678951, \"GridSearchCV\", \"CRP\"], [0.3361129416678951, \"GridSearchCV\", \"CRP\"], [0.3361129416678951, \"GridSearchCV\", \"CRP\"], [0.3361129416678951, \"GridSearchCV\", \"CRP\"], [0.3361129416678951, \"GridSearchCV\", \"CRP\"], [0.3361129416678951, \"GridSearchCV\", \"CRP\"], [0.3361129416678951, \"GridSearchCV\", \"CRP\"], [0.3361129416678951, \"GridSearchCV\", \"CRP\"], [0.3361129416678951, \"GridSearchCV\", \"CRP\"], [0.3361129416678951, \"GridSearchCV\", \"CRP\"], [0.3361129416678951, \"GridSearchCV\", \"CRP\"], [0.3361129416678951, \"GridSearchCV\", \"CRP\"], [0.3361129416678951, \"GridSearchCV\", \"CRP\"], [0.3361129416678951, \"GridSearchCV\", \"CRP\"], [0.3361129416678951, \"GridSearchCV\", \"CRP\"], [0.3361129416678951, \"GridSearchCV\", \"CRP\"], [0.3361129416678951, \"GridSearchCV\", \"CRP\"], [0.3361129416678951, \"GridSearchCV\", \"CRP\"], [0.3361129416678951, \"GridSearchCV\", \"CRP\"], [0.3361129416678951, \"GridSearchCV\", \"CRP\"], [0.3361129416678951, \"GridSearchCV\", \"CRP\"], [0.3361129416678951, \"GridSearchCV\", \"CRP\"], [0.3361129416678951, \"GridSearchCV\", \"CRP\"], [0.3361129416678951, \"GridSearchCV\", \"CRP\"], [0.3361129416678951, \"GridSearchCV\", \"CRP\"], [0.3361129416678951, \"GridSearchCV\", \"CRP\"], [0.3361129416678951, \"GridSearchCV\", \"CRP\"], [0.3361129416678951, \"GridSearchCV\", \"CRP\"], [0.3361129416678951, \"GridSearchCV\", \"CRP\"], [0.3361129416678951, \"GridSearchCV\", \"CRP\"], [0.3361129416678951, \"GridSearchCV\", \"CRP\"], [0.3361129416678951, \"GridSearchCV\", \"CRP\"], [0.3361129416678951, \"GridSearchCV\", \"CRP\"], [0.3361129416678951, \"GridSearchCV\", \"CRP\"], [0.3361129416678951, \"GridSearchCV\", \"CRP\"], [0.3361129416678951, \"GridSearchCV\", \"CRP\"], [0.3361129416678951, \"GridSearchCV\", \"CRP\"], [0.3361129416678951, \"GridSearchCV\", \"CRP\"], [0.3361129416678951, \"GridSearchCV\", \"CRP\"], [0.3361129416678951, \"GridSearchCV\", \"CRP\"], [0.3361129416678951, \"GridSearchCV\", \"CRP\"], [0.3361129416678951, \"GridSearchCV\", \"CRP\"], [0.3361129416678951, \"GridSearchCV\", \"CRP\"], [0.3361129416678951, \"GridSearchCV\", \"CRP\"], [0.3361129416678951, \"GridSearchCV\", \"CRP\"], [0.3361129416678951, \"GridSearchCV\", \"CRP\"], [0.3361129416678951, \"GridSearchCV\", \"CRP\"], [0.3361129416678951, \"GridSearchCV\", \"CRP\"], [0.3361129416678951, \"GridSearchCV\", \"CRP\"], [0.3361129416678951, \"GridSearchCV\", \"CRP\"], [0.3361129416678951, \"GridSearchCV\", \"CRP\"], [0.3361129416678951, \"GridSearchCV\", \"CRP\"], [0.3361129416678951, \"GridSearchCV\", \"CRP\"], [0.3361129416678951, \"GridSearchCV\", \"CRP\"], [0.3361129416678951, \"GridSearchCV\", \"CRP\"], [0.3361129416678951, \"GridSearchCV\", \"CRP\"], [0.3361129416678951, \"GridSearchCV\", \"CRP\"], [0.3361129416678951, \"GridSearchCV\", \"CRP\"], [0.3361129416678951, \"GridSearchCV\", \"CRP\"], [0.3361129416678951, \"GridSearchCV\", \"CRP\"], [0.3361129416678951, \"GridSearchCV\", \"CRP\"], [0.3361129416678951, \"GridSearchCV\", \"CRP\"], [0.3361129416678951, \"GridSearchCV\", \"CRP\"], [0.3361129416678951, \"GridSearchCV\", \"CRP\"], [0.3361129416678951, \"GridSearchCV\", \"CRP\"], [0.3361129416678951, \"GridSearchCV\", \"CRP\"], [0.3361129416678951, \"GridSearchCV\", \"CRP\"], [0.3361129416678951, \"GridSearchCV\", \"CRP\"], [0.3361129416678951, \"GridSearchCV\", \"CRP\"], [0.3361129416678951, \"GridSearchCV\", \"CRP\"], [0.3361129416678951, \"GridSearchCV\", \"CRP\"], [0.3361129416678951, \"GridSearchCV\", \"CRP\"], [0.3361129416678951, \"GridSearchCV\", \"CRP\"], [0.3361129416678951, \"GridSearchCV\", \"CRP\"], [0.3361129416678951, \"GridSearchCV\", \"CRP\"], [0.3361129416678951, \"GridSearchCV\", \"CRP\"], [0.3361129416678951, \"GridSearchCV\", \"CRP\"], [0.3361129416678951, \"GridSearchCV\", \"CRP\"], [0.3361129416678951, \"GridSearchCV\", \"CRP\"], [0.3361129416678951, \"GridSearchCV\", \"CRP\"], [0.3361129416678951, \"GridSearchCV\", \"CRP\"], [0.3361129416678951, \"GridSearchCV\", \"CRP\"], [0.3361129416678951, \"GridSearchCV\", \"CRP\"], [0.3361129416678951, \"GridSearchCV\", \"CRP\"], [0.3361129416678951, \"GridSearchCV\", \"CRP\"], [0.3361129416678951, \"GridSearchCV\", \"CRP\"]], \"hovertemplate\": \"<b>%{hovertext}</b><br><br>prediction=%{y:.3f}<br>mean_prediction=%{customdata[0]:.3f}<extra></extra>\", \"hovertext\": [\"GridSearchCV\", \"GridSearchCV\", \"GridSearchCV\", \"GridSearchCV\", \"GridSearchCV\", \"GridSearchCV\", \"GridSearchCV\", \"GridSearchCV\", \"GridSearchCV\", \"GridSearchCV\", \"GridSearchCV\", \"GridSearchCV\", \"GridSearchCV\", \"GridSearchCV\", \"GridSearchCV\", \"GridSearchCV\", \"GridSearchCV\", \"GridSearchCV\", \"GridSearchCV\", \"GridSearchCV\", \"GridSearchCV\", \"GridSearchCV\", \"GridSearchCV\", \"GridSearchCV\", \"GridSearchCV\", \"GridSearchCV\", \"GridSearchCV\", \"GridSearchCV\", \"GridSearchCV\", \"GridSearchCV\", \"GridSearchCV\", \"GridSearchCV\", \"GridSearchCV\", \"GridSearchCV\", \"GridSearchCV\", \"GridSearchCV\", \"GridSearchCV\", \"GridSearchCV\", \"GridSearchCV\", \"GridSearchCV\", \"GridSearchCV\", \"GridSearchCV\", \"GridSearchCV\", \"GridSearchCV\", \"GridSearchCV\", \"GridSearchCV\", \"GridSearchCV\", \"GridSearchCV\", \"GridSearchCV\", \"GridSearchCV\", \"GridSearchCV\", \"GridSearchCV\", \"GridSearchCV\", \"GridSearchCV\", \"GridSearchCV\", \"GridSearchCV\", \"GridSearchCV\", \"GridSearchCV\", \"GridSearchCV\", \"GridSearchCV\", \"GridSearchCV\", \"GridSearchCV\", \"GridSearchCV\", \"GridSearchCV\", \"GridSearchCV\", \"GridSearchCV\", \"GridSearchCV\", \"GridSearchCV\", \"GridSearchCV\", \"GridSearchCV\", \"GridSearchCV\", \"GridSearchCV\", \"GridSearchCV\", \"GridSearchCV\", \"GridSearchCV\", \"GridSearchCV\", \"GridSearchCV\", \"GridSearchCV\", \"GridSearchCV\", \"GridSearchCV\", \"GridSearchCV\", \"GridSearchCV\", \"GridSearchCV\", \"GridSearchCV\", \"GridSearchCV\", \"GridSearchCV\", \"GridSearchCV\", \"GridSearchCV\", \"GridSearchCV\", \"GridSearchCV\", \"GridSearchCV\", \"GridSearchCV\", \"GridSearchCV\", \"GridSearchCV\", \"GridSearchCV\", \"GridSearchCV\", \"GridSearchCV\", \"GridSearchCV\", \"GridSearchCV\", \"GridSearchCV\", \"GridSearchCV\"], \"legendgroup\": \"GridSearchCV\", \"line\": {\"color\": \"#46bac2\", \"dash\": \"solid\", \"width\": 2}, \"mode\": \"lines\", \"name\": \"GridSearchCV\", \"opacity\": 1, \"orientation\": \"v\", \"showlegend\": false, \"type\": \"scatter\", \"x\": [-1.0, 4.949, 10.898, 16.847, 22.796, 28.744999999999997, 34.694, 40.643, 46.592, 52.541, 58.489999999999995, 64.439, 70.388, 76.337, 82.286, 88.235, 94.184, 100.133, 106.082, 112.03099999999999, 117.97999999999999, 123.929, 129.878, 135.827, 141.776, 147.725, 153.674, 159.623, 165.572, 171.521, 177.47, 183.41899999999998, 189.368, 195.317, 201.266, 207.215, 213.164, 219.113, 225.06199999999998, 231.011, 236.95999999999998, 242.909, 248.858, 254.807, 260.756, 266.705, 272.654, 278.603, 284.552, 290.501, 296.45, 302.399, 308.348, 314.29699999999997, 320.246, 326.195, 332.144, 338.093, 344.042, 349.991, 355.94, 361.889, 367.83799999999997, 373.787, 379.736, 385.685, 391.634, 397.58299999999997, 403.532, 409.481, 415.43, 421.37899999999996, 427.328, 433.277, 439.226, 445.175, 451.12399999999997, 457.073, 463.022, 468.971, 474.91999999999996, 480.86899999999997, 486.818, 492.767, 498.716, 504.66499999999996, 510.614, 516.563, 522.512, 528.461, 534.41, 540.359, 546.308, 552.257, 558.206, 564.155, 570.104, 576.053, 582.002, 587.951, 593.9], \"xaxis\": \"x6\", \"y\": [0.2828256241092927, 0.2651491535210575, 0.2548158201877245, 0.279389349599489, 0.27602660450144956, 0.3072226829328223, 0.32216315912329846, 0.341829825789965, 0.3635111983389846, 0.38935923755467083, 0.45185923755467117, 0.4866925708880039, 0.42774812644356086, 0.4631954948646122, 0.48879549486461277, 0.5039066059757235, 0.5450732726423906, 0.6420046451914099, 0.6443713118580765, 0.6433296451914097, 0.6662372082166205, 0.6762372082166198, 0.702903874883286, 0.7155705415499526, 0.7544038748832866, 0.7232705415499532, 0.7181038748832862, 0.6567122082166201, 0.6735455415499526, 0.6688788748832861, 0.6804066526610636, 0.6835880252100833, 0.6907546918767502, 0.7389193977591042, 0.7681693977591033, 0.775502731092437, 0.7976693977591041, 0.7976693977591041, 0.7976693977591041, 0.7983360644257705, 0.8188360644257704, 0.8188360644257704, 0.8188360644257704, 0.8188360644257704, 0.8194789215686278, 0.8359789215686277, 0.8356178104575166, 0.8356178104575166, 0.8356178104575166, 0.8357844771241834, 0.8373594771241833, 0.8373594771241833, 0.8373594771241833, 0.8373594771241833, 0.8311928104575169, 0.8311928104575169, 0.830692810457517, 0.830692810457517, 0.825359477124183, 0.825359477124183, 0.825359477124183, 0.825359477124183, 0.825359477124183, 0.8255261437908497, 0.8255261437908497, 0.8255261437908497, 0.8255261437908497, 0.8255261437908497, 0.8255261437908497, 0.8255261437908497, 0.8255261437908497, 0.8255261437908497, 0.8255261437908497, 0.8255261437908497, 0.8255261437908497, 0.8255261437908497, 0.8255261437908497, 0.8255261437908497, 0.8255261437908497, 0.825359477124183, 0.825359477124183, 0.825359477124183, 0.825359477124183, 0.825359477124183, 0.825359477124183, 0.825359477124183, 0.825359477124183, 0.825359477124183, 0.825359477124183, 0.825359477124183, 0.825359477124183, 0.825359477124183, 0.825359477124183, 0.825359477124183, 0.825359477124183, 0.825359477124183, 0.825359477124183, 0.825359477124183, 0.825359477124183, 0.825359477124183, 0.825359477124183], \"yaxis\": \"y6\"}, {\"customdata\": [[0.3361129416678951, \"GridSearchCV\", \"Lymphocytes\"], [0.3361129416678951, \"GridSearchCV\", \"Lymphocytes\"], [0.3361129416678951, \"GridSearchCV\", \"Lymphocytes\"], [0.3361129416678951, \"GridSearchCV\", \"Lymphocytes\"], [0.3361129416678951, \"GridSearchCV\", \"Lymphocytes\"], [0.3361129416678951, \"GridSearchCV\", \"Lymphocytes\"], [0.3361129416678951, \"GridSearchCV\", \"Lymphocytes\"], [0.3361129416678951, \"GridSearchCV\", \"Lymphocytes\"], [0.3361129416678951, \"GridSearchCV\", \"Lymphocytes\"], [0.3361129416678951, \"GridSearchCV\", \"Lymphocytes\"], [0.3361129416678951, \"GridSearchCV\", \"Lymphocytes\"], [0.3361129416678951, \"GridSearchCV\", \"Lymphocytes\"], [0.3361129416678951, \"GridSearchCV\", \"Lymphocytes\"], [0.3361129416678951, \"GridSearchCV\", \"Lymphocytes\"], [0.3361129416678951, \"GridSearchCV\", \"Lymphocytes\"], [0.3361129416678951, \"GridSearchCV\", \"Lymphocytes\"], [0.3361129416678951, \"GridSearchCV\", \"Lymphocytes\"], [0.3361129416678951, \"GridSearchCV\", \"Lymphocytes\"], [0.3361129416678951, \"GridSearchCV\", \"Lymphocytes\"], [0.3361129416678951, \"GridSearchCV\", \"Lymphocytes\"], [0.3361129416678951, \"GridSearchCV\", \"Lymphocytes\"], [0.3361129416678951, \"GridSearchCV\", \"Lymphocytes\"], [0.3361129416678951, \"GridSearchCV\", \"Lymphocytes\"], [0.3361129416678951, \"GridSearchCV\", \"Lymphocytes\"], [0.3361129416678951, \"GridSearchCV\", \"Lymphocytes\"], [0.3361129416678951, \"GridSearchCV\", \"Lymphocytes\"], [0.3361129416678951, \"GridSearchCV\", \"Lymphocytes\"], [0.3361129416678951, \"GridSearchCV\", \"Lymphocytes\"], [0.3361129416678951, \"GridSearchCV\", \"Lymphocytes\"], [0.3361129416678951, \"GridSearchCV\", \"Lymphocytes\"], [0.3361129416678951, \"GridSearchCV\", \"Lymphocytes\"], [0.3361129416678951, \"GridSearchCV\", \"Lymphocytes\"], [0.3361129416678951, \"GridSearchCV\", \"Lymphocytes\"], [0.3361129416678951, \"GridSearchCV\", \"Lymphocytes\"], [0.3361129416678951, \"GridSearchCV\", \"Lymphocytes\"], [0.3361129416678951, \"GridSearchCV\", \"Lymphocytes\"], [0.3361129416678951, \"GridSearchCV\", \"Lymphocytes\"], [0.3361129416678951, \"GridSearchCV\", \"Lymphocytes\"], [0.3361129416678951, \"GridSearchCV\", \"Lymphocytes\"], [0.3361129416678951, \"GridSearchCV\", \"Lymphocytes\"], [0.3361129416678951, \"GridSearchCV\", \"Lymphocytes\"], [0.3361129416678951, \"GridSearchCV\", \"Lymphocytes\"], [0.3361129416678951, \"GridSearchCV\", \"Lymphocytes\"], [0.3361129416678951, \"GridSearchCV\", \"Lymphocytes\"], [0.3361129416678951, \"GridSearchCV\", \"Lymphocytes\"], [0.3361129416678951, \"GridSearchCV\", \"Lymphocytes\"], [0.3361129416678951, \"GridSearchCV\", \"Lymphocytes\"], [0.3361129416678951, \"GridSearchCV\", \"Lymphocytes\"], [0.3361129416678951, \"GridSearchCV\", \"Lymphocytes\"], [0.3361129416678951, \"GridSearchCV\", \"Lymphocytes\"], [0.3361129416678951, \"GridSearchCV\", \"Lymphocytes\"], [0.3361129416678951, \"GridSearchCV\", \"Lymphocytes\"], [0.3361129416678951, \"GridSearchCV\", \"Lymphocytes\"], [0.3361129416678951, \"GridSearchCV\", \"Lymphocytes\"], [0.3361129416678951, \"GridSearchCV\", \"Lymphocytes\"], [0.3361129416678951, \"GridSearchCV\", \"Lymphocytes\"], [0.3361129416678951, \"GridSearchCV\", \"Lymphocytes\"], [0.3361129416678951, \"GridSearchCV\", \"Lymphocytes\"], [0.3361129416678951, \"GridSearchCV\", \"Lymphocytes\"], [0.3361129416678951, \"GridSearchCV\", \"Lymphocytes\"], [0.3361129416678951, \"GridSearchCV\", \"Lymphocytes\"], [0.3361129416678951, \"GridSearchCV\", \"Lymphocytes\"], [0.3361129416678951, \"GridSearchCV\", \"Lymphocytes\"], [0.3361129416678951, \"GridSearchCV\", \"Lymphocytes\"], [0.3361129416678951, \"GridSearchCV\", \"Lymphocytes\"], [0.3361129416678951, \"GridSearchCV\", \"Lymphocytes\"], [0.3361129416678951, \"GridSearchCV\", \"Lymphocytes\"], [0.3361129416678951, \"GridSearchCV\", \"Lymphocytes\"], [0.3361129416678951, \"GridSearchCV\", \"Lymphocytes\"], [0.3361129416678951, \"GridSearchCV\", \"Lymphocytes\"], [0.3361129416678951, \"GridSearchCV\", \"Lymphocytes\"], [0.3361129416678951, \"GridSearchCV\", \"Lymphocytes\"], [0.3361129416678951, \"GridSearchCV\", \"Lymphocytes\"], [0.3361129416678951, \"GridSearchCV\", \"Lymphocytes\"], [0.3361129416678951, \"GridSearchCV\", \"Lymphocytes\"], [0.3361129416678951, \"GridSearchCV\", \"Lymphocytes\"], [0.3361129416678951, \"GridSearchCV\", \"Lymphocytes\"], [0.3361129416678951, \"GridSearchCV\", \"Lymphocytes\"], [0.3361129416678951, \"GridSearchCV\", \"Lymphocytes\"], [0.3361129416678951, \"GridSearchCV\", \"Lymphocytes\"], [0.3361129416678951, \"GridSearchCV\", \"Lymphocytes\"], [0.3361129416678951, \"GridSearchCV\", \"Lymphocytes\"], [0.3361129416678951, \"GridSearchCV\", \"Lymphocytes\"], [0.3361129416678951, \"GridSearchCV\", \"Lymphocytes\"], [0.3361129416678951, \"GridSearchCV\", \"Lymphocytes\"], [0.3361129416678951, \"GridSearchCV\", \"Lymphocytes\"], [0.3361129416678951, \"GridSearchCV\", \"Lymphocytes\"], [0.3361129416678951, \"GridSearchCV\", \"Lymphocytes\"], [0.3361129416678951, \"GridSearchCV\", \"Lymphocytes\"], [0.3361129416678951, \"GridSearchCV\", \"Lymphocytes\"], [0.3361129416678951, \"GridSearchCV\", \"Lymphocytes\"], [0.3361129416678951, \"GridSearchCV\", \"Lymphocytes\"], [0.3361129416678951, \"GridSearchCV\", \"Lymphocytes\"], [0.3361129416678951, \"GridSearchCV\", \"Lymphocytes\"], [0.3361129416678951, \"GridSearchCV\", \"Lymphocytes\"], [0.3361129416678951, \"GridSearchCV\", \"Lymphocytes\"], [0.3361129416678951, \"GridSearchCV\", \"Lymphocytes\"], [0.3361129416678951, \"GridSearchCV\", \"Lymphocytes\"], [0.3361129416678951, \"GridSearchCV\", \"Lymphocytes\"], [0.3361129416678951, \"GridSearchCV\", \"Lymphocytes\"], [0.3361129416678951, \"GridSearchCV\", \"Lymphocytes\"]], \"hovertemplate\": \"<b>%{hovertext}</b><br><br>prediction=%{y:.3f}<br>mean_prediction=%{customdata[0]:.3f}<extra></extra>\", \"hovertext\": [\"GridSearchCV\", \"GridSearchCV\", \"GridSearchCV\", \"GridSearchCV\", \"GridSearchCV\", \"GridSearchCV\", \"GridSearchCV\", \"GridSearchCV\", \"GridSearchCV\", \"GridSearchCV\", \"GridSearchCV\", \"GridSearchCV\", \"GridSearchCV\", \"GridSearchCV\", \"GridSearchCV\", \"GridSearchCV\", \"GridSearchCV\", \"GridSearchCV\", \"GridSearchCV\", \"GridSearchCV\", \"GridSearchCV\", \"GridSearchCV\", \"GridSearchCV\", \"GridSearchCV\", \"GridSearchCV\", \"GridSearchCV\", \"GridSearchCV\", \"GridSearchCV\", \"GridSearchCV\", \"GridSearchCV\", \"GridSearchCV\", \"GridSearchCV\", \"GridSearchCV\", \"GridSearchCV\", \"GridSearchCV\", \"GridSearchCV\", \"GridSearchCV\", \"GridSearchCV\", \"GridSearchCV\", \"GridSearchCV\", \"GridSearchCV\", \"GridSearchCV\", \"GridSearchCV\", \"GridSearchCV\", \"GridSearchCV\", \"GridSearchCV\", \"GridSearchCV\", \"GridSearchCV\", \"GridSearchCV\", \"GridSearchCV\", \"GridSearchCV\", \"GridSearchCV\", \"GridSearchCV\", \"GridSearchCV\", \"GridSearchCV\", \"GridSearchCV\", \"GridSearchCV\", \"GridSearchCV\", \"GridSearchCV\", \"GridSearchCV\", \"GridSearchCV\", \"GridSearchCV\", \"GridSearchCV\", \"GridSearchCV\", \"GridSearchCV\", \"GridSearchCV\", \"GridSearchCV\", \"GridSearchCV\", \"GridSearchCV\", \"GridSearchCV\", \"GridSearchCV\", \"GridSearchCV\", \"GridSearchCV\", \"GridSearchCV\", \"GridSearchCV\", \"GridSearchCV\", \"GridSearchCV\", \"GridSearchCV\", \"GridSearchCV\", \"GridSearchCV\", \"GridSearchCV\", \"GridSearchCV\", \"GridSearchCV\", \"GridSearchCV\", \"GridSearchCV\", \"GridSearchCV\", \"GridSearchCV\", \"GridSearchCV\", \"GridSearchCV\", \"GridSearchCV\", \"GridSearchCV\", \"GridSearchCV\", \"GridSearchCV\", \"GridSearchCV\", \"GridSearchCV\", \"GridSearchCV\", \"GridSearchCV\", \"GridSearchCV\", \"GridSearchCV\", \"GridSearchCV\", \"GridSearchCV\"], \"legendgroup\": \"GridSearchCV\", \"line\": {\"color\": \"#46bac2\", \"dash\": \"solid\", \"width\": 2}, \"mode\": \"lines\", \"name\": \"GridSearchCV\", \"opacity\": 1, \"orientation\": \"v\", \"showlegend\": false, \"type\": \"scatter\", \"x\": [-1.0, -0.0424882137244631, 0.9150235725510738, 1.8725353588266107, 2.8300471451021476, 3.787558931377685, 4.745070717653221, 5.702582503928758, 6.660094290204295, 7.617606076479833, 8.57511786275537, 9.532629649030905, 10.490141435306443, 11.44765322158198, 12.405165007857516, 13.362676794133053, 14.32018858040859, 15.277700366684126, 16.235212152959665, 17.1927239392352, 18.15023572551074, 19.107747511786275, 20.06525929806181, 21.02277108433735, 21.980282870612886, 22.93779465688842, 23.89530644316396, 24.852818229439496, 25.81033001571503, 26.76784180199057, 27.725353588266106, 28.682865374541645, 29.64037716081718, 30.597888947092716, 31.555400733368252, 32.51291251964379, 33.47042430591933, 34.42793609219486, 35.3854478784704, 36.34295966474594, 37.30047145102148, 38.25798323729701, 39.21549502357255, 40.17300680984809, 41.13051859612362, 42.08803038239916, 43.0455421686747, 44.00305395495023, 44.96056574122577, 45.91807752750131, 46.87558931377684, 47.83310110005238, 48.79061288632792, 49.74812467260345, 50.70563645887899, 51.66314824515453, 52.62066003143006, 53.5781718177056, 54.53568360398114, 55.49319539025668, 56.45070717653221, 57.40821896280775, 58.36573074908329, 59.32324253535882, 60.28075432163436, 61.2382661079099, 62.19577789418543, 63.15328968046097, 64.1108014667365, 65.06831325301205, 66.02582503928758, 66.98333682556311, 67.94084861183866, 68.89836039811419, 69.85587218438972, 70.81338397066527, 71.7708957569408, 72.72840754321633, 73.68591932949188, 74.64343111576741, 75.60094290204296, 76.55845468831849, 77.51596647459402, 78.47347826086957, 79.4309900471451, 80.38850183342063, 81.34601361969618, 82.30352540597171, 83.26103719224724, 84.21854897852279, 85.17606076479832, 86.13357255107385, 87.0910843373494, 88.04859612362493, 89.00610790990046, 89.96361969617601, 90.92113148245154, 91.87864326872707, 92.83615505500262, 93.79366684127815, 94.75117862755368], \"xaxis\": \"x3\", \"y\": [0.4897352941176479, 0.5873823529411752, 0.6234313725490181, 0.6543758169934645, 0.6112609477124177, 0.4161727124183017, 0.4847201447245567, 0.31916699346405225, 0.3394447712418301, 0.30963188608776854, 0.33807521254115674, 0.35590854587448956, 0.31204187920782356, 0.3157641014300457, 0.32498076809671245, 0.31710576809671265, 0.3023116504496536, 0.30447831711632023, 0.29172831711632025, 0.28328942822743125, 0.27445609489409784, 0.27212276156076454, 0.27828942822743136, 0.2807894282274313, 0.2796227615607647, 0.27395609489409795, 0.27528942822743124, 0.26041851319475173, 0.2501348039215687, 0.24134313725490192, 0.24717647058823516, 0.24350980392156857, 0.24350980392156857, 0.2433431372549019, 0.2428431372549019, 0.2428431372549019, 0.23834313725490186, 0.23834313725490186, 0.23683333333333328, 0.2398333333333333, 0.2398333333333333, 0.22950000000000004, 0.22950000000000004, 0.22950000000000004, 0.22950000000000004, 0.22566666666666668, 0.22566666666666668, 0.22566666666666668, 0.2201666666666667, 0.19466666666666668, 0.19466666666666668, 0.19466666666666668, 0.19466666666666668, 0.19466666666666668, 0.18966666666666673, 0.18966666666666673, 0.18966666666666673, 0.18966666666666673, 0.18966666666666673, 0.18966666666666673, 0.18966666666666673, 0.18966666666666673, 0.18966666666666673, 0.18966666666666673, 0.18966666666666673, 0.18966666666666673, 0.18966666666666673, 0.18966666666666673, 0.18966666666666673, 0.18966666666666673, 0.18966666666666673, 0.18966666666666673, 0.18966666666666673, 0.18966666666666673, 0.18966666666666673, 0.18966666666666673, 0.18966666666666673, 0.18966666666666673, 0.18966666666666673, 0.18966666666666673, 0.18966666666666673, 0.18966666666666673, 0.18966666666666673, 0.18966666666666673, 0.18966666666666673, 0.18966666666666673, 0.18966666666666673, 0.18966666666666673, 0.18966666666666673, 0.18966666666666673, 0.18966666666666673, 0.18966666666666673, 0.18966666666666673, 0.18966666666666673, 0.18966666666666673, 0.18966666666666673, 0.18966666666666673, 0.18966666666666673, 0.18966666666666673, 0.18966666666666673, 0.18966666666666673], \"yaxis\": \"y3\"}, {\"customdata\": [[0.3361129416678951, \"GridSearchCV\", \"from_china\"], [0.3361129416678951, \"GridSearchCV\", \"from_china\"], [0.3361129416678951, \"GridSearchCV\", \"from_china\"], [0.3361129416678951, \"GridSearchCV\", \"from_china\"], [0.3361129416678951, \"GridSearchCV\", \"from_china\"], [0.3361129416678951, \"GridSearchCV\", \"from_china\"], [0.3361129416678951, \"GridSearchCV\", \"from_china\"], [0.3361129416678951, \"GridSearchCV\", \"from_china\"], [0.3361129416678951, \"GridSearchCV\", \"from_china\"], [0.3361129416678951, \"GridSearchCV\", \"from_china\"], [0.3361129416678951, \"GridSearchCV\", \"from_china\"], [0.3361129416678951, \"GridSearchCV\", \"from_china\"], [0.3361129416678951, \"GridSearchCV\", \"from_china\"], [0.3361129416678951, \"GridSearchCV\", \"from_china\"], [0.3361129416678951, \"GridSearchCV\", \"from_china\"], [0.3361129416678951, \"GridSearchCV\", \"from_china\"], [0.3361129416678951, \"GridSearchCV\", \"from_china\"], [0.3361129416678951, \"GridSearchCV\", \"from_china\"], [0.3361129416678951, \"GridSearchCV\", \"from_china\"], [0.3361129416678951, \"GridSearchCV\", \"from_china\"], [0.3361129416678951, \"GridSearchCV\", \"from_china\"], [0.3361129416678951, \"GridSearchCV\", \"from_china\"], [0.3361129416678951, \"GridSearchCV\", \"from_china\"], [0.3361129416678951, \"GridSearchCV\", \"from_china\"], [0.3361129416678951, \"GridSearchCV\", \"from_china\"], [0.3361129416678951, \"GridSearchCV\", \"from_china\"], [0.3361129416678951, \"GridSearchCV\", \"from_china\"], [0.3361129416678951, \"GridSearchCV\", \"from_china\"], [0.3361129416678951, \"GridSearchCV\", \"from_china\"], [0.3361129416678951, \"GridSearchCV\", \"from_china\"], [0.3361129416678951, \"GridSearchCV\", \"from_china\"], [0.3361129416678951, \"GridSearchCV\", \"from_china\"], [0.3361129416678951, \"GridSearchCV\", \"from_china\"], [0.3361129416678951, \"GridSearchCV\", \"from_china\"], [0.3361129416678951, \"GridSearchCV\", \"from_china\"], [0.3361129416678951, \"GridSearchCV\", \"from_china\"], [0.3361129416678951, \"GridSearchCV\", \"from_china\"], [0.3361129416678951, \"GridSearchCV\", \"from_china\"], [0.3361129416678951, \"GridSearchCV\", \"from_china\"], [0.3361129416678951, \"GridSearchCV\", \"from_china\"], [0.3361129416678951, \"GridSearchCV\", \"from_china\"], [0.3361129416678951, \"GridSearchCV\", \"from_china\"], [0.3361129416678951, \"GridSearchCV\", \"from_china\"], [0.3361129416678951, \"GridSearchCV\", \"from_china\"], [0.3361129416678951, \"GridSearchCV\", \"from_china\"], [0.3361129416678951, \"GridSearchCV\", \"from_china\"], [0.3361129416678951, \"GridSearchCV\", \"from_china\"], [0.3361129416678951, \"GridSearchCV\", \"from_china\"], [0.3361129416678951, \"GridSearchCV\", \"from_china\"], [0.3361129416678951, \"GridSearchCV\", \"from_china\"], [0.3361129416678951, \"GridSearchCV\", \"from_china\"], [0.3361129416678951, \"GridSearchCV\", \"from_china\"], [0.3361129416678951, \"GridSearchCV\", \"from_china\"], [0.3361129416678951, \"GridSearchCV\", \"from_china\"], [0.3361129416678951, \"GridSearchCV\", \"from_china\"], [0.3361129416678951, \"GridSearchCV\", \"from_china\"], [0.3361129416678951, \"GridSearchCV\", \"from_china\"], [0.3361129416678951, \"GridSearchCV\", \"from_china\"], [0.3361129416678951, \"GridSearchCV\", \"from_china\"], [0.3361129416678951, \"GridSearchCV\", \"from_china\"], [0.3361129416678951, \"GridSearchCV\", \"from_china\"], [0.3361129416678951, \"GridSearchCV\", \"from_china\"], [0.3361129416678951, \"GridSearchCV\", \"from_china\"], [0.3361129416678951, \"GridSearchCV\", \"from_china\"], [0.3361129416678951, \"GridSearchCV\", \"from_china\"], [0.3361129416678951, \"GridSearchCV\", \"from_china\"], [0.3361129416678951, \"GridSearchCV\", \"from_china\"], [0.3361129416678951, \"GridSearchCV\", \"from_china\"], [0.3361129416678951, \"GridSearchCV\", \"from_china\"], [0.3361129416678951, \"GridSearchCV\", \"from_china\"], [0.3361129416678951, \"GridSearchCV\", \"from_china\"], [0.3361129416678951, \"GridSearchCV\", \"from_china\"], [0.3361129416678951, \"GridSearchCV\", \"from_china\"], [0.3361129416678951, \"GridSearchCV\", \"from_china\"], [0.3361129416678951, \"GridSearchCV\", \"from_china\"], [0.3361129416678951, \"GridSearchCV\", \"from_china\"], [0.3361129416678951, \"GridSearchCV\", \"from_china\"], [0.3361129416678951, \"GridSearchCV\", \"from_china\"], [0.3361129416678951, \"GridSearchCV\", \"from_china\"], [0.3361129416678951, \"GridSearchCV\", \"from_china\"], [0.3361129416678951, \"GridSearchCV\", \"from_china\"], [0.3361129416678951, \"GridSearchCV\", \"from_china\"], [0.3361129416678951, \"GridSearchCV\", \"from_china\"], [0.3361129416678951, \"GridSearchCV\", \"from_china\"], [0.3361129416678951, \"GridSearchCV\", \"from_china\"], [0.3361129416678951, \"GridSearchCV\", \"from_china\"], [0.3361129416678951, \"GridSearchCV\", \"from_china\"], [0.3361129416678951, \"GridSearchCV\", \"from_china\"], [0.3361129416678951, \"GridSearchCV\", \"from_china\"], [0.3361129416678951, \"GridSearchCV\", \"from_china\"], [0.3361129416678951, \"GridSearchCV\", \"from_china\"], [0.3361129416678951, \"GridSearchCV\", \"from_china\"], [0.3361129416678951, \"GridSearchCV\", \"from_china\"], [0.3361129416678951, \"GridSearchCV\", \"from_china\"], [0.3361129416678951, \"GridSearchCV\", \"from_china\"], [0.3361129416678951, \"GridSearchCV\", \"from_china\"], [0.3361129416678951, \"GridSearchCV\", \"from_china\"], [0.3361129416678951, \"GridSearchCV\", \"from_china\"], [0.3361129416678951, \"GridSearchCV\", \"from_china\"], [0.3361129416678951, \"GridSearchCV\", \"from_china\"], [0.3361129416678951, \"GridSearchCV\", \"from_china\"]], \"hovertemplate\": \"<b>%{hovertext}</b><br><br>prediction=%{y:.3f}<br>mean_prediction=%{customdata[0]:.3f}<extra></extra>\", \"hovertext\": [\"GridSearchCV\", \"GridSearchCV\", \"GridSearchCV\", \"GridSearchCV\", \"GridSearchCV\", \"GridSearchCV\", \"GridSearchCV\", \"GridSearchCV\", \"GridSearchCV\", \"GridSearchCV\", \"GridSearchCV\", \"GridSearchCV\", \"GridSearchCV\", \"GridSearchCV\", \"GridSearchCV\", \"GridSearchCV\", \"GridSearchCV\", \"GridSearchCV\", \"GridSearchCV\", \"GridSearchCV\", \"GridSearchCV\", \"GridSearchCV\", \"GridSearchCV\", \"GridSearchCV\", \"GridSearchCV\", \"GridSearchCV\", \"GridSearchCV\", \"GridSearchCV\", \"GridSearchCV\", \"GridSearchCV\", \"GridSearchCV\", \"GridSearchCV\", \"GridSearchCV\", \"GridSearchCV\", \"GridSearchCV\", \"GridSearchCV\", \"GridSearchCV\", \"GridSearchCV\", \"GridSearchCV\", \"GridSearchCV\", \"GridSearchCV\", \"GridSearchCV\", \"GridSearchCV\", \"GridSearchCV\", \"GridSearchCV\", \"GridSearchCV\", \"GridSearchCV\", \"GridSearchCV\", \"GridSearchCV\", \"GridSearchCV\", \"GridSearchCV\", \"GridSearchCV\", \"GridSearchCV\", \"GridSearchCV\", \"GridSearchCV\", \"GridSearchCV\", \"GridSearchCV\", \"GridSearchCV\", \"GridSearchCV\", \"GridSearchCV\", \"GridSearchCV\", \"GridSearchCV\", \"GridSearchCV\", \"GridSearchCV\", \"GridSearchCV\", \"GridSearchCV\", \"GridSearchCV\", \"GridSearchCV\", \"GridSearchCV\", \"GridSearchCV\", \"GridSearchCV\", \"GridSearchCV\", \"GridSearchCV\", \"GridSearchCV\", \"GridSearchCV\", \"GridSearchCV\", \"GridSearchCV\", \"GridSearchCV\", \"GridSearchCV\", \"GridSearchCV\", \"GridSearchCV\", \"GridSearchCV\", \"GridSearchCV\", \"GridSearchCV\", \"GridSearchCV\", \"GridSearchCV\", \"GridSearchCV\", \"GridSearchCV\", \"GridSearchCV\", \"GridSearchCV\", \"GridSearchCV\", \"GridSearchCV\", \"GridSearchCV\", \"GridSearchCV\", \"GridSearchCV\", \"GridSearchCV\", \"GridSearchCV\", \"GridSearchCV\", \"GridSearchCV\", \"GridSearchCV\", \"GridSearchCV\"], \"legendgroup\": \"GridSearchCV\", \"line\": {\"color\": \"#46bac2\", \"dash\": \"solid\", \"width\": 2}, \"mode\": \"lines\", \"name\": \"GridSearchCV\", \"opacity\": 1, \"orientation\": \"v\", \"showlegend\": false, \"type\": \"scatter\", \"x\": [0.0, 0.01, 0.02, 0.03, 0.04, 0.05, 0.06, 0.07, 0.08, 0.09, 0.1, 0.11, 0.12, 0.13, 0.14, 0.15, 0.16, 0.17, 0.18, 0.19, 0.2, 0.21, 0.22, 0.23, 0.24, 0.25, 0.26, 0.27, 0.28, 0.29, 0.3, 0.31, 0.32, 0.33, 0.34, 0.35000000000000003, 0.36, 0.37, 0.38, 0.39, 0.4, 0.41000000000000003, 0.42, 0.43, 0.44, 0.45, 0.46, 0.47000000000000003, 0.48, 0.49, 0.5, 0.51, 0.52, 0.53, 0.54, 0.55, 0.56, 0.5700000000000001, 0.58, 0.59, 0.6, 0.61, 0.62, 0.63, 0.64, 0.65, 0.66, 0.67, 0.68, 0.6900000000000001, 0.7000000000000001, 0.71, 0.72, 0.73, 0.74, 0.75, 0.76, 0.77, 0.78, 0.79, 0.8, 0.81, 0.8200000000000001, 0.8300000000000001, 0.84, 0.85, 0.86, 0.87, 0.88, 0.89, 0.9, 0.91, 0.92, 0.93, 0.9400000000000001, 0.9500000000000001, 0.96, 0.97, 0.98, 0.99, 1.0], \"xaxis\": \"x4\", \"y\": [0.2499168373572155, 0.2499168373572155, 0.2575427597249993, 0.2575427597249993, 0.2575427597249993, 0.2575427597249993, 0.2575427597249993, 0.2575427597249993, 0.2575427597249993, 0.2575427597249993, 0.2575427597249993, 0.2575427597249993, 0.2575427597249993, 0.2575427597249993, 0.2575427597249993, 0.2575427597249993, 0.2575427597249993, 0.2575427597249993, 0.2575427597249993, 0.2654716572436027, 0.2654716572436027, 0.26563832391026937, 0.2739983564453562, 0.27449835644535614, 0.27449835644535614, 0.2748316897786895, 0.2748316897786895, 0.2748316897786895, 0.2748316897786895, 0.2748316897786895, 0.2748316897786895, 0.2748316897786895, 0.27449835644535614, 0.27449835644535614, 0.27449835644535614, 0.27349835644535614, 0.27349835644535614, 0.27940195115985356, 0.28682357895716576, 0.28682357895716576, 0.28682357895716576, 0.28682357895716576, 0.28682357895716576, 0.28682357895716576, 0.2909882381541779, 0.2909882381541779, 0.2909882381541779, 0.2909882381541779, 0.29284583619339366, 0.29284583619339366, 0.29284583619339366, 0.2955674499500074, 0.2966360774009879, 0.3028616166147762, 0.3028616166147762, 0.3028407832814428, 0.3028407832814428, 0.3028407832814428, 0.3028407832814428, 0.3028407832814428, 0.3028407832814428, 0.31628866174456904, 0.3176378680937753, 0.31772120142710863, 0.31772120142710863, 0.31980453476044207, 0.31980453476044207, 0.31980453476044207, 0.31980453476044207, 0.31980453476044207, 0.31980453476044207, 0.31980453476044207, 0.31980453476044207, 0.31980453476044207, 0.31980453476044207, 0.31980453476044207, 0.31980453476044207, 0.32695103506025114, 0.32695103506025114, 0.32695103506025114, 0.32695103506025114, 0.32695103506025114, 0.32695103506025114, 0.32711770172691784, 0.3268436276528438, 0.3268436276528438, 0.3268436276528438, 0.3268436276528438, 0.3268436276528438, 0.3268436276528438, 0.3268179866272028, 0.32870095423430823, 0.32870095423430823, 0.3337707339756397, 0.3337707339756397, 0.33622405277900635, 0.33622405277900635, 0.33622405277900635, 0.33655738611233965, 0.3361129416678951, 0.3361129416678951], \"yaxis\": \"y4\"}, {\"customdata\": [[0.3361129416678951, \"GridSearchCV\", \"from_netherlands\"], [0.3361129416678951, \"GridSearchCV\", \"from_netherlands\"], [0.3361129416678951, \"GridSearchCV\", \"from_netherlands\"], [0.3361129416678951, \"GridSearchCV\", \"from_netherlands\"], [0.3361129416678951, \"GridSearchCV\", \"from_netherlands\"], [0.3361129416678951, \"GridSearchCV\", \"from_netherlands\"], [0.3361129416678951, \"GridSearchCV\", \"from_netherlands\"], [0.3361129416678951, \"GridSearchCV\", \"from_netherlands\"], [0.3361129416678951, \"GridSearchCV\", \"from_netherlands\"], [0.3361129416678951, \"GridSearchCV\", \"from_netherlands\"], [0.3361129416678951, \"GridSearchCV\", \"from_netherlands\"], [0.3361129416678951, \"GridSearchCV\", \"from_netherlands\"], [0.3361129416678951, \"GridSearchCV\", \"from_netherlands\"], [0.3361129416678951, \"GridSearchCV\", \"from_netherlands\"], [0.3361129416678951, \"GridSearchCV\", \"from_netherlands\"], [0.3361129416678951, \"GridSearchCV\", \"from_netherlands\"], [0.3361129416678951, \"GridSearchCV\", \"from_netherlands\"], [0.3361129416678951, \"GridSearchCV\", \"from_netherlands\"], [0.3361129416678951, \"GridSearchCV\", \"from_netherlands\"], [0.3361129416678951, \"GridSearchCV\", \"from_netherlands\"], [0.3361129416678951, \"GridSearchCV\", \"from_netherlands\"], [0.3361129416678951, \"GridSearchCV\", \"from_netherlands\"], [0.3361129416678951, \"GridSearchCV\", \"from_netherlands\"], [0.3361129416678951, \"GridSearchCV\", \"from_netherlands\"], [0.3361129416678951, \"GridSearchCV\", \"from_netherlands\"], [0.3361129416678951, \"GridSearchCV\", \"from_netherlands\"], [0.3361129416678951, \"GridSearchCV\", \"from_netherlands\"], [0.3361129416678951, \"GridSearchCV\", \"from_netherlands\"], [0.3361129416678951, \"GridSearchCV\", \"from_netherlands\"], [0.3361129416678951, \"GridSearchCV\", \"from_netherlands\"], [0.3361129416678951, \"GridSearchCV\", \"from_netherlands\"], [0.3361129416678951, \"GridSearchCV\", \"from_netherlands\"], [0.3361129416678951, \"GridSearchCV\", \"from_netherlands\"], [0.3361129416678951, \"GridSearchCV\", \"from_netherlands\"], [0.3361129416678951, \"GridSearchCV\", \"from_netherlands\"], [0.3361129416678951, \"GridSearchCV\", \"from_netherlands\"], [0.3361129416678951, \"GridSearchCV\", \"from_netherlands\"], [0.3361129416678951, \"GridSearchCV\", \"from_netherlands\"], [0.3361129416678951, \"GridSearchCV\", \"from_netherlands\"], [0.3361129416678951, \"GridSearchCV\", \"from_netherlands\"], [0.3361129416678951, \"GridSearchCV\", \"from_netherlands\"], [0.3361129416678951, \"GridSearchCV\", \"from_netherlands\"], [0.3361129416678951, \"GridSearchCV\", \"from_netherlands\"], [0.3361129416678951, \"GridSearchCV\", \"from_netherlands\"], [0.3361129416678951, \"GridSearchCV\", \"from_netherlands\"], [0.3361129416678951, \"GridSearchCV\", \"from_netherlands\"], [0.3361129416678951, \"GridSearchCV\", \"from_netherlands\"], [0.3361129416678951, \"GridSearchCV\", \"from_netherlands\"], [0.3361129416678951, \"GridSearchCV\", \"from_netherlands\"], [0.3361129416678951, \"GridSearchCV\", \"from_netherlands\"], [0.3361129416678951, \"GridSearchCV\", \"from_netherlands\"], [0.3361129416678951, \"GridSearchCV\", \"from_netherlands\"], [0.3361129416678951, \"GridSearchCV\", \"from_netherlands\"], [0.3361129416678951, \"GridSearchCV\", \"from_netherlands\"], [0.3361129416678951, \"GridSearchCV\", \"from_netherlands\"], [0.3361129416678951, \"GridSearchCV\", \"from_netherlands\"], [0.3361129416678951, \"GridSearchCV\", \"from_netherlands\"], [0.3361129416678951, \"GridSearchCV\", \"from_netherlands\"], [0.3361129416678951, \"GridSearchCV\", \"from_netherlands\"], [0.3361129416678951, \"GridSearchCV\", \"from_netherlands\"], [0.3361129416678951, \"GridSearchCV\", \"from_netherlands\"], [0.3361129416678951, \"GridSearchCV\", \"from_netherlands\"], [0.3361129416678951, \"GridSearchCV\", \"from_netherlands\"], [0.3361129416678951, \"GridSearchCV\", \"from_netherlands\"], [0.3361129416678951, \"GridSearchCV\", \"from_netherlands\"], [0.3361129416678951, \"GridSearchCV\", \"from_netherlands\"], [0.3361129416678951, \"GridSearchCV\", \"from_netherlands\"], [0.3361129416678951, \"GridSearchCV\", \"from_netherlands\"], [0.3361129416678951, \"GridSearchCV\", \"from_netherlands\"], [0.3361129416678951, \"GridSearchCV\", \"from_netherlands\"], [0.3361129416678951, \"GridSearchCV\", \"from_netherlands\"], [0.3361129416678951, \"GridSearchCV\", \"from_netherlands\"], [0.3361129416678951, \"GridSearchCV\", \"from_netherlands\"], [0.3361129416678951, \"GridSearchCV\", \"from_netherlands\"], [0.3361129416678951, \"GridSearchCV\", \"from_netherlands\"], [0.3361129416678951, \"GridSearchCV\", \"from_netherlands\"], [0.3361129416678951, \"GridSearchCV\", \"from_netherlands\"], [0.3361129416678951, \"GridSearchCV\", \"from_netherlands\"], [0.3361129416678951, \"GridSearchCV\", \"from_netherlands\"], [0.3361129416678951, \"GridSearchCV\", \"from_netherlands\"], [0.3361129416678951, \"GridSearchCV\", \"from_netherlands\"], [0.3361129416678951, \"GridSearchCV\", \"from_netherlands\"], [0.3361129416678951, \"GridSearchCV\", \"from_netherlands\"], [0.3361129416678951, \"GridSearchCV\", \"from_netherlands\"], [0.3361129416678951, \"GridSearchCV\", \"from_netherlands\"], [0.3361129416678951, \"GridSearchCV\", \"from_netherlands\"], [0.3361129416678951, \"GridSearchCV\", \"from_netherlands\"], [0.3361129416678951, \"GridSearchCV\", \"from_netherlands\"], [0.3361129416678951, \"GridSearchCV\", \"from_netherlands\"], [0.3361129416678951, \"GridSearchCV\", \"from_netherlands\"], [0.3361129416678951, \"GridSearchCV\", \"from_netherlands\"], [0.3361129416678951, \"GridSearchCV\", \"from_netherlands\"], [0.3361129416678951, \"GridSearchCV\", \"from_netherlands\"], [0.3361129416678951, \"GridSearchCV\", \"from_netherlands\"], [0.3361129416678951, \"GridSearchCV\", \"from_netherlands\"], [0.3361129416678951, \"GridSearchCV\", \"from_netherlands\"], [0.3361129416678951, \"GridSearchCV\", \"from_netherlands\"], [0.3361129416678951, \"GridSearchCV\", \"from_netherlands\"], [0.3361129416678951, \"GridSearchCV\", \"from_netherlands\"], [0.3361129416678951, \"GridSearchCV\", \"from_netherlands\"], [0.3361129416678951, \"GridSearchCV\", \"from_netherlands\"]], \"hovertemplate\": \"<b>%{hovertext}</b><br><br>prediction=%{y:.3f}<br>mean_prediction=%{customdata[0]:.3f}<extra></extra>\", \"hovertext\": [\"GridSearchCV\", \"GridSearchCV\", \"GridSearchCV\", \"GridSearchCV\", \"GridSearchCV\", \"GridSearchCV\", \"GridSearchCV\", \"GridSearchCV\", \"GridSearchCV\", \"GridSearchCV\", \"GridSearchCV\", \"GridSearchCV\", \"GridSearchCV\", \"GridSearchCV\", \"GridSearchCV\", \"GridSearchCV\", \"GridSearchCV\", \"GridSearchCV\", \"GridSearchCV\", \"GridSearchCV\", \"GridSearchCV\", \"GridSearchCV\", \"GridSearchCV\", \"GridSearchCV\", \"GridSearchCV\", \"GridSearchCV\", \"GridSearchCV\", \"GridSearchCV\", \"GridSearchCV\", \"GridSearchCV\", \"GridSearchCV\", \"GridSearchCV\", \"GridSearchCV\", \"GridSearchCV\", \"GridSearchCV\", \"GridSearchCV\", \"GridSearchCV\", \"GridSearchCV\", \"GridSearchCV\", \"GridSearchCV\", \"GridSearchCV\", \"GridSearchCV\", \"GridSearchCV\", \"GridSearchCV\", \"GridSearchCV\", \"GridSearchCV\", \"GridSearchCV\", \"GridSearchCV\", \"GridSearchCV\", \"GridSearchCV\", \"GridSearchCV\", \"GridSearchCV\", \"GridSearchCV\", \"GridSearchCV\", \"GridSearchCV\", \"GridSearchCV\", \"GridSearchCV\", \"GridSearchCV\", \"GridSearchCV\", \"GridSearchCV\", \"GridSearchCV\", \"GridSearchCV\", \"GridSearchCV\", \"GridSearchCV\", \"GridSearchCV\", \"GridSearchCV\", \"GridSearchCV\", \"GridSearchCV\", \"GridSearchCV\", \"GridSearchCV\", \"GridSearchCV\", \"GridSearchCV\", \"GridSearchCV\", \"GridSearchCV\", \"GridSearchCV\", \"GridSearchCV\", \"GridSearchCV\", \"GridSearchCV\", \"GridSearchCV\", \"GridSearchCV\", \"GridSearchCV\", \"GridSearchCV\", \"GridSearchCV\", \"GridSearchCV\", \"GridSearchCV\", \"GridSearchCV\", \"GridSearchCV\", \"GridSearchCV\", \"GridSearchCV\", \"GridSearchCV\", \"GridSearchCV\", \"GridSearchCV\", \"GridSearchCV\", \"GridSearchCV\", \"GridSearchCV\", \"GridSearchCV\", \"GridSearchCV\", \"GridSearchCV\", \"GridSearchCV\", \"GridSearchCV\", \"GridSearchCV\"], \"legendgroup\": \"GridSearchCV\", \"line\": {\"color\": \"#46bac2\", \"dash\": \"solid\", \"width\": 2}, \"mode\": \"lines\", \"name\": \"GridSearchCV\", \"opacity\": 1, \"orientation\": \"v\", \"showlegend\": false, \"type\": \"scatter\", \"x\": [0.0, 0.01, 0.02, 0.03, 0.04, 0.05, 0.06, 0.07, 0.08, 0.09, 0.1, 0.11, 0.12, 0.13, 0.14, 0.15, 0.16, 0.17, 0.18, 0.19, 0.2, 0.21, 0.22, 0.23, 0.24, 0.25, 0.26, 0.27, 0.28, 0.29, 0.3, 0.31, 0.32, 0.33, 0.34, 0.35000000000000003, 0.36, 0.37, 0.38, 0.39, 0.4, 0.41000000000000003, 0.42, 0.43, 0.44, 0.45, 0.46, 0.47000000000000003, 0.48, 0.49, 0.5, 0.51, 0.52, 0.53, 0.54, 0.55, 0.56, 0.5700000000000001, 0.58, 0.59, 0.6, 0.61, 0.62, 0.63, 0.64, 0.65, 0.66, 0.67, 0.68, 0.6900000000000001, 0.7000000000000001, 0.71, 0.72, 0.73, 0.74, 0.75, 0.76, 0.77, 0.78, 0.79, 0.8, 0.81, 0.8200000000000001, 0.8300000000000001, 0.84, 0.85, 0.86, 0.87, 0.88, 0.89, 0.9, 0.91, 0.92, 0.93, 0.9400000000000001, 0.9500000000000001, 0.96, 0.97, 0.98, 0.99, 1.0], \"xaxis\": \"x\", \"y\": [0.3361129416678951, 0.3361129416678951, 0.3364462750012284, 0.3364462750012284, 0.3364462750012284, 0.3364462750012284, 0.3287137586613593, 0.31828402009926804, 0.31828402009926804, 0.31828402009926804, 0.31828402009926804, 0.31828402009926804, 0.31828402009926804, 0.31828402009926804, 0.31828402009926804, 0.31828402009926804, 0.3129506867659346, 0.3056709482038428, 0.3056709482038428, 0.3056709482038428, 0.3056709482038428, 0.2863761175443063, 0.2863761175443063, 0.282605109140945, 0.282605109140945, 0.282605109140945, 0.282605109140945, 0.282605109140945, 0.282605109140945, 0.27440513248361553, 0.27440513248361553, 0.27440513248361553, 0.27440513248361553, 0.27440513248361553, 0.27440513248361553, 0.27440513248361553, 0.27440513248361553, 0.27440513248361553, 0.268225393921524, 0.268225393921524, 0.268225393921524, 0.268225393921524, 0.268225393921524, 0.268225393921524, 0.26511428281041266, 0.26361428281041266, 0.26361428281041266, 0.26361428281041266, 0.26361428281041266, 0.26361428281041266, 0.26361428281041266, 0.26361428281041266, 0.26361428281041266, 0.26361428281041266, 0.26361428281041266, 0.26361428281041266, 0.26361428281041266, 0.26361428281041266, 0.26361428281041266, 0.26228094947707936, 0.26228094947707936, 0.25714287758165466, 0.25714287758165466, 0.25714287758165466, 0.25714287758165466, 0.25714287758165466, 0.2523095442483213, 0.2501257058644829, 0.24962570586448288, 0.24962570586448288, 0.24147144766997697, 0.24147144766997697, 0.24147144766997697, 0.24147144766997697, 0.24147144766997697, 0.24147144766997697, 0.24147144766997697, 0.2336805979967744, 0.2336805979967744, 0.2336805979967744, 0.2336805979967744, 0.2336805979967744, 0.2336805979967744, 0.2336805979967744, 0.2336805979967744, 0.2336805979967744, 0.2336805979967744, 0.23351393133010773, 0.23351393133010773, 0.23351393133010773, 0.23351393133010773, 0.23351393133010773, 0.23351393133010773, 0.2203795420407952, 0.2203795420407952, 0.2203795420407952, 0.2203795420407952, 0.2203795420407952, 0.2119775812564815, 0.2119775812564815, 0.2119775812564815], \"yaxis\": \"y\"}, {\"customdata\": [[0.3361129416678951, \"GridSearchCV\", \"from_newyork\"], [0.3361129416678951, \"GridSearchCV\", \"from_newyork\"], [0.3361129416678951, \"GridSearchCV\", \"from_newyork\"], [0.3361129416678951, \"GridSearchCV\", \"from_newyork\"], [0.3361129416678951, \"GridSearchCV\", \"from_newyork\"], [0.3361129416678951, \"GridSearchCV\", \"from_newyork\"], [0.3361129416678951, \"GridSearchCV\", \"from_newyork\"], [0.3361129416678951, \"GridSearchCV\", \"from_newyork\"], [0.3361129416678951, \"GridSearchCV\", \"from_newyork\"], [0.3361129416678951, \"GridSearchCV\", \"from_newyork\"], [0.3361129416678951, \"GridSearchCV\", \"from_newyork\"], [0.3361129416678951, \"GridSearchCV\", \"from_newyork\"], [0.3361129416678951, \"GridSearchCV\", \"from_newyork\"], [0.3361129416678951, \"GridSearchCV\", \"from_newyork\"], [0.3361129416678951, \"GridSearchCV\", \"from_newyork\"], [0.3361129416678951, \"GridSearchCV\", \"from_newyork\"], [0.3361129416678951, \"GridSearchCV\", \"from_newyork\"], [0.3361129416678951, \"GridSearchCV\", \"from_newyork\"], [0.3361129416678951, \"GridSearchCV\", \"from_newyork\"], [0.3361129416678951, \"GridSearchCV\", \"from_newyork\"], [0.3361129416678951, \"GridSearchCV\", \"from_newyork\"], [0.3361129416678951, \"GridSearchCV\", \"from_newyork\"], [0.3361129416678951, \"GridSearchCV\", \"from_newyork\"], [0.3361129416678951, \"GridSearchCV\", \"from_newyork\"], [0.3361129416678951, \"GridSearchCV\", \"from_newyork\"], [0.3361129416678951, \"GridSearchCV\", \"from_newyork\"], [0.3361129416678951, \"GridSearchCV\", \"from_newyork\"], [0.3361129416678951, \"GridSearchCV\", \"from_newyork\"], [0.3361129416678951, \"GridSearchCV\", \"from_newyork\"], [0.3361129416678951, \"GridSearchCV\", \"from_newyork\"], [0.3361129416678951, \"GridSearchCV\", \"from_newyork\"], [0.3361129416678951, \"GridSearchCV\", \"from_newyork\"], [0.3361129416678951, \"GridSearchCV\", \"from_newyork\"], [0.3361129416678951, \"GridSearchCV\", \"from_newyork\"], [0.3361129416678951, \"GridSearchCV\", \"from_newyork\"], [0.3361129416678951, \"GridSearchCV\", \"from_newyork\"], [0.3361129416678951, \"GridSearchCV\", \"from_newyork\"], [0.3361129416678951, \"GridSearchCV\", \"from_newyork\"], [0.3361129416678951, \"GridSearchCV\", \"from_newyork\"], [0.3361129416678951, \"GridSearchCV\", \"from_newyork\"], [0.3361129416678951, \"GridSearchCV\", \"from_newyork\"], [0.3361129416678951, \"GridSearchCV\", \"from_newyork\"], [0.3361129416678951, \"GridSearchCV\", \"from_newyork\"], [0.3361129416678951, \"GridSearchCV\", \"from_newyork\"], [0.3361129416678951, \"GridSearchCV\", \"from_newyork\"], [0.3361129416678951, \"GridSearchCV\", \"from_newyork\"], [0.3361129416678951, \"GridSearchCV\", \"from_newyork\"], [0.3361129416678951, \"GridSearchCV\", \"from_newyork\"], [0.3361129416678951, \"GridSearchCV\", \"from_newyork\"], [0.3361129416678951, \"GridSearchCV\", \"from_newyork\"], [0.3361129416678951, \"GridSearchCV\", \"from_newyork\"], [0.3361129416678951, \"GridSearchCV\", \"from_newyork\"], [0.3361129416678951, \"GridSearchCV\", \"from_newyork\"], [0.3361129416678951, \"GridSearchCV\", \"from_newyork\"], [0.3361129416678951, \"GridSearchCV\", \"from_newyork\"], [0.3361129416678951, \"GridSearchCV\", \"from_newyork\"], [0.3361129416678951, \"GridSearchCV\", \"from_newyork\"], [0.3361129416678951, \"GridSearchCV\", \"from_newyork\"], [0.3361129416678951, \"GridSearchCV\", \"from_newyork\"], [0.3361129416678951, \"GridSearchCV\", \"from_newyork\"], [0.3361129416678951, \"GridSearchCV\", \"from_newyork\"], [0.3361129416678951, \"GridSearchCV\", \"from_newyork\"], [0.3361129416678951, \"GridSearchCV\", \"from_newyork\"], [0.3361129416678951, \"GridSearchCV\", \"from_newyork\"], [0.3361129416678951, \"GridSearchCV\", \"from_newyork\"], [0.3361129416678951, \"GridSearchCV\", \"from_newyork\"], [0.3361129416678951, \"GridSearchCV\", \"from_newyork\"], [0.3361129416678951, \"GridSearchCV\", \"from_newyork\"], [0.3361129416678951, \"GridSearchCV\", \"from_newyork\"], [0.3361129416678951, \"GridSearchCV\", \"from_newyork\"], [0.3361129416678951, \"GridSearchCV\", \"from_newyork\"], [0.3361129416678951, \"GridSearchCV\", \"from_newyork\"], [0.3361129416678951, \"GridSearchCV\", \"from_newyork\"], [0.3361129416678951, \"GridSearchCV\", \"from_newyork\"], [0.3361129416678951, \"GridSearchCV\", \"from_newyork\"], [0.3361129416678951, \"GridSearchCV\", \"from_newyork\"], [0.3361129416678951, \"GridSearchCV\", \"from_newyork\"], [0.3361129416678951, \"GridSearchCV\", \"from_newyork\"], [0.3361129416678951, \"GridSearchCV\", \"from_newyork\"], [0.3361129416678951, \"GridSearchCV\", \"from_newyork\"], [0.3361129416678951, \"GridSearchCV\", \"from_newyork\"], [0.3361129416678951, \"GridSearchCV\", \"from_newyork\"], [0.3361129416678951, \"GridSearchCV\", \"from_newyork\"], [0.3361129416678951, \"GridSearchCV\", \"from_newyork\"], [0.3361129416678951, \"GridSearchCV\", \"from_newyork\"], [0.3361129416678951, \"GridSearchCV\", \"from_newyork\"], [0.3361129416678951, \"GridSearchCV\", \"from_newyork\"], [0.3361129416678951, \"GridSearchCV\", \"from_newyork\"], [0.3361129416678951, \"GridSearchCV\", \"from_newyork\"], [0.3361129416678951, \"GridSearchCV\", \"from_newyork\"], [0.3361129416678951, \"GridSearchCV\", \"from_newyork\"], [0.3361129416678951, \"GridSearchCV\", \"from_newyork\"], [0.3361129416678951, \"GridSearchCV\", \"from_newyork\"], [0.3361129416678951, \"GridSearchCV\", \"from_newyork\"], [0.3361129416678951, \"GridSearchCV\", \"from_newyork\"], [0.3361129416678951, \"GridSearchCV\", \"from_newyork\"], [0.3361129416678951, \"GridSearchCV\", \"from_newyork\"], [0.3361129416678951, \"GridSearchCV\", \"from_newyork\"], [0.3361129416678951, \"GridSearchCV\", \"from_newyork\"], [0.3361129416678951, \"GridSearchCV\", \"from_newyork\"], [0.3361129416678951, \"GridSearchCV\", \"from_newyork\"]], \"hovertemplate\": \"<b>%{hovertext}</b><br><br>prediction=%{y:.3f}<br>mean_prediction=%{customdata[0]:.3f}<extra></extra>\", \"hovertext\": [\"GridSearchCV\", \"GridSearchCV\", \"GridSearchCV\", \"GridSearchCV\", \"GridSearchCV\", \"GridSearchCV\", \"GridSearchCV\", \"GridSearchCV\", \"GridSearchCV\", \"GridSearchCV\", \"GridSearchCV\", \"GridSearchCV\", \"GridSearchCV\", \"GridSearchCV\", \"GridSearchCV\", \"GridSearchCV\", \"GridSearchCV\", \"GridSearchCV\", \"GridSearchCV\", \"GridSearchCV\", \"GridSearchCV\", \"GridSearchCV\", \"GridSearchCV\", \"GridSearchCV\", \"GridSearchCV\", \"GridSearchCV\", \"GridSearchCV\", \"GridSearchCV\", \"GridSearchCV\", \"GridSearchCV\", \"GridSearchCV\", \"GridSearchCV\", \"GridSearchCV\", \"GridSearchCV\", \"GridSearchCV\", \"GridSearchCV\", \"GridSearchCV\", \"GridSearchCV\", \"GridSearchCV\", \"GridSearchCV\", \"GridSearchCV\", \"GridSearchCV\", \"GridSearchCV\", \"GridSearchCV\", \"GridSearchCV\", \"GridSearchCV\", \"GridSearchCV\", \"GridSearchCV\", \"GridSearchCV\", \"GridSearchCV\", \"GridSearchCV\", \"GridSearchCV\", \"GridSearchCV\", \"GridSearchCV\", \"GridSearchCV\", \"GridSearchCV\", \"GridSearchCV\", \"GridSearchCV\", \"GridSearchCV\", \"GridSearchCV\", \"GridSearchCV\", \"GridSearchCV\", \"GridSearchCV\", \"GridSearchCV\", \"GridSearchCV\", \"GridSearchCV\", \"GridSearchCV\", \"GridSearchCV\", \"GridSearchCV\", \"GridSearchCV\", \"GridSearchCV\", \"GridSearchCV\", \"GridSearchCV\", \"GridSearchCV\", \"GridSearchCV\", \"GridSearchCV\", \"GridSearchCV\", \"GridSearchCV\", \"GridSearchCV\", \"GridSearchCV\", \"GridSearchCV\", \"GridSearchCV\", \"GridSearchCV\", \"GridSearchCV\", \"GridSearchCV\", \"GridSearchCV\", \"GridSearchCV\", \"GridSearchCV\", \"GridSearchCV\", \"GridSearchCV\", \"GridSearchCV\", \"GridSearchCV\", \"GridSearchCV\", \"GridSearchCV\", \"GridSearchCV\", \"GridSearchCV\", \"GridSearchCV\", \"GridSearchCV\", \"GridSearchCV\", \"GridSearchCV\", \"GridSearchCV\"], \"legendgroup\": \"GridSearchCV\", \"line\": {\"color\": \"#46bac2\", \"dash\": \"solid\", \"width\": 2}, \"mode\": \"lines\", \"name\": \"GridSearchCV\", \"opacity\": 1, \"orientation\": \"v\", \"showlegend\": false, \"type\": \"scatter\", \"x\": [0.0, 0.01, 0.02, 0.03, 0.04, 0.05, 0.06, 0.07, 0.08, 0.09, 0.1, 0.11, 0.12, 0.13, 0.14, 0.15, 0.16, 0.17, 0.18, 0.19, 0.2, 0.21, 0.22, 0.23, 0.24, 0.25, 0.26, 0.27, 0.28, 0.29, 0.3, 0.31, 0.32, 0.33, 0.34, 0.35000000000000003, 0.36, 0.37, 0.38, 0.39, 0.4, 0.41000000000000003, 0.42, 0.43, 0.44, 0.45, 0.46, 0.47000000000000003, 0.48, 0.49, 0.5, 0.51, 0.52, 0.53, 0.54, 0.55, 0.56, 0.5700000000000001, 0.58, 0.59, 0.6, 0.61, 0.62, 0.63, 0.64, 0.65, 0.66, 0.67, 0.68, 0.6900000000000001, 0.7000000000000001, 0.71, 0.72, 0.73, 0.74, 0.75, 0.76, 0.77, 0.78, 0.79, 0.8, 0.81, 0.8200000000000001, 0.8300000000000001, 0.84, 0.85, 0.86, 0.87, 0.88, 0.89, 0.9, 0.91, 0.92, 0.93, 0.9400000000000001, 0.9500000000000001, 0.96, 0.97, 0.98, 0.99, 1.0], \"xaxis\": \"x2\", \"y\": [0.3361129416678951, 0.3361129416678951, 0.3361129416678951, 0.3361129416678951, 0.3361129416678951, 0.3361129416678951, 0.3359462750012284, 0.33052106836654965, 0.33052106836654965, 0.33052106836654965, 0.33052106836654965, 0.33052106836654965, 0.33052106836654965, 0.33052106836654965, 0.33052106836654965, 0.3300210683665497, 0.3300210683665497, 0.3300210683665497, 0.32390295514347645, 0.30888936753708435, 0.3057529218476974, 0.30591958851436407, 0.3067529218476974, 0.3067529218476974, 0.3067529218476974, 0.30584223808701366, 0.3057172380870136, 0.3057172380870136, 0.3047172380870136, 0.3047172380870136, 0.3047172380870136, 0.3047172380870136, 0.3047172380870136, 0.3047172380870136, 0.30521723808701356, 0.30521723808701356, 0.2981428410463712, 0.2981428410463712, 0.2967408802620573, 0.2955702453414224, 0.29502857867475574, 0.29502857867475574, 0.2948619120080891, 0.2948619120080891, 0.2946952453414224, 0.2946952453414224, 0.29386191200808903, 0.29386191200808903, 0.29386191200808903, 0.29386191200808903, 0.29386191200808903, 0.29386191200808903, 0.2938063564525335, 0.2938063564525335, 0.29099497025531124, 0.29132830358864464, 0.29132830358864464, 0.29132830358864464, 0.29132830358864464, 0.291161636921978, 0.291161636921978, 0.291161636921978, 0.291161636921978, 0.28737817038851143, 0.28737817038851143, 0.28737817038851143, 0.28737817038851143, 0.28737817038851143, 0.28737817038851143, 0.28737817038851143, 0.28737817038851143, 0.28737817038851143, 0.28721150372184473, 0.28721150372184473, 0.28721150372184473, 0.28721150372184473, 0.28721150372184473, 0.28721150372184473, 0.28721150372184473, 0.28721150372184473, 0.28441609518513195, 0.2777924255340007, 0.2778378800794552, 0.2778378800794552, 0.2780045467461219, 0.2780045467461219, 0.27638320862754107, 0.27638320862754107, 0.27638320862754107, 0.27638320862754107, 0.27638320862754107, 0.27638320862754107, 0.27638320862754107, 0.27638320862754107, 0.27638320862754107, 0.27638320862754107, 0.27638320862754107, 0.27572209751642995, 0.27572209751642995, 0.2743201367321163, 0.2743201367321163], \"yaxis\": \"y2\"}],                        {\"annotations\": [{\"font\": {\"size\": 13}, \"showarrow\": false, \"text\": \"from_netherlands\", \"x\": 0.2375, \"xanchor\": \"center\", \"xref\": \"paper\", \"y\": 0.26666666666666666, \"yanchor\": \"bottom\", \"yref\": \"paper\"}, {\"font\": {\"size\": 13}, \"showarrow\": false, \"text\": \"from_newyork\", \"x\": 0.7625, \"xanchor\": \"center\", \"xref\": \"paper\", \"y\": 0.26666666666666666, \"yanchor\": \"bottom\", \"yref\": \"paper\"}, {\"font\": {\"size\": 13}, \"showarrow\": false, \"text\": \"Lymphocytes\", \"x\": 0.2375, \"xanchor\": \"center\", \"xref\": \"paper\", \"y\": 0.6333333333333333, \"yanchor\": \"bottom\", \"yref\": \"paper\"}, {\"font\": {\"size\": 13}, \"showarrow\": false, \"text\": \"from_china\", \"x\": 0.7625, \"xanchor\": \"center\", \"xref\": \"paper\", \"y\": 0.6333333333333333, \"yanchor\": \"bottom\", \"yref\": \"paper\"}, {\"font\": {\"size\": 13}, \"showarrow\": false, \"text\": \"LDH\", \"x\": 0.2375, \"xanchor\": \"center\", \"xref\": \"paper\", \"y\": 1.0, \"yanchor\": \"bottom\", \"yref\": \"paper\"}, {\"font\": {\"size\": 13}, \"showarrow\": false, \"text\": \"CRP\", \"x\": 0.7625, \"xanchor\": \"center\", \"xref\": \"paper\", \"y\": 1.0, \"yanchor\": \"bottom\", \"yref\": \"paper\"}, {\"font\": {\"size\": 13}, \"showarrow\": false, \"text\": \"prediction\", \"textangle\": -90, \"x\": -0.07, \"xref\": \"paper\", \"y\": 0.5, \"yref\": \"paper\"}], \"font\": {\"color\": \"#371ea3\"}, \"height\": 1169, \"hovermode\": \"x unified\", \"legend\": {\"font\": {\"size\": 11}, \"itemsizing\": \"constant\", \"orientation\": \"h\", \"title\": {\"font\": {\"size\": 12}, \"text\": \"label\"}, \"tracegroupgap\": 0, \"x\": 1, \"xanchor\": \"right\", \"y\": 1.0256629597946962, \"yanchor\": \"bottom\"}, \"margin\": {\"b\": 71, \"r\": 30, \"t\": 78}, \"template\": {\"data\": {\"scatter\": [{\"type\": \"scatter\"}]}}, \"title\": {\"font\": {\"size\": 16}, \"text\": \"Aggregated Profiles\", \"x\": 0.15}, \"xaxis\": {\"anchor\": \"y\", \"automargin\": true, \"domain\": [0.0, 0.475], \"fixedrange\": true, \"gridwidth\": 2, \"showticklabels\": true, \"tickcolor\": \"white\", \"ticklen\": 3, \"ticks\": \"outside\", \"title\": {\"text\": \"\"}, \"type\": \"linear\", \"zeroline\": false}, \"xaxis2\": {\"anchor\": \"y2\", \"automargin\": true, \"domain\": [0.525, 1.0], \"fixedrange\": true, \"gridwidth\": 2, \"showticklabels\": true, \"tickcolor\": \"white\", \"ticklen\": 3, \"ticks\": \"outside\", \"title\": {\"text\": \"\"}, \"type\": \"linear\", \"zeroline\": false}, \"xaxis3\": {\"anchor\": \"y3\", \"automargin\": true, \"domain\": [0.0, 0.475], \"fixedrange\": true, \"gridwidth\": 2, \"showticklabels\": true, \"tickcolor\": \"white\", \"ticklen\": 3, \"ticks\": \"outside\", \"title\": {\"text\": \"\"}, \"type\": \"linear\", \"zeroline\": false}, \"xaxis4\": {\"anchor\": \"y4\", \"automargin\": true, \"domain\": [0.525, 1.0], \"fixedrange\": true, \"gridwidth\": 2, \"showticklabels\": true, \"tickcolor\": \"white\", \"ticklen\": 3, \"ticks\": \"outside\", \"title\": {\"text\": \"\"}, \"type\": \"linear\", \"zeroline\": false}, \"xaxis5\": {\"anchor\": \"y5\", \"automargin\": true, \"domain\": [0.0, 0.475], \"fixedrange\": true, \"gridwidth\": 2, \"showticklabels\": true, \"tickcolor\": \"white\", \"ticklen\": 3, \"ticks\": \"outside\", \"title\": {\"text\": \"\"}, \"type\": \"linear\", \"zeroline\": false}, \"xaxis6\": {\"anchor\": \"y6\", \"automargin\": true, \"domain\": [0.525, 1.0], \"fixedrange\": true, \"gridwidth\": 2, \"showticklabels\": true, \"tickcolor\": \"white\", \"ticklen\": 3, \"ticks\": \"outside\", \"title\": {\"text\": \"\"}, \"type\": \"linear\", \"zeroline\": false}, \"yaxis\": {\"anchor\": \"x\", \"automargin\": true, \"domain\": [0.0, 0.26666666666666666], \"fixedrange\": true, \"gridwidth\": 2, \"range\": [0.11852777777777782, 0.9721944444444448], \"tickcolor\": \"white\", \"ticklen\": 3, \"ticks\": \"outside\", \"title\": {\"text\": \"\"}, \"type\": \"linear\", \"zeroline\": false}, \"yaxis2\": {\"anchor\": \"x2\", \"automargin\": true, \"domain\": [0.0, 0.26666666666666666], \"fixedrange\": true, \"gridwidth\": 2, \"matches\": \"y\", \"range\": [0.11852777777777782, 0.9721944444444448], \"showticklabels\": false, \"tickcolor\": \"white\", \"ticklen\": 3, \"ticks\": \"outside\", \"title\": {\"text\": \"\"}, \"type\": \"linear\", \"zeroline\": false}, \"yaxis3\": {\"anchor\": \"x3\", \"automargin\": true, \"domain\": [0.36666666666666664, 0.6333333333333333], \"fixedrange\": true, \"gridwidth\": 2, \"matches\": \"y\", \"range\": [0.11852777777777782, 0.9721944444444448], \"tickcolor\": \"white\", \"ticklen\": 3, \"ticks\": \"outside\", \"title\": {\"text\": \"\"}, \"type\": \"linear\", \"zeroline\": false}, \"yaxis4\": {\"anchor\": \"x4\", \"automargin\": true, \"domain\": [0.36666666666666664, 0.6333333333333333], \"fixedrange\": true, \"gridwidth\": 2, \"matches\": \"y\", \"range\": [0.11852777777777782, 0.9721944444444448], \"showticklabels\": false, \"tickcolor\": \"white\", \"ticklen\": 3, \"ticks\": \"outside\", \"title\": {\"text\": \"\"}, \"type\": \"linear\", \"zeroline\": false}, \"yaxis5\": {\"anchor\": \"x5\", \"automargin\": true, \"domain\": [0.7333333333333333, 1.0], \"fixedrange\": true, \"gridwidth\": 2, \"matches\": \"y\", \"range\": [0.11852777777777782, 0.9721944444444448], \"tickcolor\": \"white\", \"ticklen\": 3, \"ticks\": \"outside\", \"title\": {\"text\": \"\"}, \"type\": \"linear\", \"zeroline\": false}, \"yaxis6\": {\"anchor\": \"x6\", \"automargin\": true, \"domain\": [0.7333333333333333, 1.0], \"fixedrange\": true, \"gridwidth\": 2, \"matches\": \"y\", \"range\": [0.11852777777777782, 0.9721944444444448], \"showticklabels\": false, \"tickcolor\": \"white\", \"ticklen\": 3, \"ticks\": \"outside\", \"title\": {\"text\": \"\"}, \"type\": \"linear\", \"zeroline\": false}},                        {\"displaylogo\": false, \"staticPlot\": false, \"toImageButtonOptions\": {\"height\": null, \"width\": null}, \"modeBarButtonsToRemove\": [\"sendDataToCloud\", \"lasso2d\", \"autoScale2d\", \"select2d\", \"zoom2d\", \"pan2d\", \"zoomIn2d\", \"zoomOut2d\", \"resetScale2d\", \"toggleSpikelines\", \"hoverCompareCartesian\", \"hoverClosestCartesian\"], \"responsive\": true}                    ).then(function(){\n",
       "                            \n",
       "var gd = document.getElementById('9490a099-665b-4b8f-9261-e73163d68022');\n",
       "var x = new MutationObserver(function (mutations, observer) {{\n",
       "        var display = window.getComputedStyle(gd).display;\n",
       "        if (!display || display === 'none') {{\n",
       "            console.log([gd, 'removed!']);\n",
       "            Plotly.purge(gd);\n",
       "            observer.disconnect();\n",
       "        }}\n",
       "}});\n",
       "\n",
       "// Listen for the removal of the full notebook cells\n",
       "var notebookContainer = gd.closest('#notebook-container');\n",
       "if (notebookContainer) {{\n",
       "    x.observe(notebookContainer, {childList: true});\n",
       "}}\n",
       "\n",
       "// Listen for the clearing of the current output cell\n",
       "var outputEl = gd.closest('.output');\n",
       "if (outputEl) {{\n",
       "    x.observe(outputEl, {childList: true});\n",
       "}}\n",
       "\n",
       "                        })                };                });            </script>        </div>"
      ]
     },
     "metadata": {},
     "output_type": "display_data"
    }
   ],
   "source": [
    "exp.model_profile().plot()"
   ]
  },
  {
   "cell_type": "code",
   "execution_count": 182,
   "metadata": {
    "scrolled": false
   },
   "outputs": [
    {
     "data": {
      "image/png": "[encoded data removed]",
      "text/plain": [
       "<Figure size 1152x720 with 1 Axes>"
      ]
     },
     "metadata": {},
     "output_type": "display_data"
    }
   ],
   "source": [
    "sur = exp.model_surrogate(max_vars=4, max_depth=3)\n",
    "sur.plot()"
   ]
  },
  {
   "cell_type": "code",
   "execution_count": null,
   "metadata": {},
   "outputs": [],
   "source": []
  }
 ],
 "metadata": {
  "kernelspec": {
   "name": "python3612jvsc74a57bd0121bb12eb50454b478a1787db69d0ed89ec68177d22fb32168f681b5ccd85517",
   "display_name": "Python 3.6.12 64-bit ('wum-projekt1-presurvcovid19': conda)"
  },
  "language_info": {
   "codemirror_mode": {
    "name": "ipython",
    "version": 3
   },
   "file_extension": ".py",
   "mimetype": "text/x-python",
   "name": "python",
   "nbconvert_exporter": "python",
   "pygments_lexer": "ipython3",
   "version": "3.6.12"
  }
 },
 "nbformat": 4,
 "nbformat_minor": 5
}