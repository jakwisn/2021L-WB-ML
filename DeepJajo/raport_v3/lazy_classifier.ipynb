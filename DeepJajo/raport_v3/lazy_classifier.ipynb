{
 "cells": [
  {
   "source": [
    "import pandas as pd \n",
    "import numpy as np\n",
    "from sklearn.model_selection import train_test_split\n",
    "import lazypredict\n",
    "from lazypredict.Supervised import LazyClassifier"
   ],
   "cell_type": "code",
   "metadata": {},
   "execution_count": null,
   "outputs": []
  },
  {
   "cell_type": "markdown",
   "id": "moving-washer",
   "metadata": {},
   "source": [
    "### The netherlands"
   ]
  },
  {
   "source": [
    "netherlands = pd.read_excel('../data/42256_2020_253_MOESM1_ESM.xlsx', engine = 'openpyxl')\n",
    "\n",
    "df = netherlands[[\"Age\", \"Gender\", \"LD\", \"CRP\", \"Percentage lymphocytes\", \"Survival/death\"]]\n",
    "df = df.assign(death = np.where(df[\"Survival/death\"] == 'Alive', 0, 1))\n",
    "df = df[[\"Age\", \"Gender\", \"LD\", \"CRP\", \"Percentage lymphocytes\", \"death\"]]\n",
    "X = df.drop(\"death\", axis = 1)\n",
    "y_netherlands = df.death\n",
    "netherlands = df\n",
    "y_netherlands = df.death\n",
    "netherlands = netherlands.iloc[:,2:-2]\n",
    "netherlands['death'] = y_netherlands\n",
    "netherlands['from'] = 'netherlands'\n",
    "netherlands = netherlands.rename(columns = { 'Percentage lymphocytes':'Lymphocytes', 'LD':'LDH'})"
   ],
   "cell_type": "code",
   "metadata": {},
   "execution_count": null,
   "outputs": []
  },
  {
   "cell_type": "markdown",
   "id": "dynamic-girlfriend",
   "metadata": {},
   "source": [
    "### China"
   ]
  },
  {
   "cell_type": "code",
   "execution_count": 41,
   "id": "square-lexington",
   "metadata": {},
   "outputs": [],
   "source": [
    "import sys\n",
    "sys.path.append(\"..\")\n",
    "china = pd.read_excel('../data/time_series_375_prerpocess_en.xlsx', engine = 'openpyxl')\n",
    "\n",
    "from raport_v1.utils_features_selection import data_read_and_split\n",
    "X_data_all_features, Y_data, x_col = data_read_and_split()\n",
    "cheng = {'乳酸脱氢酶':'LDH', '超敏C反应蛋白':'CRP', '淋巴细胞(%)':'Lymphocytes'}\n",
    "blood_df = X_data_all_features[list(cheng.keys())]\n",
    "blood_df.columns = list(cheng.values())\n",
    "china = blood_df\n",
    "china['death'] = Y_data\n",
    "china['from'] = 'china'\n",
    "china = china.reset_index(drop = True)"
   ]
  },
  {
   "cell_type": "markdown",
   "id": "pleased-medline",
   "metadata": {},
   "source": [
    "### NY"
   ]
  },
  {
   "cell_type": "code",
   "execution_count": 43,
   "id": "exposed-worcester",
   "metadata": {},
   "outputs": [],
   "source": [
    "ny = pd.read_csv('~/Downloads/Yan_reply_First_last_wtime.csv')\n",
    "y_ny = ny.iloc[:,1]\n",
    "newyork = ny.iloc[:,[5,6,7]]\n",
    "newyork = newyork.rename(columns = {'First_LDH':'LDH',\n",
    "                                      'First_CRP':'CRP',\n",
    "                                      'First_Lymph':'Lymphocytes'})\n",
    "newyork['from'] = 'newyork'\n",
    "newyork['death'] = y_ny"
   ]
  },
  {
   "source": [
    "## Combining together"
   ],
   "cell_type": "markdown",
   "metadata": {}
  },
  {
   "cell_type": "code",
   "execution_count": 44,
   "id": "velvet-referral",
   "metadata": {},
   "outputs": [],
   "source": [
    "nations = china.append([newyork, netherlands])\n",
    "nations['death'] = nations.death.astype('int')\n",
    "nations = nations.reset_index(drop=True)\n",
    "# nations.to_csv(\"all.csv\")"
   ]
  },
  {
   "cell_type": "code",
   "execution_count": 45,
   "id": "caring-planner",
   "metadata": {},
   "outputs": [],
   "source": [
    "# nations = pd.read_csv('all.csv')\n",
    "X = nations[['LDH','CRP','Lymphocytes']]\n",
    "X_train, X_test, y_train, y_test = train_test_split(X, nations.death, test_size = 0.25, random_state = 42)\n",
    "\n",
    "clf = LazyClassifier(verbose=0,ignore_warnings=True, custom_metric=None)\n",
    "models,predictions = clf.fit(X_train, X_test, y_train, y_test)\n",
    "models.to_csv(\"LazyClassifier_results.csv\")\n",
    "\n",
    "print(models)"
   ]
  }
 ],
 "metadata": {
  "kernelspec": {
   "name": "python3612jvsc74a57bd0121bb12eb50454b478a1787db69d0ed89ec68177d22fb32168f681b5ccd85517",
   "display_name": "Python 3.6.12 64-bit ('wum-projekt1-presurvcovid19': conda)"
  },
  "language_info": {
   "codemirror_mode": {
    "name": "ipython",
    "version": 3
   },
   "file_extension": ".py",
   "mimetype": "text/x-python",
   "name": "python",
   "nbconvert_exporter": "python",
   "pygments_lexer": "ipython3",
   "version": "3.6.12"
  }
 },
 "nbformat": 4,
 "nbformat_minor": 5
}